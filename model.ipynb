{
 "cells": [
  {
   "cell_type": "code",
   "execution_count": 1,
   "id": "3799f669",
   "metadata": {},
   "outputs": [],
   "source": [
    "import pandas as pd\n",
    "import numpy as np\n",
    "from scipy import stats\n",
    "import matplotlib.pyplot as plt\n",
    "import seaborn as sns"
   ]
  },
  {
   "cell_type": "code",
   "execution_count": 2,
   "id": "df55f038",
   "metadata": {},
   "outputs": [],
   "source": [
    "from sklearn.tree import DecisionTreeRegressor, plot_tree\n",
    "from sklearn.model_selection import train_test_split, cross_val_score, cross_val_predict\n",
    "from sklearn.metrics import mean_squared_error, mean_absolute_error\n",
    "from sklearn.model_selection import GridSearchCV\n",
    "from sklearn.pipeline import Pipeline\n",
    "from sklearn.preprocessing import StandardScaler, Normalizer"
   ]
  },
  {
   "cell_type": "code",
   "execution_count": 3,
   "id": "34665551-2f5e-4f4d-b858-b0b1756338ab",
   "metadata": {},
   "outputs": [],
   "source": [
    "from sklearn.ensemble import RandomForestRegressor, GradientBoostingRegressor\n",
    "from sklearn.linear_model import LinearRegression, Ridge, BayesianRidge\n",
    "from sklearn.svm import SVR\n",
    "from sklearn.neighbors import KNeighborsRegressor"
   ]
  },
  {
   "cell_type": "markdown",
   "id": "4eb2593a-3e07-4c83-b6f1-1e8e1c1604b4",
   "metadata": {},
   "source": [
    "Просмотр набора данных"
   ]
  },
  {
   "cell_type": "code",
   "execution_count": 4,
   "id": "3c8b4969",
   "metadata": {},
   "outputs": [
    {
     "data": {
      "text/html": [
       "<div>\n",
       "<style scoped>\n",
       "    .dataframe tbody tr th:only-of-type {\n",
       "        vertical-align: middle;\n",
       "    }\n",
       "\n",
       "    .dataframe tbody tr th {\n",
       "        vertical-align: top;\n",
       "    }\n",
       "\n",
       "    .dataframe thead th {\n",
       "        text-align: right;\n",
       "    }\n",
       "</style>\n",
       "<table border=\"1\" class=\"dataframe\">\n",
       "  <thead>\n",
       "    <tr style=\"text-align: right;\">\n",
       "      <th></th>\n",
       "      <th>Комнатность</th>\n",
       "      <th>Ремонт</th>\n",
       "      <th>Балкон</th>\n",
       "      <th>Материал окон</th>\n",
       "      <th>Серия</th>\n",
       "      <th>Год постройки</th>\n",
       "      <th>Стены</th>\n",
       "      <th>url</th>\n",
       "      <th>Адрес</th>\n",
       "      <th>наземный паркинг</th>\n",
       "      <th>...</th>\n",
       "      <th>культуры</th>\n",
       "      <th>пешеходные бульвары</th>\n",
       "      <th>дороги</th>\n",
       "      <th>трассы</th>\n",
       "      <th>автомобильные мосты</th>\n",
       "      <th>Высота потолков</th>\n",
       "      <th>Общая площадь</th>\n",
       "      <th>этаж</th>\n",
       "      <th>всего этажей</th>\n",
       "      <th>цена</th>\n",
       "    </tr>\n",
       "    <tr>\n",
       "      <th>Код объекта</th>\n",
       "      <th></th>\n",
       "      <th></th>\n",
       "      <th></th>\n",
       "      <th></th>\n",
       "      <th></th>\n",
       "      <th></th>\n",
       "      <th></th>\n",
       "      <th></th>\n",
       "      <th></th>\n",
       "      <th></th>\n",
       "      <th></th>\n",
       "      <th></th>\n",
       "      <th></th>\n",
       "      <th></th>\n",
       "      <th></th>\n",
       "      <th></th>\n",
       "      <th></th>\n",
       "      <th></th>\n",
       "      <th></th>\n",
       "      <th></th>\n",
       "      <th></th>\n",
       "    </tr>\n",
       "  </thead>\n",
       "  <tbody>\n",
       "    <tr>\n",
       "      <th>5757236</th>\n",
       "      <td>1</td>\n",
       "      <td>Улучшенная черновая отделка</td>\n",
       "      <td>Есть балкон</td>\n",
       "      <td>Пластиковые</td>\n",
       "      <td>Инд</td>\n",
       "      <td>2017.0</td>\n",
       "      <td>Панельные</td>\n",
       "      <td>https://ptz.etagi.com//realty/5757236/</td>\n",
       "      <td>Древлянка</td>\n",
       "      <td>1</td>\n",
       "      <td>...</td>\n",
       "      <td>0</td>\n",
       "      <td>0</td>\n",
       "      <td>0</td>\n",
       "      <td>0</td>\n",
       "      <td>0</td>\n",
       "      <td>2.50</td>\n",
       "      <td>30.60</td>\n",
       "      <td>1</td>\n",
       "      <td>5</td>\n",
       "      <td>2390.0</td>\n",
       "    </tr>\n",
       "    <tr>\n",
       "      <th>5535905</th>\n",
       "      <td>1</td>\n",
       "      <td>Косметический ремонт</td>\n",
       "      <td>Нет балкона</td>\n",
       "      <td>Пластиковые</td>\n",
       "      <td>Общ</td>\n",
       "      <td>NaN</td>\n",
       "      <td>Кирпичные</td>\n",
       "      <td>https://ptz.etagi.com//realty/5535905/</td>\n",
       "      <td>Голиковка</td>\n",
       "      <td>0</td>\n",
       "      <td>...</td>\n",
       "      <td>0</td>\n",
       "      <td>0</td>\n",
       "      <td>0</td>\n",
       "      <td>0</td>\n",
       "      <td>0</td>\n",
       "      <td>2.55</td>\n",
       "      <td>18.00</td>\n",
       "      <td>4</td>\n",
       "      <td>5</td>\n",
       "      <td>920.0</td>\n",
       "    </tr>\n",
       "    <tr>\n",
       "      <th>4644398</th>\n",
       "      <td>3</td>\n",
       "      <td>Улучшенная черновая отделка</td>\n",
       "      <td>Есть балкон</td>\n",
       "      <td>Пластиковые</td>\n",
       "      <td>Инд</td>\n",
       "      <td>2021.0</td>\n",
       "      <td>Панельные</td>\n",
       "      <td>https://ptz.etagi.com//realty/4644398/</td>\n",
       "      <td>Древлянка</td>\n",
       "      <td>1</td>\n",
       "      <td>...</td>\n",
       "      <td>0</td>\n",
       "      <td>0</td>\n",
       "      <td>0</td>\n",
       "      <td>0</td>\n",
       "      <td>0</td>\n",
       "      <td>2.70</td>\n",
       "      <td>57.83</td>\n",
       "      <td>3</td>\n",
       "      <td>5</td>\n",
       "      <td>3250.0</td>\n",
       "    </tr>\n",
       "    <tr>\n",
       "      <th>5667276</th>\n",
       "      <td>2</td>\n",
       "      <td>Косметический ремонт</td>\n",
       "      <td>Лоджия</td>\n",
       "      <td>Пластиковые</td>\n",
       "      <td>Инд</td>\n",
       "      <td>2016.0</td>\n",
       "      <td>Монолитные</td>\n",
       "      <td>https://ptz.etagi.com//realty/5667276/</td>\n",
       "      <td>Ключевая</td>\n",
       "      <td>1</td>\n",
       "      <td>...</td>\n",
       "      <td>0</td>\n",
       "      <td>0</td>\n",
       "      <td>0</td>\n",
       "      <td>0</td>\n",
       "      <td>0</td>\n",
       "      <td>2.70</td>\n",
       "      <td>41.20</td>\n",
       "      <td>8</td>\n",
       "      <td>16</td>\n",
       "      <td>3590.0</td>\n",
       "    </tr>\n",
       "    <tr>\n",
       "      <th>4644417</th>\n",
       "      <td>4</td>\n",
       "      <td>Улучшенная черновая отделка</td>\n",
       "      <td>Есть балкон</td>\n",
       "      <td>Пластиковые</td>\n",
       "      <td>Инд</td>\n",
       "      <td>2021.0</td>\n",
       "      <td>Панельные</td>\n",
       "      <td>https://ptz.etagi.com//realty/4644417/</td>\n",
       "      <td>Древлянка</td>\n",
       "      <td>1</td>\n",
       "      <td>...</td>\n",
       "      <td>0</td>\n",
       "      <td>0</td>\n",
       "      <td>0</td>\n",
       "      <td>0</td>\n",
       "      <td>0</td>\n",
       "      <td>2.70</td>\n",
       "      <td>84.00</td>\n",
       "      <td>3</td>\n",
       "      <td>5</td>\n",
       "      <td>4500.0</td>\n",
       "    </tr>\n",
       "    <tr>\n",
       "      <th>...</th>\n",
       "      <td>...</td>\n",
       "      <td>...</td>\n",
       "      <td>...</td>\n",
       "      <td>...</td>\n",
       "      <td>...</td>\n",
       "      <td>...</td>\n",
       "      <td>...</td>\n",
       "      <td>...</td>\n",
       "      <td>...</td>\n",
       "      <td>...</td>\n",
       "      <td>...</td>\n",
       "      <td>...</td>\n",
       "      <td>...</td>\n",
       "      <td>...</td>\n",
       "      <td>...</td>\n",
       "      <td>...</td>\n",
       "      <td>...</td>\n",
       "      <td>...</td>\n",
       "      <td>...</td>\n",
       "      <td>...</td>\n",
       "      <td>...</td>\n",
       "    </tr>\n",
       "    <tr>\n",
       "      <th>4671111</th>\n",
       "      <td>1</td>\n",
       "      <td>Косметический ремонт</td>\n",
       "      <td>Есть балкон</td>\n",
       "      <td>Пластиковые</td>\n",
       "      <td>Инд</td>\n",
       "      <td>2012.0</td>\n",
       "      <td>Панельные</td>\n",
       "      <td>https://ptz.etagi.com//realty/4671111/</td>\n",
       "      <td>Ключевая</td>\n",
       "      <td>1</td>\n",
       "      <td>...</td>\n",
       "      <td>0</td>\n",
       "      <td>0</td>\n",
       "      <td>0</td>\n",
       "      <td>0</td>\n",
       "      <td>0</td>\n",
       "      <td>2.50</td>\n",
       "      <td>36.60</td>\n",
       "      <td>3</td>\n",
       "      <td>5</td>\n",
       "      <td>2900.0</td>\n",
       "    </tr>\n",
       "    <tr>\n",
       "      <th>2886457</th>\n",
       "      <td>4</td>\n",
       "      <td>Улучшенная черновая отделка</td>\n",
       "      <td>Есть балкон</td>\n",
       "      <td>Пластиковые</td>\n",
       "      <td>Инд</td>\n",
       "      <td>2018.0</td>\n",
       "      <td>Монолитные</td>\n",
       "      <td>https://ptz.etagi.com//realty/2886457/</td>\n",
       "      <td>Центр</td>\n",
       "      <td>0</td>\n",
       "      <td>...</td>\n",
       "      <td>0</td>\n",
       "      <td>0</td>\n",
       "      <td>0</td>\n",
       "      <td>0</td>\n",
       "      <td>0</td>\n",
       "      <td>3.00</td>\n",
       "      <td>103.30</td>\n",
       "      <td>9</td>\n",
       "      <td>9</td>\n",
       "      <td>8990.0</td>\n",
       "    </tr>\n",
       "    <tr>\n",
       "      <th>5193363</th>\n",
       "      <td>1</td>\n",
       "      <td>Косметический ремонт</td>\n",
       "      <td>Есть балкон</td>\n",
       "      <td>Пластиковые</td>\n",
       "      <td>Инд</td>\n",
       "      <td>1963.0</td>\n",
       "      <td>Кирпичные</td>\n",
       "      <td>https://ptz.etagi.com//realty/5193363/</td>\n",
       "      <td>Октябрьский</td>\n",
       "      <td>1</td>\n",
       "      <td>...</td>\n",
       "      <td>0</td>\n",
       "      <td>0</td>\n",
       "      <td>0</td>\n",
       "      <td>0</td>\n",
       "      <td>0</td>\n",
       "      <td>2.50</td>\n",
       "      <td>30.60</td>\n",
       "      <td>1</td>\n",
       "      <td>5</td>\n",
       "      <td>2350.0</td>\n",
       "    </tr>\n",
       "    <tr>\n",
       "      <th>2836807</th>\n",
       "      <td>1</td>\n",
       "      <td>Современный ремонт</td>\n",
       "      <td>Есть балкон</td>\n",
       "      <td>Пластиковые</td>\n",
       "      <td>Инд</td>\n",
       "      <td>2014.0</td>\n",
       "      <td>Панельные</td>\n",
       "      <td>https://ptz.etagi.com//realty/2836807/</td>\n",
       "      <td>Октябрьский</td>\n",
       "      <td>1</td>\n",
       "      <td>...</td>\n",
       "      <td>0</td>\n",
       "      <td>0</td>\n",
       "      <td>0</td>\n",
       "      <td>0</td>\n",
       "      <td>0</td>\n",
       "      <td>2.50</td>\n",
       "      <td>51.00</td>\n",
       "      <td>3</td>\n",
       "      <td>9</td>\n",
       "      <td>4100.0</td>\n",
       "    </tr>\n",
       "    <tr>\n",
       "      <th>2584308</th>\n",
       "      <td>3</td>\n",
       "      <td>Требует ремонта</td>\n",
       "      <td>Есть балкон</td>\n",
       "      <td>Деревянные</td>\n",
       "      <td>Инд</td>\n",
       "      <td>1981.0</td>\n",
       "      <td>Панельные</td>\n",
       "      <td>https://ptz.etagi.com//realty/2584308/</td>\n",
       "      <td>Сулажгора</td>\n",
       "      <td>1</td>\n",
       "      <td>...</td>\n",
       "      <td>0</td>\n",
       "      <td>0</td>\n",
       "      <td>0</td>\n",
       "      <td>0</td>\n",
       "      <td>0</td>\n",
       "      <td>2.50</td>\n",
       "      <td>59.10</td>\n",
       "      <td>2</td>\n",
       "      <td>5</td>\n",
       "      <td>2800.0</td>\n",
       "    </tr>\n",
       "  </tbody>\n",
       "</table>\n",
       "<p>736 rows × 32 columns</p>\n",
       "</div>"
      ],
      "text/plain": [
       "             Комнатность                       Ремонт       Балкон  \\\n",
       "Код объекта                                                          \n",
       "5757236                1  Улучшенная черновая отделка  Есть балкон   \n",
       "5535905                1         Косметический ремонт  Нет балкона   \n",
       "4644398                3  Улучшенная черновая отделка  Есть балкон   \n",
       "5667276                2         Косметический ремонт       Лоджия   \n",
       "4644417                4  Улучшенная черновая отделка  Есть балкон   \n",
       "...                  ...                          ...          ...   \n",
       "4671111                1         Косметический ремонт  Есть балкон   \n",
       "2886457                4  Улучшенная черновая отделка  Есть балкон   \n",
       "5193363                1         Косметический ремонт  Есть балкон   \n",
       "2836807                1           Современный ремонт  Есть балкон   \n",
       "2584308                3              Требует ремонта  Есть балкон   \n",
       "\n",
       "            Материал окон Серия  Год постройки       Стены  \\\n",
       "Код объекта                                                  \n",
       "5757236       Пластиковые   Инд         2017.0   Панельные   \n",
       "5535905       Пластиковые   Общ            NaN   Кирпичные   \n",
       "4644398       Пластиковые   Инд         2021.0   Панельные   \n",
       "5667276       Пластиковые   Инд         2016.0  Монолитные   \n",
       "4644417       Пластиковые   Инд         2021.0   Панельные   \n",
       "...                   ...   ...            ...         ...   \n",
       "4671111       Пластиковые   Инд         2012.0   Панельные   \n",
       "2886457       Пластиковые   Инд         2018.0  Монолитные   \n",
       "5193363       Пластиковые   Инд         1963.0   Кирпичные   \n",
       "2836807       Пластиковые   Инд         2014.0   Панельные   \n",
       "2584308        Деревянные   Инд         1981.0   Панельные   \n",
       "\n",
       "                                                url        Адрес  \\\n",
       "Код объекта                                                        \n",
       "5757236      https://ptz.etagi.com//realty/5757236/    Древлянка   \n",
       "5535905      https://ptz.etagi.com//realty/5535905/    Голиковка   \n",
       "4644398      https://ptz.etagi.com//realty/4644398/    Древлянка   \n",
       "5667276      https://ptz.etagi.com//realty/5667276/     Ключевая   \n",
       "4644417      https://ptz.etagi.com//realty/4644417/    Древлянка   \n",
       "...                                             ...          ...   \n",
       "4671111      https://ptz.etagi.com//realty/4671111/     Ключевая   \n",
       "2886457      https://ptz.etagi.com//realty/2886457/        Центр   \n",
       "5193363      https://ptz.etagi.com//realty/5193363/  Октябрьский   \n",
       "2836807      https://ptz.etagi.com//realty/2836807/  Октябрьский   \n",
       "2584308      https://ptz.etagi.com//realty/2584308/    Сулажгора   \n",
       "\n",
       "             наземный паркинг  ...  культуры  пешеходные бульвары  дороги  \\\n",
       "Код объекта                    ...                                          \n",
       "5757236                     1  ...         0                    0       0   \n",
       "5535905                     0  ...         0                    0       0   \n",
       "4644398                     1  ...         0                    0       0   \n",
       "5667276                     1  ...         0                    0       0   \n",
       "4644417                     1  ...         0                    0       0   \n",
       "...                       ...  ...       ...                  ...     ...   \n",
       "4671111                     1  ...         0                    0       0   \n",
       "2886457                     0  ...         0                    0       0   \n",
       "5193363                     1  ...         0                    0       0   \n",
       "2836807                     1  ...         0                    0       0   \n",
       "2584308                     1  ...         0                    0       0   \n",
       "\n",
       "             трассы  автомобильные мосты Высота потолков Общая площадь этаж  \\\n",
       "Код объекта                                                                   \n",
       "5757236           0                    0            2.50         30.60    1   \n",
       "5535905           0                    0            2.55         18.00    4   \n",
       "4644398           0                    0            2.70         57.83    3   \n",
       "5667276           0                    0            2.70         41.20    8   \n",
       "4644417           0                    0            2.70         84.00    3   \n",
       "...             ...                  ...             ...           ...  ...   \n",
       "4671111           0                    0            2.50         36.60    3   \n",
       "2886457           0                    0            3.00        103.30    9   \n",
       "5193363           0                    0            2.50         30.60    1   \n",
       "2836807           0                    0            2.50         51.00    3   \n",
       "2584308           0                    0            2.50         59.10    2   \n",
       "\n",
       "             всего этажей    цена  \n",
       "Код объекта                        \n",
       "5757236                 5  2390.0  \n",
       "5535905                 5   920.0  \n",
       "4644398                 5  3250.0  \n",
       "5667276                16  3590.0  \n",
       "4644417                 5  4500.0  \n",
       "...                   ...     ...  \n",
       "4671111                 5  2900.0  \n",
       "2886457                 9  8990.0  \n",
       "5193363                 5  2350.0  \n",
       "2836807                 9  4100.0  \n",
       "2584308                 5  2800.0  \n",
       "\n",
       "[736 rows x 32 columns]"
      ]
     },
     "execution_count": 4,
     "metadata": {},
     "output_type": "execute_result"
    }
   ],
   "source": [
    "CLEARED_PATH = './flats_cleared.csv'\n",
    "df = pd.read_csv(CLEARED_PATH, index_col='Код объекта')\n",
    "df"
   ]
  },
  {
   "cell_type": "markdown",
   "id": "ec176036-5aa5-43fe-bad6-680fd7b44f0d",
   "metadata": {},
   "source": [
    "Распределение цен"
   ]
  },
  {
   "cell_type": "code",
   "execution_count": 5,
   "id": "b07f1dab-337d-4f88-bd47-fcd78c672eeb",
   "metadata": {},
   "outputs": [
    {
     "data": {
      "text/plain": [
       "<seaborn.axisgrid.FacetGrid at 0x7f62f845e640>"
      ]
     },
     "execution_count": 5,
     "metadata": {},
     "output_type": "execute_result"
    },
    {
     "data": {
      "image/png": "[encoded data removed]",
      "text/plain": [
       "<Figure size 360x360 with 1 Axes>"
      ]
     },
     "metadata": {
      "needs_background": "light"
     },
     "output_type": "display_data"
    }
   ],
   "source": [
    "sns.displot(df['цена'])"
   ]
  },
  {
   "cell_type": "markdown",
   "id": "64fb27fe-3179-4f3f-a9fe-b5be81caa265",
   "metadata": {},
   "source": [
    "Вывод \"пустых\" данных в процентном соотношении"
   ]
  },
  {
   "cell_type": "code",
   "execution_count": 6,
   "id": "8b70215c",
   "metadata": {},
   "outputs": [
    {
     "data": {
      "text/plain": [
       "Комнатность               0.000000\n",
       "Ремонт                    0.000000\n",
       "Балкон                    0.000000\n",
       "Материал окон             0.000000\n",
       "Серия                     0.000000\n",
       "Год постройки            22.554348\n",
       "Стены                     0.000000\n",
       "url                       0.000000\n",
       "Адрес                     0.000000\n",
       "наземный паркинг          0.000000\n",
       "гостевой паркинг          0.000000\n",
       "парковка отсутствует      0.000000\n",
       "подземный паркинг         0.000000\n",
       "гараж во дворе            0.000000\n",
       "парковка                  0.000000\n",
       "Двор                      0.000000\n",
       "Железная дверь            0.000000\n",
       "Счетчик воды              0.000000\n",
       "во двор                   0.000000\n",
       "на детскую площадку       0.000000\n",
       "стены соседних домов      0.000000\n",
       "памятники архитектуры     0.000000\n",
       "культуры                  0.000000\n",
       "пешеходные бульвары       0.000000\n",
       "дороги                    0.000000\n",
       "трассы                    0.000000\n",
       "автомобильные мосты       0.000000\n",
       "Высота потолков           0.135870\n",
       "Общая площадь             0.000000\n",
       "этаж                      0.000000\n",
       "всего этажей              0.000000\n",
       "цена                      0.000000\n",
       "dtype: float64"
      ]
     },
     "execution_count": 6,
     "metadata": {},
     "output_type": "execute_result"
    }
   ],
   "source": [
    "df.isnull().mean() * 100"
   ]
  },
  {
   "cell_type": "markdown",
   "id": "e2e03274",
   "metadata": {},
   "source": [
    "## Some insight"
   ]
  },
  {
   "cell_type": "markdown",
   "id": "71deed41-67b4-4dec-a5f0-a79b383c58d9",
   "metadata": {},
   "source": [
    "удаление url-адресов"
   ]
  },
  {
   "cell_type": "code",
   "execution_count": 7,
   "id": "4e42ef17",
   "metadata": {},
   "outputs": [
    {
     "data": {
      "text/html": [
       "<div>\n",
       "<style scoped>\n",
       "    .dataframe tbody tr th:only-of-type {\n",
       "        vertical-align: middle;\n",
       "    }\n",
       "\n",
       "    .dataframe tbody tr th {\n",
       "        vertical-align: top;\n",
       "    }\n",
       "\n",
       "    .dataframe thead th {\n",
       "        text-align: right;\n",
       "    }\n",
       "</style>\n",
       "<table border=\"1\" class=\"dataframe\">\n",
       "  <thead>\n",
       "    <tr style=\"text-align: right;\">\n",
       "      <th></th>\n",
       "      <th>Комнатность</th>\n",
       "      <th>Ремонт</th>\n",
       "      <th>Балкон</th>\n",
       "      <th>Материал окон</th>\n",
       "      <th>Серия</th>\n",
       "      <th>Год постройки</th>\n",
       "      <th>Стены</th>\n",
       "      <th>Адрес</th>\n",
       "      <th>наземный паркинг</th>\n",
       "      <th>гостевой паркинг</th>\n",
       "      <th>...</th>\n",
       "      <th>культуры</th>\n",
       "      <th>пешеходные бульвары</th>\n",
       "      <th>дороги</th>\n",
       "      <th>трассы</th>\n",
       "      <th>автомобильные мосты</th>\n",
       "      <th>Высота потолков</th>\n",
       "      <th>Общая площадь</th>\n",
       "      <th>этаж</th>\n",
       "      <th>всего этажей</th>\n",
       "      <th>цена</th>\n",
       "    </tr>\n",
       "    <tr>\n",
       "      <th>Код объекта</th>\n",
       "      <th></th>\n",
       "      <th></th>\n",
       "      <th></th>\n",
       "      <th></th>\n",
       "      <th></th>\n",
       "      <th></th>\n",
       "      <th></th>\n",
       "      <th></th>\n",
       "      <th></th>\n",
       "      <th></th>\n",
       "      <th></th>\n",
       "      <th></th>\n",
       "      <th></th>\n",
       "      <th></th>\n",
       "      <th></th>\n",
       "      <th></th>\n",
       "      <th></th>\n",
       "      <th></th>\n",
       "      <th></th>\n",
       "      <th></th>\n",
       "      <th></th>\n",
       "    </tr>\n",
       "  </thead>\n",
       "  <tbody>\n",
       "    <tr>\n",
       "      <th>5757236</th>\n",
       "      <td>1</td>\n",
       "      <td>Улучшенная черновая отделка</td>\n",
       "      <td>Есть балкон</td>\n",
       "      <td>Пластиковые</td>\n",
       "      <td>Инд</td>\n",
       "      <td>2017.0</td>\n",
       "      <td>Панельные</td>\n",
       "      <td>Древлянка</td>\n",
       "      <td>1</td>\n",
       "      <td>0</td>\n",
       "      <td>...</td>\n",
       "      <td>0</td>\n",
       "      <td>0</td>\n",
       "      <td>0</td>\n",
       "      <td>0</td>\n",
       "      <td>0</td>\n",
       "      <td>2.50</td>\n",
       "      <td>30.60</td>\n",
       "      <td>1</td>\n",
       "      <td>5</td>\n",
       "      <td>2390.0</td>\n",
       "    </tr>\n",
       "    <tr>\n",
       "      <th>5535905</th>\n",
       "      <td>1</td>\n",
       "      <td>Косметический ремонт</td>\n",
       "      <td>Нет балкона</td>\n",
       "      <td>Пластиковые</td>\n",
       "      <td>Общ</td>\n",
       "      <td>NaN</td>\n",
       "      <td>Кирпичные</td>\n",
       "      <td>Голиковка</td>\n",
       "      <td>0</td>\n",
       "      <td>1</td>\n",
       "      <td>...</td>\n",
       "      <td>0</td>\n",
       "      <td>0</td>\n",
       "      <td>0</td>\n",
       "      <td>0</td>\n",
       "      <td>0</td>\n",
       "      <td>2.55</td>\n",
       "      <td>18.00</td>\n",
       "      <td>4</td>\n",
       "      <td>5</td>\n",
       "      <td>920.0</td>\n",
       "    </tr>\n",
       "    <tr>\n",
       "      <th>4644398</th>\n",
       "      <td>3</td>\n",
       "      <td>Улучшенная черновая отделка</td>\n",
       "      <td>Есть балкон</td>\n",
       "      <td>Пластиковые</td>\n",
       "      <td>Инд</td>\n",
       "      <td>2021.0</td>\n",
       "      <td>Панельные</td>\n",
       "      <td>Древлянка</td>\n",
       "      <td>1</td>\n",
       "      <td>1</td>\n",
       "      <td>...</td>\n",
       "      <td>0</td>\n",
       "      <td>0</td>\n",
       "      <td>0</td>\n",
       "      <td>0</td>\n",
       "      <td>0</td>\n",
       "      <td>2.70</td>\n",
       "      <td>57.83</td>\n",
       "      <td>3</td>\n",
       "      <td>5</td>\n",
       "      <td>3250.0</td>\n",
       "    </tr>\n",
       "    <tr>\n",
       "      <th>5667276</th>\n",
       "      <td>2</td>\n",
       "      <td>Косметический ремонт</td>\n",
       "      <td>Лоджия</td>\n",
       "      <td>Пластиковые</td>\n",
       "      <td>Инд</td>\n",
       "      <td>2016.0</td>\n",
       "      <td>Монолитные</td>\n",
       "      <td>Ключевая</td>\n",
       "      <td>1</td>\n",
       "      <td>0</td>\n",
       "      <td>...</td>\n",
       "      <td>0</td>\n",
       "      <td>0</td>\n",
       "      <td>0</td>\n",
       "      <td>0</td>\n",
       "      <td>0</td>\n",
       "      <td>2.70</td>\n",
       "      <td>41.20</td>\n",
       "      <td>8</td>\n",
       "      <td>16</td>\n",
       "      <td>3590.0</td>\n",
       "    </tr>\n",
       "    <tr>\n",
       "      <th>4644417</th>\n",
       "      <td>4</td>\n",
       "      <td>Улучшенная черновая отделка</td>\n",
       "      <td>Есть балкон</td>\n",
       "      <td>Пластиковые</td>\n",
       "      <td>Инд</td>\n",
       "      <td>2021.0</td>\n",
       "      <td>Панельные</td>\n",
       "      <td>Древлянка</td>\n",
       "      <td>1</td>\n",
       "      <td>1</td>\n",
       "      <td>...</td>\n",
       "      <td>0</td>\n",
       "      <td>0</td>\n",
       "      <td>0</td>\n",
       "      <td>0</td>\n",
       "      <td>0</td>\n",
       "      <td>2.70</td>\n",
       "      <td>84.00</td>\n",
       "      <td>3</td>\n",
       "      <td>5</td>\n",
       "      <td>4500.0</td>\n",
       "    </tr>\n",
       "    <tr>\n",
       "      <th>...</th>\n",
       "      <td>...</td>\n",
       "      <td>...</td>\n",
       "      <td>...</td>\n",
       "      <td>...</td>\n",
       "      <td>...</td>\n",
       "      <td>...</td>\n",
       "      <td>...</td>\n",
       "      <td>...</td>\n",
       "      <td>...</td>\n",
       "      <td>...</td>\n",
       "      <td>...</td>\n",
       "      <td>...</td>\n",
       "      <td>...</td>\n",
       "      <td>...</td>\n",
       "      <td>...</td>\n",
       "      <td>...</td>\n",
       "      <td>...</td>\n",
       "      <td>...</td>\n",
       "      <td>...</td>\n",
       "      <td>...</td>\n",
       "      <td>...</td>\n",
       "    </tr>\n",
       "    <tr>\n",
       "      <th>4671111</th>\n",
       "      <td>1</td>\n",
       "      <td>Косметический ремонт</td>\n",
       "      <td>Есть балкон</td>\n",
       "      <td>Пластиковые</td>\n",
       "      <td>Инд</td>\n",
       "      <td>2012.0</td>\n",
       "      <td>Панельные</td>\n",
       "      <td>Ключевая</td>\n",
       "      <td>1</td>\n",
       "      <td>0</td>\n",
       "      <td>...</td>\n",
       "      <td>0</td>\n",
       "      <td>0</td>\n",
       "      <td>0</td>\n",
       "      <td>0</td>\n",
       "      <td>0</td>\n",
       "      <td>2.50</td>\n",
       "      <td>36.60</td>\n",
       "      <td>3</td>\n",
       "      <td>5</td>\n",
       "      <td>2900.0</td>\n",
       "    </tr>\n",
       "    <tr>\n",
       "      <th>2886457</th>\n",
       "      <td>4</td>\n",
       "      <td>Улучшенная черновая отделка</td>\n",
       "      <td>Есть балкон</td>\n",
       "      <td>Пластиковые</td>\n",
       "      <td>Инд</td>\n",
       "      <td>2018.0</td>\n",
       "      <td>Монолитные</td>\n",
       "      <td>Центр</td>\n",
       "      <td>0</td>\n",
       "      <td>0</td>\n",
       "      <td>...</td>\n",
       "      <td>0</td>\n",
       "      <td>0</td>\n",
       "      <td>0</td>\n",
       "      <td>0</td>\n",
       "      <td>0</td>\n",
       "      <td>3.00</td>\n",
       "      <td>103.30</td>\n",
       "      <td>9</td>\n",
       "      <td>9</td>\n",
       "      <td>8990.0</td>\n",
       "    </tr>\n",
       "    <tr>\n",
       "      <th>5193363</th>\n",
       "      <td>1</td>\n",
       "      <td>Косметический ремонт</td>\n",
       "      <td>Есть балкон</td>\n",
       "      <td>Пластиковые</td>\n",
       "      <td>Инд</td>\n",
       "      <td>1963.0</td>\n",
       "      <td>Кирпичные</td>\n",
       "      <td>Октябрьский</td>\n",
       "      <td>1</td>\n",
       "      <td>0</td>\n",
       "      <td>...</td>\n",
       "      <td>0</td>\n",
       "      <td>0</td>\n",
       "      <td>0</td>\n",
       "      <td>0</td>\n",
       "      <td>0</td>\n",
       "      <td>2.50</td>\n",
       "      <td>30.60</td>\n",
       "      <td>1</td>\n",
       "      <td>5</td>\n",
       "      <td>2350.0</td>\n",
       "    </tr>\n",
       "    <tr>\n",
       "      <th>2836807</th>\n",
       "      <td>1</td>\n",
       "      <td>Современный ремонт</td>\n",
       "      <td>Есть балкон</td>\n",
       "      <td>Пластиковые</td>\n",
       "      <td>Инд</td>\n",
       "      <td>2014.0</td>\n",
       "      <td>Панельные</td>\n",
       "      <td>Октябрьский</td>\n",
       "      <td>1</td>\n",
       "      <td>0</td>\n",
       "      <td>...</td>\n",
       "      <td>0</td>\n",
       "      <td>0</td>\n",
       "      <td>0</td>\n",
       "      <td>0</td>\n",
       "      <td>0</td>\n",
       "      <td>2.50</td>\n",
       "      <td>51.00</td>\n",
       "      <td>3</td>\n",
       "      <td>9</td>\n",
       "      <td>4100.0</td>\n",
       "    </tr>\n",
       "    <tr>\n",
       "      <th>2584308</th>\n",
       "      <td>3</td>\n",
       "      <td>Требует ремонта</td>\n",
       "      <td>Есть балкон</td>\n",
       "      <td>Деревянные</td>\n",
       "      <td>Инд</td>\n",
       "      <td>1981.0</td>\n",
       "      <td>Панельные</td>\n",
       "      <td>Сулажгора</td>\n",
       "      <td>1</td>\n",
       "      <td>0</td>\n",
       "      <td>...</td>\n",
       "      <td>0</td>\n",
       "      <td>0</td>\n",
       "      <td>0</td>\n",
       "      <td>0</td>\n",
       "      <td>0</td>\n",
       "      <td>2.50</td>\n",
       "      <td>59.10</td>\n",
       "      <td>2</td>\n",
       "      <td>5</td>\n",
       "      <td>2800.0</td>\n",
       "    </tr>\n",
       "  </tbody>\n",
       "</table>\n",
       "<p>736 rows × 31 columns</p>\n",
       "</div>"
      ],
      "text/plain": [
       "             Комнатность                       Ремонт       Балкон  \\\n",
       "Код объекта                                                          \n",
       "5757236                1  Улучшенная черновая отделка  Есть балкон   \n",
       "5535905                1         Косметический ремонт  Нет балкона   \n",
       "4644398                3  Улучшенная черновая отделка  Есть балкон   \n",
       "5667276                2         Косметический ремонт       Лоджия   \n",
       "4644417                4  Улучшенная черновая отделка  Есть балкон   \n",
       "...                  ...                          ...          ...   \n",
       "4671111                1         Косметический ремонт  Есть балкон   \n",
       "2886457                4  Улучшенная черновая отделка  Есть балкон   \n",
       "5193363                1         Косметический ремонт  Есть балкон   \n",
       "2836807                1           Современный ремонт  Есть балкон   \n",
       "2584308                3              Требует ремонта  Есть балкон   \n",
       "\n",
       "            Материал окон Серия  Год постройки       Стены        Адрес  \\\n",
       "Код объекта                                                               \n",
       "5757236       Пластиковые   Инд         2017.0   Панельные    Древлянка   \n",
       "5535905       Пластиковые   Общ            NaN   Кирпичные    Голиковка   \n",
       "4644398       Пластиковые   Инд         2021.0   Панельные    Древлянка   \n",
       "5667276       Пластиковые   Инд         2016.0  Монолитные     Ключевая   \n",
       "4644417       Пластиковые   Инд         2021.0   Панельные    Древлянка   \n",
       "...                   ...   ...            ...         ...          ...   \n",
       "4671111       Пластиковые   Инд         2012.0   Панельные     Ключевая   \n",
       "2886457       Пластиковые   Инд         2018.0  Монолитные        Центр   \n",
       "5193363       Пластиковые   Инд         1963.0   Кирпичные  Октябрьский   \n",
       "2836807       Пластиковые   Инд         2014.0   Панельные  Октябрьский   \n",
       "2584308        Деревянные   Инд         1981.0   Панельные    Сулажгора   \n",
       "\n",
       "             наземный паркинг  гостевой паркинг  ...  культуры  \\\n",
       "Код объекта                                      ...             \n",
       "5757236                     1                 0  ...         0   \n",
       "5535905                     0                 1  ...         0   \n",
       "4644398                     1                 1  ...         0   \n",
       "5667276                     1                 0  ...         0   \n",
       "4644417                     1                 1  ...         0   \n",
       "...                       ...               ...  ...       ...   \n",
       "4671111                     1                 0  ...         0   \n",
       "2886457                     0                 0  ...         0   \n",
       "5193363                     1                 0  ...         0   \n",
       "2836807                     1                 0  ...         0   \n",
       "2584308                     1                 0  ...         0   \n",
       "\n",
       "             пешеходные бульвары  дороги  трассы автомобильные мосты  \\\n",
       "Код объекта                                                            \n",
       "5757236                        0       0       0                   0   \n",
       "5535905                        0       0       0                   0   \n",
       "4644398                        0       0       0                   0   \n",
       "5667276                        0       0       0                   0   \n",
       "4644417                        0       0       0                   0   \n",
       "...                          ...     ...     ...                 ...   \n",
       "4671111                        0       0       0                   0   \n",
       "2886457                        0       0       0                   0   \n",
       "5193363                        0       0       0                   0   \n",
       "2836807                        0       0       0                   0   \n",
       "2584308                        0       0       0                   0   \n",
       "\n",
       "            Высота потолков Общая площадь  этаж  всего этажей    цена  \n",
       "Код объекта                                                            \n",
       "5757236                2.50         30.60     1             5  2390.0  \n",
       "5535905                2.55         18.00     4             5   920.0  \n",
       "4644398                2.70         57.83     3             5  3250.0  \n",
       "5667276                2.70         41.20     8            16  3590.0  \n",
       "4644417                2.70         84.00     3             5  4500.0  \n",
       "...                     ...           ...   ...           ...     ...  \n",
       "4671111                2.50         36.60     3             5  2900.0  \n",
       "2886457                3.00        103.30     9             9  8990.0  \n",
       "5193363                2.50         30.60     1             5  2350.0  \n",
       "2836807                2.50         51.00     3             9  4100.0  \n",
       "2584308                2.50         59.10     2             5  2800.0  \n",
       "\n",
       "[736 rows x 31 columns]"
      ]
     },
     "execution_count": 7,
     "metadata": {},
     "output_type": "execute_result"
    }
   ],
   "source": [
    "train = df.copy()\n",
    "train.drop(columns=['url'], inplace=True)\n",
    "train"
   ]
  },
  {
   "cell_type": "markdown",
   "id": "e8b59ed9-6a4e-438a-a46b-5a969ab227fb",
   "metadata": {},
   "source": [
    "boxplot всех дискретных столбцов"
   ]
  },
  {
   "cell_type": "code",
   "execution_count": 8,
   "id": "5ec63e2d",
   "metadata": {},
   "outputs": [
    {
     "data": {
      "image/png": "[encoded data removed]",
      "text/plain": [
       "<Figure size 1224x864 with 28 Axes>"
      ]
     },
     "metadata": {
      "needs_background": "light"
     },
     "output_type": "display_data"
    }
   ],
   "source": [
    "skip_column = ['Год постройки', 'цена', 'Общая площадь']\n",
    "ncol = 1\n",
    "plt.figure(figsize=(17,12))\n",
    "for col in train.columns:\n",
    "    if col in skip_column:\n",
    "        continue\n",
    "    plt.subplot(4, 8, ncol)\n",
    "    sns.boxplot(data=train, x=col, y='цена')\n",
    "    ncol += 1"
   ]
  },
  {
   "cell_type": "markdown",
   "id": "900fd84b-fc82-4268-bad4-1aac47a7c31f",
   "metadata": {},
   "source": [
    "### Очистка данных"
   ]
  },
  {
   "cell_type": "markdown",
   "id": "3c685e71-b5ed-4438-8ce8-70553736b2ae",
   "metadata": {},
   "source": [
    "Некоторые квартиры в датасэте - не квартиры, а комнаты. Ниже попытка вычислить эти комнаты и удалить их из набора данных"
   ]
  },
  {
   "cell_type": "markdown",
   "id": "1a691c64",
   "metadata": {},
   "source": [
    "### These aren`t flat, these are all rooms\n",
    "There is some bias becouse of such thing existing, should delete it"
   ]
  },
  {
   "cell_type": "code",
   "execution_count": 9,
   "id": "a11941a4",
   "metadata": {},
   "outputs": [
    {
     "data": {
      "text/plain": [
       "(718, 31)"
      ]
     },
     "execution_count": 9,
     "metadata": {},
     "output_type": "execute_result"
    }
   ],
   "source": [
    "idx_to_drop = train[(train['Комнатность'] > 1) & (train['Общая площадь'] < 26)].index # this are rooms, not flats\n",
    "train.drop(index=idx_to_drop, inplace=True)\n",
    "train.shape"
   ]
  },
  {
   "cell_type": "code",
   "execution_count": 10,
   "id": "45916cff",
   "metadata": {},
   "outputs": [],
   "source": [
    "#df.loc[4092393].url # do not drop this (I guess, it is flat after all)"
   ]
  },
  {
   "cell_type": "code",
   "execution_count": 11,
   "id": "c2f23b5b",
   "metadata": {},
   "outputs": [],
   "source": [
    "ptz_address = ['Древлянка', 'Кукковка', 'Октябрьский', 'Голиковка', \n",
    "               'Перевалка', 'Центр', 'Ключевая', 'Зарека', 'Первомайский', 'Сулажгора']"
   ]
  },
  {
   "cell_type": "code",
   "execution_count": 12,
   "id": "4d4be6ba",
   "metadata": {},
   "outputs": [
    {
     "data": {
      "text/plain": [
       "(712, 31)"
      ]
     },
     "execution_count": 12,
     "metadata": {},
     "output_type": "execute_result"
    }
   ],
   "source": [
    "# in address not in ptz, I will drop it anyway\n",
    "idx_to_drop = train[(train['Общая площадь'] > 26) & (train['цена'] < 1000) & (train['Адрес'].isin(ptz_address))].index\n",
    "#idx_to_drop.drop(4092393)\n",
    "train.drop(index=idx_to_drop, inplace=True)\n",
    "train.shape"
   ]
  },
  {
   "cell_type": "markdown",
   "id": "a40a8118-cdcc-4aeb-98a8-fa3cf5c9e9d8",
   "metadata": {},
   "source": [
    "Распределение цен"
   ]
  },
  {
   "cell_type": "code",
   "execution_count": 13,
   "id": "63e0da6e-7c74-4ddd-b741-5f8dd3465be4",
   "metadata": {},
   "outputs": [
    {
     "data": {
      "text/plain": [
       "<seaborn.axisgrid.FacetGrid at 0x7f62c04ff7f0>"
      ]
     },
     "execution_count": 13,
     "metadata": {},
     "output_type": "execute_result"
    },
    {
     "data": {
      "image/png": "[encoded data removed]",
      "text/plain": [
       "<Figure size 360x360 with 1 Axes>"
      ]
     },
     "metadata": {
      "needs_background": "light"
     },
     "output_type": "display_data"
    }
   ],
   "source": [
    "sns.displot(train['цена'])"
   ]
  },
  {
   "cell_type": "markdown",
   "id": "f60ab6ec-a5ee-4091-832e-f96e62bafdc4",
   "metadata": {},
   "source": [
    "Попытка обработать пропущенные данные(Эти способы не увенчались успехом)"
   ]
  },
  {
   "cell_type": "markdown",
   "id": "7c656582-aa48-4b0d-8b80-51cb392d0095",
   "metadata": {},
   "source": [
    "Сравниваются графики между собой(визуально)"
   ]
  },
  {
   "cell_type": "markdown",
   "id": "34e96a11",
   "metadata": {},
   "source": [
    "# Input NaN\n",
    "dropping column 'Год постройки' and dropping row contains NaN values shows worse result"
   ]
  },
  {
   "cell_type": "markdown",
   "id": "a7e8ae2e",
   "metadata": {},
   "source": [
    "#### Maybe I can handle somehow years?"
   ]
  },
  {
   "cell_type": "code",
   "execution_count": 14,
   "id": "8fa18ab3",
   "metadata": {},
   "outputs": [
    {
     "data": {
      "text/plain": [
       "<AxesSubplot:xlabel='Год постройки', ylabel='цена'>"
      ]
     },
     "execution_count": 14,
     "metadata": {},
     "output_type": "execute_result"
    },
    {
     "data": {
      "image/png": "[encoded data removed]",
      "text/plain": [
       "<Figure size 432x288 with 1 Axes>"
      ]
     },
     "metadata": {
      "needs_background": "light"
     },
     "output_type": "display_data"
    }
   ],
   "source": [
    "x=train['Год постройки']\n",
    "y=train['цена']\n",
    "sns.scatterplot(x=x,y=y)"
   ]
  },
  {
   "cell_type": "code",
   "execution_count": 15,
   "id": "a048dcc8",
   "metadata": {},
   "outputs": [
    {
     "data": {
      "text/plain": [
       "<AxesSubplot:xlabel='Год постройки', ylabel='цена'>"
      ]
     },
     "execution_count": 15,
     "metadata": {},
     "output_type": "execute_result"
    },
    {
     "data": {
      "image/png": "[encoded data removed]",
      "text/plain": [
       "<Figure size 432x288 with 1 Axes>"
      ]
     },
     "metadata": {
      "needs_background": "light"
     },
     "output_type": "display_data"
    }
   ],
   "source": [
    "filled = x.fillna(1930) # just to see data on scatterplot with the rest of data\n",
    "sns.scatterplot(x=filled, y=y)"
   ]
  },
  {
   "cell_type": "code",
   "execution_count": 16,
   "id": "6ea56dcd",
   "metadata": {},
   "outputs": [
    {
     "data": {
      "text/plain": [
       "<AxesSubplot:xlabel='Год постройки', ylabel='цена'>"
      ]
     },
     "execution_count": 16,
     "metadata": {},
     "output_type": "execute_result"
    },
    {
     "data": {
      "image/png": "[encoded data removed]",
      "text/plain": [
       "<Figure size 432x288 with 1 Axes>"
      ]
     },
     "metadata": {
      "needs_background": "light"
     },
     "output_type": "display_data"
    }
   ],
   "source": [
    "filled = x.fillna(method='bfill')\n",
    "sns.scatterplot(x=filled, y=y)"
   ]
  },
  {
   "cell_type": "code",
   "execution_count": 17,
   "id": "cb4f6c1b",
   "metadata": {},
   "outputs": [
    {
     "data": {
      "text/plain": [
       "<AxesSubplot:xlabel='Год постройки', ylabel='цена'>"
      ]
     },
     "execution_count": 17,
     "metadata": {},
     "output_type": "execute_result"
    },
    {
     "data": {
      "image/png": "[encoded data removed]",
      "text/plain": [
       "<Figure size 432x288 with 1 Axes>"
      ]
     },
     "metadata": {
      "needs_background": "light"
     },
     "output_type": "display_data"
    }
   ],
   "source": [
    "filled = x.fillna(method='ffill')\n",
    "sns.scatterplot(x=filled, y=y)"
   ]
  },
  {
   "cell_type": "code",
   "execution_count": 18,
   "id": "ecadd84b",
   "metadata": {},
   "outputs": [
    {
     "name": "stdout",
     "output_type": "stream",
     "text": [
      "188\n"
     ]
    },
    {
     "data": {
      "text/plain": [
       "242"
      ]
     },
     "execution_count": 18,
     "metadata": {},
     "output_type": "execute_result"
    }
   ],
   "source": [
    "#print((x>1996).sum()) #188\n",
    "#(filled>1996).sum() # 242"
   ]
  },
  {
   "cell_type": "code",
   "execution_count": 19,
   "id": "ed562b7c",
   "metadata": {},
   "outputs": [
    {
     "data": {
      "text/plain": [
       "Комнатность                                 1\n",
       "Ремонт                   Косметический ремонт\n",
       "Балкон                            Нет балкона\n",
       "Материал окон                     Пластиковые\n",
       "Серия                                     Общ\n",
       "Год постройки                             NaN\n",
       "Стены                               Кирпичные\n",
       "Адрес                               Голиковка\n",
       "наземный паркинг                            0\n",
       "гостевой паркинг                            1\n",
       "парковка отсутствует                        0\n",
       "подземный паркинг                           0\n",
       "гараж во дворе                              0\n",
       "парковка                                    0\n",
       "Двор                            открытый двор\n",
       "Железная дверь                           есть\n",
       "Счетчик воды                      отсутствует\n",
       "во двор                                     1\n",
       "на детскую площадку                         0\n",
       "стены соседних домов                        0\n",
       "памятники архитектуры                       0\n",
       "культуры                                    0\n",
       "пешеходные бульвары                         0\n",
       "дороги                                      0\n",
       "трассы                                      0\n",
       "автомобильные мосты                         0\n",
       "Высота потолков                          2.55\n",
       "Общая площадь                            18.0\n",
       "этаж                                        4\n",
       "всего этажей                                5\n",
       "цена                                    920.0\n",
       "Name: 5535905, dtype: object"
      ]
     },
     "execution_count": 19,
     "metadata": {},
     "output_type": "execute_result"
    }
   ],
   "source": [
    "train.loc[5535905]"
   ]
  },
  {
   "cell_type": "code",
   "execution_count": 20,
   "id": "445cbcaf",
   "metadata": {},
   "outputs": [
    {
     "data": {
      "text/plain": [
       "2017.0"
      ]
     },
     "execution_count": 20,
     "metadata": {},
     "output_type": "execute_result"
    }
   ],
   "source": [
    "filled[5535905]"
   ]
  },
  {
   "cell_type": "markdown",
   "id": "5a0e14be-b483-4c84-a6e3-775289fec3d8",
   "metadata": {},
   "source": [
    "Общежитие 2017 года - это лишь вредит дате, нужен другой способ вставки года постройки"
   ]
  },
  {
   "cell_type": "markdown",
   "id": "6169b115",
   "metadata": {},
   "source": [
    "## The problem is, that flat with (Серия == Общ) cannot be the year of 2017\n",
    "So i need better way of imputting the missed values"
   ]
  },
  {
   "cell_type": "markdown",
   "id": "0b06a1ce",
   "metadata": {},
   "source": [
    "#### imput values based on type of flat"
   ]
  },
  {
   "cell_type": "markdown",
   "id": "0c2dd789-7169-4a8d-9d50-f6618f68d03d",
   "metadata": {},
   "source": [
    "вставляю медианные значения, в зависимости от типа квартиры"
   ]
  },
  {
   "cell_type": "code",
   "execution_count": 21,
   "id": "fbdc8b44",
   "metadata": {},
   "outputs": [],
   "source": [
    "filled = df['Год постройки'].fillna(df.groupby('Серия')['Год постройки'].transform('median'))"
   ]
  },
  {
   "cell_type": "code",
   "execution_count": 22,
   "id": "901373ed",
   "metadata": {},
   "outputs": [
    {
     "data": {
      "text/plain": [
       "<AxesSubplot:xlabel='Год постройки', ylabel='цена'>"
      ]
     },
     "execution_count": 22,
     "metadata": {},
     "output_type": "execute_result"
    },
    {
     "data": {
      "image/png": "[encoded data removed]",
      "text/plain": [
       "<Figure size 432x288 with 1 Axes>"
      ]
     },
     "metadata": {
      "needs_background": "light"
     },
     "output_type": "display_data"
    }
   ],
   "source": [
    "sns.scatterplot(x=filled, y=y)"
   ]
  },
  {
   "cell_type": "code",
   "execution_count": 23,
   "id": "984e43c5",
   "metadata": {},
   "outputs": [],
   "source": [
    "filled_df = train.copy()\n",
    "filled_df['Год постройки'] = filled"
   ]
  },
  {
   "cell_type": "markdown",
   "id": "d7d9cb84",
   "metadata": {},
   "source": [
    "## Input one missed value\n",
    "Though there is no real difference becouse of one row"
   ]
  },
  {
   "cell_type": "code",
   "execution_count": 24,
   "id": "8612bbec",
   "metadata": {},
   "outputs": [],
   "source": [
    "median = filled_df['Высота потолков'].median()"
   ]
  },
  {
   "cell_type": "code",
   "execution_count": 25,
   "id": "e26132be",
   "metadata": {},
   "outputs": [],
   "source": [
    "filled_df['Высота потолков'].fillna(median, inplace=True)"
   ]
  },
  {
   "cell_type": "code",
   "execution_count": 26,
   "id": "3170dbeb",
   "metadata": {},
   "outputs": [
    {
     "data": {
      "text/plain": [
       "(712, 31)"
      ]
     },
     "execution_count": 26,
     "metadata": {},
     "output_type": "execute_result"
    }
   ],
   "source": [
    "filled_df.shape"
   ]
  },
  {
   "cell_type": "markdown",
   "id": "bc0db973",
   "metadata": {},
   "source": [
    "dropna should not change shape of df since I imputed all NaNs"
   ]
  },
  {
   "cell_type": "code",
   "execution_count": 27,
   "id": "c71e2b5c",
   "metadata": {},
   "outputs": [
    {
     "data": {
      "text/plain": [
       "(712, 31)"
      ]
     },
     "execution_count": 27,
     "metadata": {},
     "output_type": "execute_result"
    }
   ],
   "source": [
    "filled_df = filled_df.dropna(axis=0)\n",
    "filled_df.shape"
   ]
  },
  {
   "cell_type": "code",
   "execution_count": 28,
   "id": "44181f80",
   "metadata": {},
   "outputs": [
    {
     "name": "stdout",
     "output_type": "stream",
     "text": [
      "188\n"
     ]
    },
    {
     "data": {
      "text/plain": [
       "189"
      ]
     },
     "execution_count": 28,
     "metadata": {},
     "output_type": "execute_result"
    }
   ],
   "source": [
    "#print((x>1996).sum()) # 188\n",
    "#(filled>1996).sum() # 189"
   ]
  },
  {
   "cell_type": "markdown",
   "id": "c4ab9016",
   "metadata": {},
   "source": [
    "# Find important columns"
   ]
  },
  {
   "cell_type": "markdown",
   "id": "9d290ab8-e19e-4954-b313-61f7f496b825",
   "metadata": {},
   "source": [
    "Чтобы найти важные колонны, выполняется ANOVA тест (Дисперсионный анализ)"
   ]
  },
  {
   "cell_type": "code",
   "execution_count": 29,
   "id": "9482f25b",
   "metadata": {},
   "outputs": [],
   "source": [
    "def score_ANOVA(data, col_name, min_samples_per_group=5):\n",
    "    '''\n",
    "    perform ANOVA test. col_name used for creating (and checking) groups with this specific column.\n",
    "    if column have not enough samples per group, this column will be skipped\n",
    "    return 3 lists:    \n",
    "    cols_with_big_p_value - p_value < 0.01;\n",
    "    cols_with_small_p_value - p_value < 0.05;\n",
    "    in other cases cols_that_need_further_investigation\n",
    "    '''\n",
    "    cols_that_need_further_investigation = []    \n",
    "    cols_with_big_p_value = []\n",
    "    cols_with_small_p_value = []\n",
    "    for col in data.columns:\n",
    "        if col == col_name:\n",
    "            continue\n",
    "        df = data[[col,col_name]]\n",
    "        grouped_col_price = df.groupby([col],as_index=False) \n",
    "        uniques_col_values = df[col].unique()\n",
    "        if len(uniques_col_values) == 1:\n",
    "            print(f'({col}) has only one value! Skipping...')\n",
    "            continue\n",
    "        args = [grouped_col_price.get_group(uniques_col_values[i])[col_name] for i in range(len(uniques_col_values))]\n",
    "        enough_samples = [args[i] for i in range(len(args)) # score ANOVA for groups that have at least min_samples_per_group\n",
    "                          if len(args[i]) >= min_samples_per_group]\n",
    "        if len(enough_samples) < 2:\n",
    "            print(f'{col} has not enough samples per group, skipping')\n",
    "            continue\n",
    "        f_val, p_val = stats.f_oneway(*enough_samples)\n",
    "        if p_val < 0.05:\n",
    "            cols_with_small_p_value.append([col, f_val, p_val])\n",
    "        elif p_val < 0.01:\n",
    "            cols_with_big_p_value.append([col, f_val, p_val])\n",
    "        else:\n",
    "            cols_that_need_further_investigation.append([col, f_val, p_val])\n",
    "    \n",
    "    cols_with_big_p_value.sort(key=lambda x:x[2], reverse=True)\n",
    "    cols_with_small_p_value.sort(key=lambda x:x[2], reverse=True)\n",
    "    return cols_with_big_p_value, cols_with_small_p_value, cols_that_need_further_investigation"
   ]
  },
  {
   "cell_type": "code",
   "execution_count": 30,
   "id": "6eb6d006",
   "metadata": {},
   "outputs": [
    {
     "name": "stdout",
     "output_type": "stream",
     "text": [
      "гараж во дворе has not enough samples per group, skipping\n",
      "парковка has not enough samples per group, skipping\n"
     ]
    }
   ],
   "source": [
    "weak_p, strong_p, need_investigate =  score_ANOVA(filled_df,'цена')"
   ]
  },
  {
   "cell_type": "code",
   "execution_count": 31,
   "id": "0edf4524",
   "metadata": {},
   "outputs": [
    {
     "data": {
      "text/plain": [
       "[['трассы', 6.325766459666777, 0.012119364363364893],\n",
       " ['автомобильные мосты', 6.325766459666777, 0.012119364363364893],\n",
       " ['Материал окон', 7.006266532459412, 0.0009702757629233047],\n",
       " ['Счетчик воды', 13.58841264961971, 0.0002449335771600645],\n",
       " ['гостевой паркинг', 14.1800607316099, 0.00017987419281393168],\n",
       " ['памятники архитектуры', 14.903000554531541, 0.00012350619529324664],\n",
       " ['культуры', 14.903000554531541, 0.00012350619529324664],\n",
       " ['пешеходные бульвары', 14.903000554531541, 0.00012350619529324664],\n",
       " ['Балкон', 16.57219238043473, 9.274723077502964e-08],\n",
       " ['всего этажей', 8.701714116796884, 1.733281281911861e-13],\n",
       " ['Серия', 19.68286996280938, 2.731035394344149e-21],\n",
       " ['Стены', 32.32415887229759, 9.138397139437362e-25],\n",
       " ['Адрес', 10.461408140757927, 4.227730152375989e-25],\n",
       " ['Год постройки', 6.2735676222074925, 1.121221712180817e-27],\n",
       " ['Общая площадь', 13.220560774005751, 1.014379177330684e-29],\n",
       " ['Высота потолков', 33.94329473615298, 7.275560312339294e-36],\n",
       " ['Двор', 200.3573824130641, 3.014454085392639e-40],\n",
       " ['Комнатность', 65.5819919120797, 3.685688941147645e-47],\n",
       " ['подземный паркинг', 258.3934690548968, 8.122492243459247e-50],\n",
       " ['Ремонт', 64.97569473704553, 3.296758074283301e-64]]"
      ]
     },
     "execution_count": 31,
     "metadata": {},
     "output_type": "execute_result"
    }
   ],
   "source": [
    "strong_p"
   ]
  },
  {
   "cell_type": "code",
   "execution_count": 32,
   "id": "2940e664",
   "metadata": {},
   "outputs": [
    {
     "data": {
      "text/plain": [
       "[]"
      ]
     },
     "execution_count": 32,
     "metadata": {},
     "output_type": "execute_result"
    }
   ],
   "source": [
    "weak_p"
   ]
  },
  {
   "cell_type": "code",
   "execution_count": 33,
   "id": "4bdd886f",
   "metadata": {},
   "outputs": [
    {
     "data": {
      "text/plain": [
       "[['наземный паркинг', 2.661147532014957, 0.10326997908384336],\n",
       " ['парковка отсутствует', 3.3302358839725237, 0.06843716604451312],\n",
       " ['Железная дверь', 2.6154356877010363, 0.10627262271680697],\n",
       " ['во двор', 0.007134257098447874, 0.932710911606282],\n",
       " ['на детскую площадку', 0.8610206691564201, 0.3537685530200745],\n",
       " ['стены соседних домов', 0.09762276767936828, 0.7547930161805503],\n",
       " ['дороги', 0.002930747499827535, 0.956841737618592],\n",
       " ['этаж', 1.1910896997101172, 0.30149830841297354]]"
      ]
     },
     "execution_count": 33,
     "metadata": {},
     "output_type": "execute_result"
    }
   ],
   "source": [
    "need_investigate"
   ]
  },
  {
   "cell_type": "code",
   "execution_count": 34,
   "id": "fe7bde61",
   "metadata": {},
   "outputs": [
    {
     "name": "stdout",
     "output_type": "stream",
     "text": [
      "['трассы', 'автомобильные мосты', 'Материал окон', 'Счетчик воды', 'гостевой паркинг', 'памятники архитектуры', 'культуры', 'пешеходные бульвары', 'Балкон', 'всего этажей', 'Серия', 'Стены', 'Адрес', 'Год постройки', 'Общая площадь', 'Высота потолков', 'Двор', 'Комнатность', 'подземный паркинг', 'Ремонт']\n"
     ]
    }
   ],
   "source": [
    "cols_after_ANOVA = [col[0] for col in strong_p]\n",
    "print(cols_after_ANOVA)"
   ]
  },
  {
   "cell_type": "markdown",
   "id": "58b85246",
   "metadata": {},
   "source": [
    "# Find outliers"
   ]
  },
  {
   "cell_type": "markdown",
   "id": "fa2f10c6-a57b-4a72-9c46-1292c9c7aff0",
   "metadata": {},
   "source": [
    "Поиск выбросов не увенчался успехом. Вернее, выбросы были, но их удаление приводило к ухудшению результатов. Вероятно, маленький набор данных?"
   ]
  },
  {
   "cell_type": "code",
   "execution_count": 35,
   "id": "2064c09e",
   "metadata": {},
   "outputs": [
    {
     "data": {
      "text/plain": [
       "(712, 20)"
      ]
     },
     "execution_count": 35,
     "metadata": {},
     "output_type": "execute_result"
    }
   ],
   "source": [
    "selected_columns_df = filled_df[cols_after_ANOVA]\n",
    "selected_columns_df.shape"
   ]
  },
  {
   "cell_type": "markdown",
   "id": "d378548a-6ba4-4996-b716-7305a3a4eddc",
   "metadata": {},
   "source": [
    "boxplot, но уже после преобразований"
   ]
  },
  {
   "cell_type": "code",
   "execution_count": 36,
   "id": "fd305d03",
   "metadata": {},
   "outputs": [
    {
     "data": {
      "image/png": "[encoded data removed]",
      "text/plain": [
       "<Figure size 1224x864 with 18 Axes>"
      ]
     },
     "metadata": {
      "needs_background": "light"
     },
     "output_type": "display_data"
    }
   ],
   "source": [
    "ncol = 1\n",
    "plt.figure(figsize=(17,12))\n",
    "for col in selected_columns_df:\n",
    "    if col in skip_column:\n",
    "        continue\n",
    "    plt.subplot(5, 5, ncol)\n",
    "    sns.boxplot(data=selected_columns_df, x=col, y=y)\n",
    "    ncol += 1"
   ]
  },
  {
   "cell_type": "code",
   "execution_count": 37,
   "id": "a03abc0a",
   "metadata": {},
   "outputs": [],
   "source": [
    "y = pd.Series(df['цена'], index=selected_columns_df.index)"
   ]
  },
  {
   "cell_type": "code",
   "execution_count": 38,
   "id": "7d2f944b",
   "metadata": {},
   "outputs": [],
   "source": [
    "sel_df_with_y = selected_columns_df.join(y)"
   ]
  },
  {
   "cell_type": "markdown",
   "id": "40bcbc95-1886-45d6-ba90-6750ddad1d3b",
   "metadata": {},
   "source": [
    "Непосредственный поиск граничных значений выбросов"
   ]
  },
  {
   "cell_type": "code",
   "execution_count": 39,
   "id": "b3413326",
   "metadata": {},
   "outputs": [],
   "source": [
    "Q1 = sel_df_with_y.quantile(0.25)\n",
    "Q3 = sel_df_with_y.quantile(0.75)\n",
    "IQR = Q3 - Q1\n",
    "below_border = Q1 - 1.5*IQR\n",
    "upper_border = Q3 + 1.5*IQR"
   ]
  },
  {
   "cell_type": "code",
   "execution_count": 40,
   "id": "aa2d7592",
   "metadata": {},
   "outputs": [
    {
     "data": {
      "text/plain": [
       "трассы                      0.000\n",
       "автомобильные мосты         0.000\n",
       "гостевой паркинг            0.000\n",
       "памятники архитектуры       0.000\n",
       "культуры                    0.000\n",
       "пешеходные бульвары         0.000\n",
       "всего этажей               -1.000\n",
       "Год постройки            1937.125\n",
       "Общая площадь              -9.500\n",
       "Высота потолков             2.500\n",
       "Комнатность                -2.000\n",
       "подземный паркинг           0.000\n",
       "цена                    -1413.375\n",
       "dtype: float64"
      ]
     },
     "execution_count": 40,
     "metadata": {},
     "output_type": "execute_result"
    }
   ],
   "source": [
    "below_border"
   ]
  },
  {
   "cell_type": "code",
   "execution_count": 41,
   "id": "73a40c3f",
   "metadata": {},
   "outputs": [
    {
     "data": {
      "text/plain": [
       "трассы                      0.000\n",
       "автомобильные мосты         0.000\n",
       "гостевой паркинг            0.000\n",
       "памятники архитектуры       0.000\n",
       "культуры                    0.000\n",
       "пешеходные бульвары         0.000\n",
       "всего этажей               15.000\n",
       "Год постройки            2038.125\n",
       "Общая площадь             106.500\n",
       "Высота потолков             2.500\n",
       "Комнатность                 6.000\n",
       "подземный паркинг           0.000\n",
       "цена                     7235.625\n",
       "dtype: float64"
      ]
     },
     "execution_count": 41,
     "metadata": {},
     "output_type": "execute_result"
    }
   ],
   "source": [
    "upper_border"
   ]
  },
  {
   "cell_type": "code",
   "execution_count": 42,
   "id": "6b8512db",
   "metadata": {},
   "outputs": [
    {
     "data": {
      "text/plain": [
       "(682, 21)"
      ]
     },
     "execution_count": 42,
     "metadata": {},
     "output_type": "execute_result"
    }
   ],
   "source": [
    "idx_to_drop = sel_df_with_y[sel_df_with_y['цена'] > 7235.625].index\n",
    "sel_df_with_y.drop(index=idx_to_drop, inplace=True)\n",
    "sel_df_with_y.shape"
   ]
  },
  {
   "cell_type": "markdown",
   "id": "6e079212",
   "metadata": {},
   "source": [
    "dropping all groups contains 'Общ' is no good"
   ]
  },
  {
   "cell_type": "code",
   "execution_count": 43,
   "id": "1279f7b2",
   "metadata": {},
   "outputs": [],
   "source": [
    "#idx_to_drop = selected_columns[selected_columns['Серия'] == 'Общ'].index\n",
    "#selected_columns.drop(index=idx_to_drop, inplace=True)\n",
    "#selected_columns.shape"
   ]
  },
  {
   "cell_type": "markdown",
   "id": "3acd8c83",
   "metadata": {},
   "source": [
    "### Do not drop other outliers\n",
    "for some reasons, model perform better if I save this data"
   ]
  },
  {
   "cell_type": "code",
   "execution_count": 44,
   "id": "792e71fc",
   "metadata": {},
   "outputs": [],
   "source": [
    "# idx_to_drop = selected_columns[selected_columns['Общая площадь'] > 106.5].index\n",
    "# selected_columns.drop(index=idx_to_drop, inplace=True)\n",
    "# selected_columns.shape"
   ]
  },
  {
   "cell_type": "code",
   "execution_count": 45,
   "id": "0f36667d",
   "metadata": {},
   "outputs": [],
   "source": [
    "# idx_to_drop = selected_columns[selected_columns['Высота потолков'] < 2.5].index\n",
    "# selected_columns.drop(index=idx_to_drop, inplace=True)\n",
    "# selected_columns.shape"
   ]
  },
  {
   "cell_type": "code",
   "execution_count": 46,
   "id": "55195894",
   "metadata": {},
   "outputs": [],
   "source": [
    "# idx_to_drop = selected_columns[selected_columns['всего этажей'] > 15].index\n",
    "# selected_columns.drop(index=idx_to_drop, inplace=True)\n",
    "# selected_columns.shape"
   ]
  },
  {
   "cell_type": "code",
   "execution_count": 47,
   "id": "93e23dea",
   "metadata": {},
   "outputs": [],
   "source": [
    "# idx_to_drop = selected_columns[selected_columns['Год постройки'] < 1937].index\n",
    "# selected_columns.drop(index=idx_to_drop, inplace=True)\n",
    "# selected_columns.shape"
   ]
  },
  {
   "cell_type": "markdown",
   "id": "036e5006-72a7-427a-9b58-f5c0322af88b",
   "metadata": {},
   "source": [
    "## Handle address\n",
    "Drop address if I do n ot have enough examples about it"
   ]
  },
  {
   "cell_type": "code",
   "execution_count": 48,
   "id": "9065c6a3",
   "metadata": {},
   "outputs": [
    {
     "data": {
      "text/plain": [
       "Древлянка                          97\n",
       "Кукковка                           78\n",
       "Октябрьский                        66\n",
       "Голиковка                          65\n",
       "Перевалка                          62\n",
       "Центр                              57\n",
       "Ключевая                           50\n",
       "Зарека                             49\n",
       "Первомайский                       33\n",
       "Сулажгора                          22\n",
       "Кондопога                          16\n",
       "5-й посёлок                         7\n",
       "Мелиоративный п.                    7\n",
       "Соломенное                          7\n",
       "Деревянка п.                        6\n",
       "Железнодорожный                     6\n",
       "Новая Вилга п.                      6\n",
       "Эссойла с.                          5\n",
       "Кончезеро с.                        4\n",
       "Птицефабрика                        3\n",
       "Университетский городок             3\n",
       "Шуя п.                              3\n",
       "Великая губа с.                     3\n",
       "Апатиты                             2\n",
       "Чална                               2\n",
       "Старая Кукковка                     2\n",
       "Медвежьегорск                       2\n",
       "Вилга д.                            2\n",
       "Сайнаволок                          2\n",
       "Олонец                              1\n",
       "Сулажгорский кирпичный завод п.     1\n",
       "Томицы                              1\n",
       "Сегежа                              1\n",
       "Пряжа ПГТ                           1\n",
       "Чална-1 п.                          1\n",
       "Матросы п.                          1\n",
       "Рыбка                               1\n",
       "Пиндуши ПГТ                         1\n",
       "Заозерье с.                         1\n",
       "10 кмс4                             1\n",
       "Ужесельга д.                        1\n",
       "Костомукша                          1\n",
       "Янишполе п.                         1\n",
       "Суоярви                             1\n",
       "Name: Адрес, dtype: int64"
      ]
     },
     "execution_count": 48,
     "metadata": {},
     "output_type": "execute_result"
    }
   ],
   "source": [
    "sel_df_with_y['Адрес'].value_counts()"
   ]
  },
  {
   "cell_type": "code",
   "execution_count": 49,
   "id": "e50bb74c",
   "metadata": {},
   "outputs": [],
   "source": [
    "idx_to_drop_replace = sel_df_with_y.groupby('Адрес', as_index=False).filter(lambda x: len(x) < 17).index\n",
    "adress_drop_df = sel_df_with_y.drop(index=idx_to_drop_replace)"
   ]
  },
  {
   "cell_type": "markdown",
   "id": "6e7faecf-6c82-4304-b2c9-91a5ae3f3dcd",
   "metadata": {},
   "source": [
    "### Looking on boxplots\n",
    "after deleting bad rows"
   ]
  },
  {
   "cell_type": "code",
   "execution_count": 50,
   "id": "d69506e1",
   "metadata": {},
   "outputs": [
    {
     "data": {
      "image/png": "[encoded data removed]",
      "text/plain": [
       "<Figure size 1224x864 with 18 Axes>"
      ]
     },
     "metadata": {
      "needs_background": "light"
     },
     "output_type": "display_data"
    }
   ],
   "source": [
    "ncol = 1\n",
    "plt.figure(figsize=(17,12))\n",
    "for col in adress_drop_df:\n",
    "    if col in skip_column:\n",
    "        continue\n",
    "    plt.subplot(3, 6, ncol)\n",
    "    sns.boxplot(data=adress_drop_df, x=col, y=adress_drop_df['цена'])\n",
    "    ncol += 1"
   ]
  },
  {
   "cell_type": "markdown",
   "id": "fa876a7b-91e7-417a-b0fe-792d3219655e",
   "metadata": {},
   "source": [
    "### Address boxplot"
   ]
  },
  {
   "cell_type": "code",
   "execution_count": 51,
   "id": "f24770e7",
   "metadata": {},
   "outputs": [
    {
     "data": {
      "text/plain": [
       "<AxesSubplot:xlabel='Адрес', ylabel='цена'>"
      ]
     },
     "execution_count": 51,
     "metadata": {},
     "output_type": "execute_result"
    },
    {
     "data": {
      "image/png": "[encoded data removed]",
      "text/plain": [
       "<Figure size 1008x360 with 1 Axes>"
      ]
     },
     "metadata": {
      "needs_background": "light"
     },
     "output_type": "display_data"
    }
   ],
   "source": [
    "plt.figure(figsize=(14,5))\n",
    "sns.boxplot(x=adress_drop_df['Адрес'], y=adress_drop_df['цена'])"
   ]
  },
  {
   "cell_type": "code",
   "execution_count": 52,
   "id": "f3daa2c1",
   "metadata": {},
   "outputs": [
    {
     "data": {
      "text/plain": [
       "(579, 21)"
      ]
     },
     "execution_count": 52,
     "metadata": {},
     "output_type": "execute_result"
    }
   ],
   "source": [
    "adress_drop_df.shape"
   ]
  },
  {
   "cell_type": "markdown",
   "id": "90df999c",
   "metadata": {},
   "source": [
    "# Prepare data"
   ]
  },
  {
   "cell_type": "code",
   "execution_count": 53,
   "id": "44c3f5ea",
   "metadata": {},
   "outputs": [
    {
     "name": "stdout",
     "output_type": "stream",
     "text": [
      "(579, 20)\n",
      "(579,)\n"
     ]
    }
   ],
   "source": [
    "X = adress_drop_df.drop(columns=['цена'])\n",
    "y = adress_drop_df['цена']\n",
    "print(X.shape)\n",
    "print(y.shape)"
   ]
  },
  {
   "cell_type": "code",
   "execution_count": 54,
   "id": "eb31324c",
   "metadata": {},
   "outputs": [],
   "source": [
    "X_year_bins = X.copy()"
   ]
  },
  {
   "cell_type": "markdown",
   "id": "8224fb52-21d6-47ec-9355-31bfbb00290e",
   "metadata": {},
   "source": [
    "Попытка найти лучшее возможное разбиение столбца \"Год постройки\". Используется разбиение на равные доли"
   ]
  },
  {
   "cell_type": "markdown",
   "id": "d366d7d7",
   "metadata": {},
   "source": [
    "## Binarizing year of building"
   ]
  },
  {
   "cell_type": "code",
   "execution_count": 55,
   "id": "4d6b93be",
   "metadata": {},
   "outputs": [],
   "source": [
    "def best_bin_split(n):\n",
    "    # use simlest model for speed\n",
    "    \n",
    "    #model = DecisionTreeRegressor(random_state=42, max_depth=6, min_samples_split=8)\n",
    "    model = LinearRegression()\n",
    "    best_score = float('-inf')\n",
    "    best_bin_split = 0\n",
    "    best_params = None\n",
    "    for n_bins in range(2,n):\n",
    "        bins = np.linspace(X['Год постройки'].min(), X['Год постройки'].max(), n_bins) # 5\n",
    "        year = pd.cut(X['Год постройки'], bins=bins)\n",
    "        X_year_bins['Год постройки'] = year\n",
    "        X_dummy = pd.get_dummies(X_year_bins)\n",
    "        score = cross_val_score(model, X_dummy, y, cv=4)\n",
    "        if score.mean() > best_score:\n",
    "            best_score = score.mean()\n",
    "            best_bin_split = n_bins\n",
    "    # return None if results are better without splitting\n",
    "    no_split_score = cross_val_score(model, pd.get_dummies(X), y, cv=4)\n",
    "    if no_split_score.mean() > best_bin_split:\n",
    "        return None\n",
    "    return best_bin_split"
   ]
  },
  {
   "cell_type": "code",
   "execution_count": 56,
   "id": "00e1dc5f",
   "metadata": {},
   "outputs": [],
   "source": [
    "bin_split = best_bin_split(8) # function return None if splitting make things worse..."
   ]
  },
  {
   "cell_type": "code",
   "execution_count": 57,
   "id": "e0790087",
   "metadata": {},
   "outputs": [
    {
     "data": {
      "text/plain": [
       "5"
      ]
     },
     "execution_count": 57,
     "metadata": {},
     "output_type": "execute_result"
    }
   ],
   "source": [
    "bin_split # eventually, splitting make sense"
   ]
  },
  {
   "cell_type": "markdown",
   "id": "9d8462e5-362b-42ad-8a34-a73aefb9316d",
   "metadata": {},
   "source": [
    "### Splitting on 5 equally spaces is better then No splitting at all,\n",
    "but it is unknown is it best possible splitting. Probably, not equally splitting will be better"
   ]
  },
  {
   "cell_type": "markdown",
   "id": "7d5ff402-03d3-4e64-bb38-631f28738815",
   "metadata": {},
   "source": [
    "But for now it is simple to realize"
   ]
  },
  {
   "cell_type": "code",
   "execution_count": 58,
   "id": "a3f19fa7",
   "metadata": {},
   "outputs": [],
   "source": [
    "bins = np.linspace(X['Год постройки'].min(), X['Год постройки'].max(), bin_split) # 5\n",
    "year = pd.cut(X['Год постройки'], bins=bins)\n",
    "X_year_bins['Год постройки'] = year"
   ]
  },
  {
   "cell_type": "markdown",
   "id": "dc0af621-267b-49f3-a851-ac606c550cc6",
   "metadata": {},
   "source": [
    "## Label Encoding of column \"Ремонт\""
   ]
  },
  {
   "cell_type": "code",
   "execution_count": 59,
   "id": "7b46545d-4843-449c-8d68-0626703e7700",
   "metadata": {},
   "outputs": [
    {
     "data": {
      "text/plain": [
       "array(['Улучшенная черновая отделка', 'Косметический ремонт',\n",
       "       'Современный ремонт', 'Частичный ремонт', 'Требует ремонта',\n",
       "       'Ремонт по дизайн проекту', 'Черновая отделка'], dtype=object)"
      ]
     },
     "execution_count": 59,
     "metadata": {},
     "output_type": "execute_result"
    }
   ],
   "source": [
    "X_year_bins['Ремонт'].unique()"
   ]
  },
  {
   "cell_type": "code",
   "execution_count": 60,
   "id": "7be2a272-e816-46a4-8172-cdca7e33119a",
   "metadata": {},
   "outputs": [],
   "source": [
    "column_values = {'Черновая отделка' :0, 'Улучшенная черновая отделка' :1, 'Требует ремонта':2, 'Частичный ремонт':3,\n",
    "                'Косметический ремонт':4, 'Современный ремонт':5, 'Ремонт по дизайн проекту':6}\n",
    "X_labeled_renovation = X_year_bins['Ремонт'].replace(column_values)"
   ]
  },
  {
   "cell_type": "code",
   "execution_count": 61,
   "id": "5d38e1c3-7341-4530-9717-f6648e1f6bbc",
   "metadata": {},
   "outputs": [
    {
     "data": {
      "text/plain": [
       "(579, 20)"
      ]
     },
     "execution_count": 61,
     "metadata": {},
     "output_type": "execute_result"
    }
   ],
   "source": [
    "X_renovation = X_year_bins.copy()\n",
    "X_renovation['Ремонт'] = X_labeled_renovation\n",
    "X_renovation.shape"
   ]
  },
  {
   "cell_type": "code",
   "execution_count": 62,
   "id": "18ea5eb8-4423-49a2-8bca-2510e623a979",
   "metadata": {},
   "outputs": [
    {
     "data": {
      "text/html": [
       "<div>\n",
       "<style scoped>\n",
       "    .dataframe tbody tr th:only-of-type {\n",
       "        vertical-align: middle;\n",
       "    }\n",
       "\n",
       "    .dataframe tbody tr th {\n",
       "        vertical-align: top;\n",
       "    }\n",
       "\n",
       "    .dataframe thead th {\n",
       "        text-align: right;\n",
       "    }\n",
       "</style>\n",
       "<table border=\"1\" class=\"dataframe\">\n",
       "  <thead>\n",
       "    <tr style=\"text-align: right;\">\n",
       "      <th></th>\n",
       "      <th>трассы</th>\n",
       "      <th>автомобильные мосты</th>\n",
       "      <th>Материал окон</th>\n",
       "      <th>Счетчик воды</th>\n",
       "      <th>гостевой паркинг</th>\n",
       "      <th>памятники архитектуры</th>\n",
       "      <th>культуры</th>\n",
       "      <th>пешеходные бульвары</th>\n",
       "      <th>Балкон</th>\n",
       "      <th>всего этажей</th>\n",
       "      <th>Серия</th>\n",
       "      <th>Стены</th>\n",
       "      <th>Адрес</th>\n",
       "      <th>Год постройки</th>\n",
       "      <th>Общая площадь</th>\n",
       "      <th>Высота потолков</th>\n",
       "      <th>Двор</th>\n",
       "      <th>Комнатность</th>\n",
       "      <th>подземный паркинг</th>\n",
       "      <th>Ремонт</th>\n",
       "    </tr>\n",
       "    <tr>\n",
       "      <th>Код объекта</th>\n",
       "      <th></th>\n",
       "      <th></th>\n",
       "      <th></th>\n",
       "      <th></th>\n",
       "      <th></th>\n",
       "      <th></th>\n",
       "      <th></th>\n",
       "      <th></th>\n",
       "      <th></th>\n",
       "      <th></th>\n",
       "      <th></th>\n",
       "      <th></th>\n",
       "      <th></th>\n",
       "      <th></th>\n",
       "      <th></th>\n",
       "      <th></th>\n",
       "      <th></th>\n",
       "      <th></th>\n",
       "      <th></th>\n",
       "      <th></th>\n",
       "    </tr>\n",
       "  </thead>\n",
       "  <tbody>\n",
       "    <tr>\n",
       "      <th>5757236</th>\n",
       "      <td>0</td>\n",
       "      <td>0</td>\n",
       "      <td>Пластиковые</td>\n",
       "      <td>есть</td>\n",
       "      <td>0</td>\n",
       "      <td>0</td>\n",
       "      <td>0</td>\n",
       "      <td>0</td>\n",
       "      <td>Есть балкон</td>\n",
       "      <td>5</td>\n",
       "      <td>Инд</td>\n",
       "      <td>Панельные</td>\n",
       "      <td>Древлянка</td>\n",
       "      <td>(1999.25, 2021.0]</td>\n",
       "      <td>30.60</td>\n",
       "      <td>2.50</td>\n",
       "      <td>открытый двор</td>\n",
       "      <td>1</td>\n",
       "      <td>0</td>\n",
       "      <td>1</td>\n",
       "    </tr>\n",
       "    <tr>\n",
       "      <th>5535905</th>\n",
       "      <td>0</td>\n",
       "      <td>0</td>\n",
       "      <td>Пластиковые</td>\n",
       "      <td>отсутствует</td>\n",
       "      <td>1</td>\n",
       "      <td>0</td>\n",
       "      <td>0</td>\n",
       "      <td>0</td>\n",
       "      <td>Нет балкона</td>\n",
       "      <td>5</td>\n",
       "      <td>Общ</td>\n",
       "      <td>Кирпичные</td>\n",
       "      <td>Голиковка</td>\n",
       "      <td>(1977.5, 1999.25]</td>\n",
       "      <td>18.00</td>\n",
       "      <td>2.55</td>\n",
       "      <td>открытый двор</td>\n",
       "      <td>1</td>\n",
       "      <td>0</td>\n",
       "      <td>4</td>\n",
       "    </tr>\n",
       "    <tr>\n",
       "      <th>4644398</th>\n",
       "      <td>0</td>\n",
       "      <td>0</td>\n",
       "      <td>Пластиковые</td>\n",
       "      <td>есть</td>\n",
       "      <td>1</td>\n",
       "      <td>0</td>\n",
       "      <td>0</td>\n",
       "      <td>0</td>\n",
       "      <td>Есть балкон</td>\n",
       "      <td>5</td>\n",
       "      <td>Инд</td>\n",
       "      <td>Панельные</td>\n",
       "      <td>Древлянка</td>\n",
       "      <td>(1999.25, 2021.0]</td>\n",
       "      <td>57.83</td>\n",
       "      <td>2.70</td>\n",
       "      <td>закрытый двор</td>\n",
       "      <td>3</td>\n",
       "      <td>0</td>\n",
       "      <td>1</td>\n",
       "    </tr>\n",
       "    <tr>\n",
       "      <th>5667276</th>\n",
       "      <td>0</td>\n",
       "      <td>0</td>\n",
       "      <td>Пластиковые</td>\n",
       "      <td>есть</td>\n",
       "      <td>0</td>\n",
       "      <td>0</td>\n",
       "      <td>0</td>\n",
       "      <td>0</td>\n",
       "      <td>Лоджия</td>\n",
       "      <td>16</td>\n",
       "      <td>Инд</td>\n",
       "      <td>Монолитные</td>\n",
       "      <td>Ключевая</td>\n",
       "      <td>(1999.25, 2021.0]</td>\n",
       "      <td>41.20</td>\n",
       "      <td>2.70</td>\n",
       "      <td>открытый двор</td>\n",
       "      <td>2</td>\n",
       "      <td>0</td>\n",
       "      <td>4</td>\n",
       "    </tr>\n",
       "    <tr>\n",
       "      <th>4644417</th>\n",
       "      <td>0</td>\n",
       "      <td>0</td>\n",
       "      <td>Пластиковые</td>\n",
       "      <td>есть</td>\n",
       "      <td>1</td>\n",
       "      <td>0</td>\n",
       "      <td>0</td>\n",
       "      <td>0</td>\n",
       "      <td>Есть балкон</td>\n",
       "      <td>5</td>\n",
       "      <td>Инд</td>\n",
       "      <td>Панельные</td>\n",
       "      <td>Древлянка</td>\n",
       "      <td>(1999.25, 2021.0]</td>\n",
       "      <td>84.00</td>\n",
       "      <td>2.70</td>\n",
       "      <td>закрытый двор</td>\n",
       "      <td>4</td>\n",
       "      <td>0</td>\n",
       "      <td>1</td>\n",
       "    </tr>\n",
       "    <tr>\n",
       "      <th>...</th>\n",
       "      <td>...</td>\n",
       "      <td>...</td>\n",
       "      <td>...</td>\n",
       "      <td>...</td>\n",
       "      <td>...</td>\n",
       "      <td>...</td>\n",
       "      <td>...</td>\n",
       "      <td>...</td>\n",
       "      <td>...</td>\n",
       "      <td>...</td>\n",
       "      <td>...</td>\n",
       "      <td>...</td>\n",
       "      <td>...</td>\n",
       "      <td>...</td>\n",
       "      <td>...</td>\n",
       "      <td>...</td>\n",
       "      <td>...</td>\n",
       "      <td>...</td>\n",
       "      <td>...</td>\n",
       "      <td>...</td>\n",
       "    </tr>\n",
       "    <tr>\n",
       "      <th>2891833</th>\n",
       "      <td>0</td>\n",
       "      <td>0</td>\n",
       "      <td>Пластиковые</td>\n",
       "      <td>есть</td>\n",
       "      <td>0</td>\n",
       "      <td>0</td>\n",
       "      <td>0</td>\n",
       "      <td>0</td>\n",
       "      <td>Есть балкон</td>\n",
       "      <td>9</td>\n",
       "      <td>75</td>\n",
       "      <td>Панельные</td>\n",
       "      <td>Кукковка</td>\n",
       "      <td>(1977.5, 1999.25]</td>\n",
       "      <td>39.80</td>\n",
       "      <td>2.50</td>\n",
       "      <td>открытый двор</td>\n",
       "      <td>1</td>\n",
       "      <td>0</td>\n",
       "      <td>5</td>\n",
       "    </tr>\n",
       "    <tr>\n",
       "      <th>4671111</th>\n",
       "      <td>0</td>\n",
       "      <td>0</td>\n",
       "      <td>Пластиковые</td>\n",
       "      <td>есть</td>\n",
       "      <td>0</td>\n",
       "      <td>0</td>\n",
       "      <td>0</td>\n",
       "      <td>0</td>\n",
       "      <td>Есть балкон</td>\n",
       "      <td>5</td>\n",
       "      <td>Инд</td>\n",
       "      <td>Панельные</td>\n",
       "      <td>Ключевая</td>\n",
       "      <td>(1999.25, 2021.0]</td>\n",
       "      <td>36.60</td>\n",
       "      <td>2.50</td>\n",
       "      <td>открытый двор</td>\n",
       "      <td>1</td>\n",
       "      <td>0</td>\n",
       "      <td>4</td>\n",
       "    </tr>\n",
       "    <tr>\n",
       "      <th>5193363</th>\n",
       "      <td>0</td>\n",
       "      <td>0</td>\n",
       "      <td>Пластиковые</td>\n",
       "      <td>есть</td>\n",
       "      <td>0</td>\n",
       "      <td>0</td>\n",
       "      <td>0</td>\n",
       "      <td>0</td>\n",
       "      <td>Есть балкон</td>\n",
       "      <td>5</td>\n",
       "      <td>Инд</td>\n",
       "      <td>Кирпичные</td>\n",
       "      <td>Октябрьский</td>\n",
       "      <td>(1955.75, 1977.5]</td>\n",
       "      <td>30.60</td>\n",
       "      <td>2.50</td>\n",
       "      <td>открытый двор</td>\n",
       "      <td>1</td>\n",
       "      <td>0</td>\n",
       "      <td>4</td>\n",
       "    </tr>\n",
       "    <tr>\n",
       "      <th>2836807</th>\n",
       "      <td>0</td>\n",
       "      <td>0</td>\n",
       "      <td>Пластиковые</td>\n",
       "      <td>есть</td>\n",
       "      <td>0</td>\n",
       "      <td>0</td>\n",
       "      <td>0</td>\n",
       "      <td>0</td>\n",
       "      <td>Есть балкон</td>\n",
       "      <td>9</td>\n",
       "      <td>Инд</td>\n",
       "      <td>Панельные</td>\n",
       "      <td>Октябрьский</td>\n",
       "      <td>(1999.25, 2021.0]</td>\n",
       "      <td>51.00</td>\n",
       "      <td>2.50</td>\n",
       "      <td>открытый двор</td>\n",
       "      <td>1</td>\n",
       "      <td>0</td>\n",
       "      <td>5</td>\n",
       "    </tr>\n",
       "    <tr>\n",
       "      <th>2584308</th>\n",
       "      <td>0</td>\n",
       "      <td>0</td>\n",
       "      <td>Деревянные</td>\n",
       "      <td>есть</td>\n",
       "      <td>0</td>\n",
       "      <td>0</td>\n",
       "      <td>0</td>\n",
       "      <td>0</td>\n",
       "      <td>Есть балкон</td>\n",
       "      <td>5</td>\n",
       "      <td>Инд</td>\n",
       "      <td>Панельные</td>\n",
       "      <td>Сулажгора</td>\n",
       "      <td>(1977.5, 1999.25]</td>\n",
       "      <td>59.10</td>\n",
       "      <td>2.50</td>\n",
       "      <td>открытый двор</td>\n",
       "      <td>3</td>\n",
       "      <td>0</td>\n",
       "      <td>2</td>\n",
       "    </tr>\n",
       "  </tbody>\n",
       "</table>\n",
       "<p>579 rows × 20 columns</p>\n",
       "</div>"
      ],
      "text/plain": [
       "             трассы  автомобильные мосты Материал окон Счетчик воды  \\\n",
       "Код объекта                                                           \n",
       "5757236           0                    0   Пластиковые         есть   \n",
       "5535905           0                    0   Пластиковые  отсутствует   \n",
       "4644398           0                    0   Пластиковые         есть   \n",
       "5667276           0                    0   Пластиковые         есть   \n",
       "4644417           0                    0   Пластиковые         есть   \n",
       "...             ...                  ...           ...          ...   \n",
       "2891833           0                    0   Пластиковые         есть   \n",
       "4671111           0                    0   Пластиковые         есть   \n",
       "5193363           0                    0   Пластиковые         есть   \n",
       "2836807           0                    0   Пластиковые         есть   \n",
       "2584308           0                    0    Деревянные         есть   \n",
       "\n",
       "             гостевой паркинг  памятники архитектуры  культуры  \\\n",
       "Код объекта                                                      \n",
       "5757236                     0                      0         0   \n",
       "5535905                     1                      0         0   \n",
       "4644398                     1                      0         0   \n",
       "5667276                     0                      0         0   \n",
       "4644417                     1                      0         0   \n",
       "...                       ...                    ...       ...   \n",
       "2891833                     0                      0         0   \n",
       "4671111                     0                      0         0   \n",
       "5193363                     0                      0         0   \n",
       "2836807                     0                      0         0   \n",
       "2584308                     0                      0         0   \n",
       "\n",
       "             пешеходные бульвары       Балкон  всего этажей Серия       Стены  \\\n",
       "Код объекта                                                                     \n",
       "5757236                        0  Есть балкон             5   Инд   Панельные   \n",
       "5535905                        0  Нет балкона             5   Общ   Кирпичные   \n",
       "4644398                        0  Есть балкон             5   Инд   Панельные   \n",
       "5667276                        0       Лоджия            16   Инд  Монолитные   \n",
       "4644417                        0  Есть балкон             5   Инд   Панельные   \n",
       "...                          ...          ...           ...   ...         ...   \n",
       "2891833                        0  Есть балкон             9   75    Панельные   \n",
       "4671111                        0  Есть балкон             5   Инд   Панельные   \n",
       "5193363                        0  Есть балкон             5   Инд   Кирпичные   \n",
       "2836807                        0  Есть балкон             9   Инд   Панельные   \n",
       "2584308                        0  Есть балкон             5   Инд   Панельные   \n",
       "\n",
       "                   Адрес      Год постройки  Общая площадь  Высота потолков  \\\n",
       "Код объекта                                                                   \n",
       "5757236        Древлянка  (1999.25, 2021.0]          30.60             2.50   \n",
       "5535905        Голиковка  (1977.5, 1999.25]          18.00             2.55   \n",
       "4644398        Древлянка  (1999.25, 2021.0]          57.83             2.70   \n",
       "5667276         Ключевая  (1999.25, 2021.0]          41.20             2.70   \n",
       "4644417        Древлянка  (1999.25, 2021.0]          84.00             2.70   \n",
       "...                  ...                ...            ...              ...   \n",
       "2891833         Кукковка  (1977.5, 1999.25]          39.80             2.50   \n",
       "4671111         Ключевая  (1999.25, 2021.0]          36.60             2.50   \n",
       "5193363      Октябрьский  (1955.75, 1977.5]          30.60             2.50   \n",
       "2836807      Октябрьский  (1999.25, 2021.0]          51.00             2.50   \n",
       "2584308        Сулажгора  (1977.5, 1999.25]          59.10             2.50   \n",
       "\n",
       "                      Двор  Комнатность  подземный паркинг  Ремонт  \n",
       "Код объекта                                                         \n",
       "5757236      открытый двор            1                  0       1  \n",
       "5535905      открытый двор            1                  0       4  \n",
       "4644398      закрытый двор            3                  0       1  \n",
       "5667276      открытый двор            2                  0       4  \n",
       "4644417      закрытый двор            4                  0       1  \n",
       "...                    ...          ...                ...     ...  \n",
       "2891833      открытый двор            1                  0       5  \n",
       "4671111      открытый двор            1                  0       4  \n",
       "5193363      открытый двор            1                  0       4  \n",
       "2836807      открытый двор            1                  0       5  \n",
       "2584308      открытый двор            3                  0       2  \n",
       "\n",
       "[579 rows x 20 columns]"
      ]
     },
     "execution_count": 62,
     "metadata": {},
     "output_type": "execute_result"
    }
   ],
   "source": [
    "X_renovation"
   ]
  },
  {
   "cell_type": "markdown",
   "id": "d8487307-56d3-4318-ae2e-3139226d144a",
   "metadata": {},
   "source": [
    "Кодирование остальных столбцов, содержащих строки, в числа"
   ]
  },
  {
   "cell_type": "code",
   "execution_count": 63,
   "id": "cc7078d6",
   "metadata": {},
   "outputs": [],
   "source": [
    "X_dummy_renovation = pd.get_dummies(X_renovation)\n",
    "X_dummy_no_renovation = pd.get_dummies(X_year_bins)"
   ]
  },
  {
   "cell_type": "code",
   "execution_count": 64,
   "id": "8aa66b00-88ce-4e71-9895-eac1d2c86699",
   "metadata": {},
   "outputs": [
    {
     "data": {
      "text/html": [
       "<div>\n",
       "<style scoped>\n",
       "    .dataframe tbody tr th:only-of-type {\n",
       "        vertical-align: middle;\n",
       "    }\n",
       "\n",
       "    .dataframe tbody tr th {\n",
       "        vertical-align: top;\n",
       "    }\n",
       "\n",
       "    .dataframe thead th {\n",
       "        text-align: right;\n",
       "    }\n",
       "</style>\n",
       "<table border=\"1\" class=\"dataframe\">\n",
       "  <thead>\n",
       "    <tr style=\"text-align: right;\">\n",
       "      <th></th>\n",
       "      <th>трассы</th>\n",
       "      <th>автомобильные мосты</th>\n",
       "      <th>гостевой паркинг</th>\n",
       "      <th>памятники архитектуры</th>\n",
       "      <th>культуры</th>\n",
       "      <th>пешеходные бульвары</th>\n",
       "      <th>всего этажей</th>\n",
       "      <th>Общая площадь</th>\n",
       "      <th>Высота потолков</th>\n",
       "      <th>Комнатность</th>\n",
       "      <th>...</th>\n",
       "      <th>Адрес_Первомайский</th>\n",
       "      <th>Адрес_Перевалка</th>\n",
       "      <th>Адрес_Сулажгора</th>\n",
       "      <th>Адрес_Центр</th>\n",
       "      <th>Год постройки_(1934.0, 1955.75]</th>\n",
       "      <th>Год постройки_(1955.75, 1977.5]</th>\n",
       "      <th>Год постройки_(1977.5, 1999.25]</th>\n",
       "      <th>Год постройки_(1999.25, 2021.0]</th>\n",
       "      <th>Двор_закрытый двор</th>\n",
       "      <th>Двор_открытый двор</th>\n",
       "    </tr>\n",
       "    <tr>\n",
       "      <th>Код объекта</th>\n",
       "      <th></th>\n",
       "      <th></th>\n",
       "      <th></th>\n",
       "      <th></th>\n",
       "      <th></th>\n",
       "      <th></th>\n",
       "      <th></th>\n",
       "      <th></th>\n",
       "      <th></th>\n",
       "      <th></th>\n",
       "      <th></th>\n",
       "      <th></th>\n",
       "      <th></th>\n",
       "      <th></th>\n",
       "      <th></th>\n",
       "      <th></th>\n",
       "      <th></th>\n",
       "      <th></th>\n",
       "      <th></th>\n",
       "      <th></th>\n",
       "      <th></th>\n",
       "    </tr>\n",
       "  </thead>\n",
       "  <tbody>\n",
       "    <tr>\n",
       "      <th>5757236</th>\n",
       "      <td>0</td>\n",
       "      <td>0</td>\n",
       "      <td>0</td>\n",
       "      <td>0</td>\n",
       "      <td>0</td>\n",
       "      <td>0</td>\n",
       "      <td>5</td>\n",
       "      <td>30.60</td>\n",
       "      <td>2.50</td>\n",
       "      <td>1</td>\n",
       "      <td>...</td>\n",
       "      <td>0</td>\n",
       "      <td>0</td>\n",
       "      <td>0</td>\n",
       "      <td>0</td>\n",
       "      <td>0</td>\n",
       "      <td>0</td>\n",
       "      <td>0</td>\n",
       "      <td>1</td>\n",
       "      <td>0</td>\n",
       "      <td>1</td>\n",
       "    </tr>\n",
       "    <tr>\n",
       "      <th>5535905</th>\n",
       "      <td>0</td>\n",
       "      <td>0</td>\n",
       "      <td>1</td>\n",
       "      <td>0</td>\n",
       "      <td>0</td>\n",
       "      <td>0</td>\n",
       "      <td>5</td>\n",
       "      <td>18.00</td>\n",
       "      <td>2.55</td>\n",
       "      <td>1</td>\n",
       "      <td>...</td>\n",
       "      <td>0</td>\n",
       "      <td>0</td>\n",
       "      <td>0</td>\n",
       "      <td>0</td>\n",
       "      <td>0</td>\n",
       "      <td>0</td>\n",
       "      <td>1</td>\n",
       "      <td>0</td>\n",
       "      <td>0</td>\n",
       "      <td>1</td>\n",
       "    </tr>\n",
       "    <tr>\n",
       "      <th>4644398</th>\n",
       "      <td>0</td>\n",
       "      <td>0</td>\n",
       "      <td>1</td>\n",
       "      <td>0</td>\n",
       "      <td>0</td>\n",
       "      <td>0</td>\n",
       "      <td>5</td>\n",
       "      <td>57.83</td>\n",
       "      <td>2.70</td>\n",
       "      <td>3</td>\n",
       "      <td>...</td>\n",
       "      <td>0</td>\n",
       "      <td>0</td>\n",
       "      <td>0</td>\n",
       "      <td>0</td>\n",
       "      <td>0</td>\n",
       "      <td>0</td>\n",
       "      <td>0</td>\n",
       "      <td>1</td>\n",
       "      <td>1</td>\n",
       "      <td>0</td>\n",
       "    </tr>\n",
       "    <tr>\n",
       "      <th>5667276</th>\n",
       "      <td>0</td>\n",
       "      <td>0</td>\n",
       "      <td>0</td>\n",
       "      <td>0</td>\n",
       "      <td>0</td>\n",
       "      <td>0</td>\n",
       "      <td>16</td>\n",
       "      <td>41.20</td>\n",
       "      <td>2.70</td>\n",
       "      <td>2</td>\n",
       "      <td>...</td>\n",
       "      <td>0</td>\n",
       "      <td>0</td>\n",
       "      <td>0</td>\n",
       "      <td>0</td>\n",
       "      <td>0</td>\n",
       "      <td>0</td>\n",
       "      <td>0</td>\n",
       "      <td>1</td>\n",
       "      <td>0</td>\n",
       "      <td>1</td>\n",
       "    </tr>\n",
       "    <tr>\n",
       "      <th>4644417</th>\n",
       "      <td>0</td>\n",
       "      <td>0</td>\n",
       "      <td>1</td>\n",
       "      <td>0</td>\n",
       "      <td>0</td>\n",
       "      <td>0</td>\n",
       "      <td>5</td>\n",
       "      <td>84.00</td>\n",
       "      <td>2.70</td>\n",
       "      <td>4</td>\n",
       "      <td>...</td>\n",
       "      <td>0</td>\n",
       "      <td>0</td>\n",
       "      <td>0</td>\n",
       "      <td>0</td>\n",
       "      <td>0</td>\n",
       "      <td>0</td>\n",
       "      <td>0</td>\n",
       "      <td>1</td>\n",
       "      <td>1</td>\n",
       "      <td>0</td>\n",
       "    </tr>\n",
       "  </tbody>\n",
       "</table>\n",
       "<p>5 rows × 54 columns</p>\n",
       "</div>"
      ],
      "text/plain": [
       "             трассы  автомобильные мосты  гостевой паркинг  \\\n",
       "Код объекта                                                  \n",
       "5757236           0                    0                 0   \n",
       "5535905           0                    0                 1   \n",
       "4644398           0                    0                 1   \n",
       "5667276           0                    0                 0   \n",
       "4644417           0                    0                 1   \n",
       "\n",
       "             памятники архитектуры  культуры  пешеходные бульвары  \\\n",
       "Код объекта                                                         \n",
       "5757236                          0         0                    0   \n",
       "5535905                          0         0                    0   \n",
       "4644398                          0         0                    0   \n",
       "5667276                          0         0                    0   \n",
       "4644417                          0         0                    0   \n",
       "\n",
       "             всего этажей  Общая площадь  Высота потолков  Комнатность  ...  \\\n",
       "Код объекта                                                             ...   \n",
       "5757236                 5          30.60             2.50            1  ...   \n",
       "5535905                 5          18.00             2.55            1  ...   \n",
       "4644398                 5          57.83             2.70            3  ...   \n",
       "5667276                16          41.20             2.70            2  ...   \n",
       "4644417                 5          84.00             2.70            4  ...   \n",
       "\n",
       "             Адрес_Первомайский  Адрес_Перевалка  Адрес_Сулажгора  \\\n",
       "Код объекта                                                         \n",
       "5757236                       0                0                0   \n",
       "5535905                       0                0                0   \n",
       "4644398                       0                0                0   \n",
       "5667276                       0                0                0   \n",
       "4644417                       0                0                0   \n",
       "\n",
       "             Адрес_Центр  Год постройки_(1934.0, 1955.75]  \\\n",
       "Код объекта                                                 \n",
       "5757236                0                                0   \n",
       "5535905                0                                0   \n",
       "4644398                0                                0   \n",
       "5667276                0                                0   \n",
       "4644417                0                                0   \n",
       "\n",
       "             Год постройки_(1955.75, 1977.5]  Год постройки_(1977.5, 1999.25]  \\\n",
       "Код объекта                                                                     \n",
       "5757236                                    0                                0   \n",
       "5535905                                    0                                1   \n",
       "4644398                                    0                                0   \n",
       "5667276                                    0                                0   \n",
       "4644417                                    0                                0   \n",
       "\n",
       "             Год постройки_(1999.25, 2021.0]  Двор_закрытый двор  \\\n",
       "Код объекта                                                        \n",
       "5757236                                    1                   0   \n",
       "5535905                                    0                   0   \n",
       "4644398                                    1                   1   \n",
       "5667276                                    1                   0   \n",
       "4644417                                    1                   1   \n",
       "\n",
       "             Двор_открытый двор  \n",
       "Код объекта                      \n",
       "5757236                       1  \n",
       "5535905                       1  \n",
       "4644398                       0  \n",
       "5667276                       1  \n",
       "4644417                       0  \n",
       "\n",
       "[5 rows x 54 columns]"
      ]
     },
     "execution_count": 64,
     "metadata": {},
     "output_type": "execute_result"
    }
   ],
   "source": [
    "X_dummy_renovation.head(5)"
   ]
  },
  {
   "cell_type": "code",
   "execution_count": 65,
   "id": "4b7ff4a9",
   "metadata": {},
   "outputs": [
    {
     "data": {
      "text/plain": [
       "(579, 54)"
      ]
     },
     "execution_count": 65,
     "metadata": {},
     "output_type": "execute_result"
    }
   ],
   "source": [
    "X_dummy_renovation.shape"
   ]
  },
  {
   "cell_type": "code",
   "execution_count": 66,
   "id": "334e7798-a7c6-4006-9447-b2b11cc3e9dd",
   "metadata": {},
   "outputs": [
    {
     "data": {
      "text/plain": [
       "(579, 60)"
      ]
     },
     "execution_count": 66,
     "metadata": {},
     "output_type": "execute_result"
    }
   ],
   "source": [
    "X_dummy_no_renovation.shape"
   ]
  },
  {
   "cell_type": "markdown",
   "id": "a3ed6b5c-19fe-46a8-9e69-a07aebcdb93c",
   "metadata": {},
   "source": [
    "## Find best model"
   ]
  },
  {
   "cell_type": "code",
   "execution_count": 67,
   "id": "00503e6a-8055-4267-acad-858d9bd744c1",
   "metadata": {},
   "outputs": [],
   "source": [
    "# gridsearch for DecisionTree\n",
    "estimator = DecisionTreeRegressor()\n",
    "params = {'max_depth': [None,3,4,5,6,7,8,9,10,15,17,20],\n",
    "         'min_samples_split':[n for n in range(2,10)],\n",
    "          'min_samples_leaf' : [i for i in range(1,10)],\n",
    "          'random_state' : [42],\n",
    "         'min_samples_leaf': [n for n in range(1,10)],\n",
    "         'max_features':[n_features/10 for n_features in range(1,11)]}"
   ]
  },
  {
   "cell_type": "code",
   "execution_count": 68,
   "id": "b403c58c-f993-4862-910d-2c5cbd19d588",
   "metadata": {},
   "outputs": [],
   "source": [
    "grid = GridSearchCV(estimator, params, verbose=True)"
   ]
  },
  {
   "cell_type": "code",
   "execution_count": 69,
   "id": "2864d614-4bba-4f0b-b67b-644212d37146",
   "metadata": {},
   "outputs": [
    {
     "name": "stdout",
     "output_type": "stream",
     "text": [
      "Fitting 5 folds for each of 8640 candidates, totalling 43200 fits\n"
     ]
    },
    {
     "data": {
      "text/plain": [
       "{'max_depth': 7,\n",
       " 'max_features': 0.8,\n",
       " 'min_samples_leaf': 7,\n",
       " 'min_samples_split': 2,\n",
       " 'random_state': 42}"
      ]
     },
     "execution_count": 69,
     "metadata": {},
     "output_type": "execute_result"
    }
   ],
   "source": [
    "grid.fit(X_dummy_renovation, y)\n",
    "best_params = grid.best_params_\n",
    "best_params"
   ]
  },
  {
   "cell_type": "code",
   "execution_count": 70,
   "id": "e716ca2d-ad97-4789-bf46-022edd366eaa",
   "metadata": {},
   "outputs": [],
   "source": [
    "model = DecisionTreeRegressor(**best_params)"
   ]
  },
  {
   "cell_type": "code",
   "execution_count": 71,
   "id": "f4d06fd0-f0e6-4962-ab57-89393d3803a4",
   "metadata": {},
   "outputs": [
    {
     "data": {
      "text/plain": [
       "0.7925463936601345"
      ]
     },
     "execution_count": 71,
     "metadata": {},
     "output_type": "execute_result"
    }
   ],
   "source": [
    "score = cross_val_score(model, X_dummy_renovation, y, cv=5)\n",
    "score.mean()"
   ]
  },
  {
   "cell_type": "code",
   "execution_count": 72,
   "id": "da0bf1e3-e3c7-440e-9175-ea691c47f4f2",
   "metadata": {},
   "outputs": [],
   "source": [
    "preds = cross_val_predict(model, X_dummy_renovation, y, cv=5)"
   ]
  },
  {
   "cell_type": "code",
   "execution_count": 73,
   "id": "b39161dc-4c16-47b9-bc87-1a84ba57a964",
   "metadata": {},
   "outputs": [
    {
     "data": {
      "text/plain": [
       "462379.93509376596"
      ]
     },
     "execution_count": 73,
     "metadata": {},
     "output_type": "execute_result"
    }
   ],
   "source": [
    "mean_squared_error(preds, y)"
   ]
  },
  {
   "cell_type": "code",
   "execution_count": 74,
   "id": "a1144494-8bd0-4d78-a6d9-4888f3237828",
   "metadata": {},
   "outputs": [
    {
     "data": {
      "text/plain": [
       "477.50535200498956"
      ]
     },
     "execution_count": 74,
     "metadata": {},
     "output_type": "execute_result"
    }
   ],
   "source": [
    "mean_absolute_error(preds, y)"
   ]
  },
  {
   "cell_type": "code",
   "execution_count": 75,
   "id": "2e841ac3-1611-429f-8ebe-318d960e2830",
   "metadata": {},
   "outputs": [],
   "source": [
    "residuals = preds - y"
   ]
  },
  {
   "cell_type": "code",
   "execution_count": 76,
   "id": "3a850b79-cc7f-4262-9eab-97086766946a",
   "metadata": {},
   "outputs": [
    {
     "data": {
      "image/png": "[encoded data removed]",
      "text/plain": [
       "<Figure size 432x288 with 1 Axes>"
      ]
     },
     "metadata": {
      "needs_background": "light"
     },
     "output_type": "display_data"
    }
   ],
   "source": [
    "graph = sns.residplot(x=y, y=preds)"
   ]
  },
  {
   "cell_type": "code",
   "execution_count": 77,
   "id": "6c39d28b-5a11-4d47-9162-f962270e5d6e",
   "metadata": {},
   "outputs": [
    {
     "data": {
      "text/plain": [
       "Text(0.5, 6.79999999999999, 'residuals')"
      ]
     },
     "execution_count": 77,
     "metadata": {},
     "output_type": "execute_result"
    },
    {
     "data": {
      "image/png": "[encoded data removed]",
      "text/plain": [
       "<Figure size 360x360 with 1 Axes>"
      ]
     },
     "metadata": {
      "needs_background": "light"
     },
     "output_type": "display_data"
    }
   ],
   "source": [
    "sns.displot(residuals, bins=30, kde=True)\n",
    "plt.xlabel('residuals')"
   ]
  },
  {
   "cell_type": "code",
   "execution_count": 78,
   "id": "e72aab5a-a499-4d65-bfda-9457fa78be3b",
   "metadata": {},
   "outputs": [
    {
     "data": {
      "text/plain": [
       "Код объекта\n",
       "5757236    2390.0\n",
       "5535905     920.0\n",
       "4644398    3250.0\n",
       "5667276    3590.0\n",
       "4644417    4500.0\n",
       "3854655    2550.0\n",
       "5757173    3000.0\n",
       "5103276     800.0\n",
       "5758058    4700.0\n",
       "4525390    2970.0\n",
       "4469870    4000.0\n",
       "5760725    2450.0\n",
       "5553000     570.0\n",
       "4265258    4200.0\n",
       "2987059    1190.0\n",
       "5759101    2700.0\n",
       "3598170    1999.0\n",
       "5109065    3200.0\n",
       "5758617    5500.0\n",
       "5593171     649.0\n",
       "5751111    4000.0\n",
       "5760211    2350.0\n",
       "3602019     590.0\n",
       "4522037     700.0\n",
       "3684339     990.0\n",
       "Name: цена, dtype: float64"
      ]
     },
     "execution_count": 78,
     "metadata": {},
     "output_type": "execute_result"
    }
   ],
   "source": [
    "y.iloc[:25]"
   ]
  },
  {
   "cell_type": "code",
   "execution_count": 79,
   "id": "2a67e4c1-bfd7-4acf-9e0b-1bf13c616820",
   "metadata": {},
   "outputs": [
    {
     "data": {
      "text/plain": [
       "array([2760.30769231,  766.16666667, 4273.75      , 3661.81818182,\n",
       "       5072.25      , 3928.        , 3282.        ,  766.16666667,\n",
       "       5216.66666667, 3282.        , 4735.42857143, 2447.42307692,\n",
       "        766.16666667, 4314.14285714, 2109.88888889, 2447.42307692,\n",
       "       1665.38461538, 3982.5       , 5072.25      ,  574.54545455,\n",
       "       3282.        , 2760.30769231,  766.16666667,  766.16666667,\n",
       "        744.5       ])"
      ]
     },
     "execution_count": 79,
     "metadata": {},
     "output_type": "execute_result"
    }
   ],
   "source": [
    "preds[:25]"
   ]
  },
  {
   "cell_type": "markdown",
   "id": "dc033d4a",
   "metadata": {},
   "source": [
    "## Checking dummmy predictions\n",
    "predict price based on flat_type"
   ]
  },
  {
   "cell_type": "code",
   "execution_count": 80,
   "id": "3c53e39a",
   "metadata": {},
   "outputs": [
    {
     "data": {
      "text/plain": [
       "Серия\n",
       "1-335         2871.428571\n",
       "1-335А        4342.500000\n",
       "2-68-1-0      3490.000000\n",
       "335-с         3652.500000\n",
       "75            3449.758065\n",
       "75.1, 3-75    3949.000000\n",
       "А-1           2455.000000\n",
       "Бреж          2920.000000\n",
       "Инд           3413.751843\n",
       "Общ            720.693333\n",
       "Хрущ          2934.285714\n",
       "Name: цена, dtype: float64"
      ]
     },
     "execution_count": 80,
     "metadata": {},
     "output_type": "execute_result"
    }
   ],
   "source": [
    "means = X.join(y).groupby('Серия')['цена'].mean()\n",
    "means"
   ]
  },
  {
   "cell_type": "code",
   "execution_count": 81,
   "id": "ad14d7fd",
   "metadata": {},
   "outputs": [],
   "source": [
    "dummy_preds = X['Серия'].transform(lambda x: means[x]).values"
   ]
  },
  {
   "cell_type": "code",
   "execution_count": 82,
   "id": "fb0f990e",
   "metadata": {},
   "outputs": [
    {
     "data": {
      "text/plain": [
       "1403962.814156493"
      ]
     },
     "execution_count": 82,
     "metadata": {},
     "output_type": "execute_result"
    }
   ],
   "source": [
    "mean_squared_error(dummy_preds,y)"
   ]
  },
  {
   "cell_type": "code",
   "execution_count": 83,
   "id": "0310c0ea",
   "metadata": {},
   "outputs": [
    {
     "data": {
      "text/plain": [
       "888.1138730402912"
      ]
     },
     "execution_count": 83,
     "metadata": {},
     "output_type": "execute_result"
    }
   ],
   "source": [
    "mean_absolute_error(dummy_preds,y)"
   ]
  },
  {
   "cell_type": "code",
   "execution_count": 84,
   "id": "ea5f1fa6",
   "metadata": {},
   "outputs": [
    {
     "data": {
      "image/png": "[encoded data removed]",
      "text/plain": [
       "<Figure size 432x288 with 1 Axes>"
      ]
     },
     "metadata": {
      "needs_background": "light"
     },
     "output_type": "display_data"
    }
   ],
   "source": [
    "graph = sns.residplot(x=dummy_preds, y=y)\n"
   ]
  },
  {
   "cell_type": "code",
   "execution_count": 85,
   "id": "6f9655e0",
   "metadata": {},
   "outputs": [],
   "source": [
    "residuals_dummy = dummy_preds - y"
   ]
  },
  {
   "cell_type": "code",
   "execution_count": 86,
   "id": "e6c3e348",
   "metadata": {},
   "outputs": [
    {
     "data": {
      "text/plain": [
       "Text(0.5, 6.79999999999999, 'residuals')"
      ]
     },
     "execution_count": 86,
     "metadata": {},
     "output_type": "execute_result"
    },
    {
     "data": {
      "image/png": "[encoded data removed]",
      "text/plain": [
       "<Figure size 360x360 with 1 Axes>"
      ]
     },
     "metadata": {
      "needs_background": "light"
     },
     "output_type": "display_data"
    }
   ],
   "source": [
    "sns.displot(residuals_dummy, bins=30, kde=True)\n",
    "plt.xlabel('residuals')"
   ]
  },
  {
   "cell_type": "markdown",
   "id": "435b2dbd-3ead-4270-b734-91040c78b68d",
   "metadata": {},
   "source": [
    "### models performs better then dummy regressor\n",
    "I conclude that model works"
   ]
  },
  {
   "cell_type": "markdown",
   "id": "19cf8888-5a40-43fc-92d5-e84ddae5b053",
   "metadata": {},
   "source": [
    "# ATTENTION, it is draft"
   ]
  },
  {
   "cell_type": "code",
   "execution_count": 87,
   "id": "d4eaf1a4-9245-4ca3-b3ba-66e47e5d0363",
   "metadata": {},
   "outputs": [
    {
     "ename": "NotImplementedError",
     "evalue": "This block is not ready",
     "output_type": "error",
     "traceback": [
      "\u001b[0;31m---------------------------------------------------------------------------\u001b[0m",
      "\u001b[0;31mNotImplementedError\u001b[0m                       Traceback (most recent call last)",
      "\u001b[0;32m<ipython-input-87-bd94eb1bd03b>\u001b[0m in \u001b[0;36m<module>\u001b[0;34m\u001b[0m\n\u001b[0;32m----> 1\u001b[0;31m \u001b[0;32mraise\u001b[0m \u001b[0mNotImplementedError\u001b[0m\u001b[0;34m(\u001b[0m\u001b[0;34m'This block is not ready'\u001b[0m\u001b[0;34m)\u001b[0m\u001b[0;34m\u001b[0m\u001b[0;34m\u001b[0m\u001b[0m\n\u001b[0m",
      "\u001b[0;31mNotImplementedError\u001b[0m: This block is not ready"
     ]
    }
   ],
   "source": [
    "raise NotImplementedError('This block is not ready')"
   ]
  },
  {
   "cell_type": "code",
   "execution_count": null,
   "id": "0549b9a5-d2e0-48ba-a385-62cf42544163",
   "metadata": {},
   "outputs": [],
   "source": [
    "def models_benchmark(models, X,y=y):\n",
    "    best_score = float('-inf')\n",
    "    best_model = None\n",
    "    df = pd.DataFrame({\n",
    "        'model': [type(model).__name__ for model in models],\n",
    "        'score' : [None for i in range(len(models))],\n",
    "        'mse' : [None for i in range(len(models))],\n",
    "        'mae' : [None for i in range(len(models))]\n",
    "    })\n",
    "    for model in models:\n",
    "        model_name = type(model).__name__ \n",
    "        score = cross_val_score(model, X, y, cv=5)\n",
    "        mean_score = score.mean()\n",
    "        \n",
    "        preds = cross_val_predict(model, X,y,cv=5)\n",
    "        mae = mean_absolute_error(preds,y)\n",
    "        mse = mean_squared_error(preds,y)\n",
    "        \n",
    "        df.loc[df.model == model_name, 'score'] = mean_score\n",
    "        df.loc[df.model == model_name, 'mse'] = mse\n",
    "        df.loc[df.model == model_name, 'mae'] = mae\n",
    "    return df\n"
   ]
  },
  {
   "cell_type": "code",
   "execution_count": null,
   "id": "85022abe-1c59-46a0-a8a7-aceb708c88b0",
   "metadata": {},
   "outputs": [],
   "source": [
    "models = [DecisionTreeRegressor(random_state=42),\n",
    "          RandomForestRegressor(random_state=42),\n",
    "          SVR(),\n",
    "          LinearRegression(),\n",
    "          Ridge(random_state=42),\n",
    "         BayesianRidge(),\n",
    "         KNeighborsRegressor(),\n",
    "         GradientBoostingRegressor(random_state=42)]"
   ]
  },
  {
   "cell_type": "code",
   "execution_count": null,
   "id": "fce72096-df9e-4e9a-8823-ddeb7b87540b",
   "metadata": {},
   "outputs": [],
   "source": [
    "perfomance1 = models_benchmark(models,X_dummy_renovation)\n",
    "perfomance2 = models_benchmark(models,X_dummy_no_renovation)"
   ]
  },
  {
   "cell_type": "markdown",
   "id": "52359202-0c27-438e-b916-36d189512c57",
   "metadata": {},
   "source": [
    "### with labeling renovation"
   ]
  },
  {
   "cell_type": "code",
   "execution_count": null,
   "id": "8a8e8c29-fe0b-469f-9804-4a798e5fc44c",
   "metadata": {},
   "outputs": [],
   "source": [
    "perfomance1.sort_values('score', ascending=False)"
   ]
  },
  {
   "cell_type": "markdown",
   "id": "61743f17-fff4-4342-b651-4331e9967721",
   "metadata": {},
   "source": [
    "### without labeling renovation"
   ]
  },
  {
   "cell_type": "code",
   "execution_count": null,
   "id": "25d51796-d72a-4022-9633-762cca794cad",
   "metadata": {},
   "outputs": [],
   "source": [
    "perfomance2.sort_values('score', ascending=False)"
   ]
  },
  {
   "cell_type": "markdown",
   "id": "eb11bfbb-fa65-4be3-b57e-b2ea4666fa21",
   "metadata": {},
   "source": [
    "## Find best parameters for best model"
   ]
  },
  {
   "cell_type": "code",
   "execution_count": null,
   "id": "b7ec7b48-4c0d-4c15-9ab4-ae78deaf6ffa",
   "metadata": {},
   "outputs": [],
   "source": [
    "estimator = GradientBoostingRegressor(random_state=42)\n",
    "params = {#'learning_rate': [0.01],\n",
    "          #'n_estimators' : [1000],\n",
    "          'min_samples_split' : [i for i in range(2,10)],\n",
    "          'min_samples_leaf' : [i for i in range(1,10)],\n",
    "          'min_weight_fraction_leaf' : [0.0,0.1,0.01,0.2],\n",
    "          'max_depth' : [i for i in range(2,10)],\n",
    "          'max_features':[n_features/10 for n_features in range(1,11)],\n",
    "          'max_leaf_nodes' : [None, 2,3,4,5,6,7,8,9,10,11,12,13,14,15],\n",
    "         }"
   ]
  },
  {
   "cell_type": "code",
   "execution_count": null,
   "id": "e51d38ef-e078-46d0-83ad-218d1c85e11d",
   "metadata": {},
   "outputs": [],
   "source": [
    "grid = GridSearchCV(estimator, params, verbose=True)"
   ]
  },
  {
   "cell_type": "code",
   "execution_count": null,
   "id": "548de086-8730-483e-934b-6429f6077a73",
   "metadata": {},
   "outputs": [],
   "source": []
  },
  {
   "cell_type": "code",
   "execution_count": null,
   "id": "c524f7b4-f83c-421e-a3f0-5194dbacac6b",
   "metadata": {},
   "outputs": [],
   "source": [
    "grid.fit(X_dummy, y)"
   ]
  },
  {
   "cell_type": "code",
   "execution_count": null,
   "id": "1fbc05f1-cd24-49bb-9b07-baecde52627f",
   "metadata": {},
   "outputs": [],
   "source": [
    "best_params = grid.best_params_\n",
    "best_params"
   ]
  },
  {
   "cell_type": "code",
   "execution_count": null,
   "id": "228d0679-de7b-4195-83d4-47a92621ca7f",
   "metadata": {},
   "outputs": [],
   "source": [
    "#model = DecisionTreeRegressor(random_state=42, max_depth=6, min_samples_split=8)"
   ]
  },
  {
   "cell_type": "code",
   "execution_count": null,
   "id": "3a679c21-05a7-4ee1-a691-3df0e1895ea5",
   "metadata": {},
   "outputs": [],
   "source": [
    "#model = DecisionTreeRegressor(random_state=42, max_depth=6, min_samples_leaf=4, min_samples_split=9) # 9?\n",
    "model = RandomForestRegressor(random_state=42, max_depth=13)"
   ]
  },
  {
   "cell_type": "code",
   "execution_count": null,
   "id": "581d53be-b52c-4e7f-8ee1-db8170ffb3f8",
   "metadata": {},
   "outputs": [],
   "source": [
    "#model = DecisionTreeRegressor(random_state=42, max_depth=8, min_samples_leaf=5, min_samples_split=2,max_features=0.9)"
   ]
  },
  {
   "cell_type": "code",
   "execution_count": null,
   "id": "80171bdc-bb62-4be1-a36a-8ae7a93fdb0c",
   "metadata": {},
   "outputs": [],
   "source": [
    "model = GradientBoostingRegressor(random_state=42, **best_params)"
   ]
  },
  {
   "cell_type": "code",
   "execution_count": null,
   "id": "3c38c449-8ade-41ad-87a7-0da214fafe7f",
   "metadata": {},
   "outputs": [],
   "source": [
    "score = cross_val_score(model, X_dummy, y, cv=5)\n",
    "score.mean()"
   ]
  },
  {
   "cell_type": "code",
   "execution_count": null,
   "id": "c08f5e0d-7b56-4b0c-bf58-db7192a3d2f1",
   "metadata": {},
   "outputs": [],
   "source": [
    "score"
   ]
  },
  {
   "cell_type": "code",
   "execution_count": null,
   "id": "6fd5c849-7c4e-4a46-b5ed-57787417d1f2",
   "metadata": {},
   "outputs": [],
   "source": [
    "preds = cross_val_predict(model, X_dummy, y, cv=5)"
   ]
  },
  {
   "cell_type": "code",
   "execution_count": null,
   "id": "08962fc3-c012-4284-a529-8cdb78915ee6",
   "metadata": {},
   "outputs": [],
   "source": [
    "mean_squared_error(preds, y)"
   ]
  },
  {
   "cell_type": "code",
   "execution_count": null,
   "id": "7fda4de1-784b-4714-bfe8-f55c567a84c2",
   "metadata": {},
   "outputs": [],
   "source": [
    "mean_absolute_error(preds, y)"
   ]
  },
  {
   "cell_type": "code",
   "execution_count": null,
   "id": "1a81d021-b76e-458f-af84-86c171301d41",
   "metadata": {},
   "outputs": [],
   "source": [
    "residuals = preds - y"
   ]
  },
  {
   "cell_type": "code",
   "execution_count": null,
   "id": "72db59aa-5e72-41dc-8446-e0c43ae9542e",
   "metadata": {},
   "outputs": [],
   "source": [
    "graph = sns.residplot(x=y, y=preds)\n",
    "#graph.axhline(795,color='red')\n",
    "#graph.axhline(-501,color='red')"
   ]
  },
  {
   "cell_type": "code",
   "execution_count": null,
   "id": "02fbd155-6ddf-471f-bcf9-1ccbf3bbbe3c",
   "metadata": {},
   "outputs": [],
   "source": [
    "sns.displot(residuals, bins=30, kde=True)\n",
    "plt.xlabel('residuals')"
   ]
  },
  {
   "cell_type": "code",
   "execution_count": null,
   "id": "a5e0287e-c850-4c27-b0e6-edc76abd6e5f",
   "metadata": {},
   "outputs": [],
   "source": [
    "y.iloc[:25]"
   ]
  },
  {
   "cell_type": "code",
   "execution_count": null,
   "id": "f3fdb6d2-0a4d-4494-bf89-cbebed5f9fd6",
   "metadata": {},
   "outputs": [],
   "source": [
    "preds[:25]"
   ]
  },
  {
   "cell_type": "code",
   "execution_count": null,
   "id": "75b09af8-f384-4ac1-b6aa-bb1ddc45e667",
   "metadata": {},
   "outputs": [],
   "source": []
  },
  {
   "cell_type": "code",
   "execution_count": null,
   "id": "b9399113-080c-4ea5-93f1-56ccdf79f19b",
   "metadata": {},
   "outputs": [],
   "source": [
    "# Use it only for DecisionTreeRegressor\n",
    "#plt.figure(figsize=(75,25))\n",
    "#model.fit(X_dummy,y)\n",
    "#plot_tree(model, feature_names=X_dummy.columns, filled=True, fontsize=14)"
   ]
  },
  {
   "cell_type": "code",
   "execution_count": null,
   "id": "08fd76a5-d1ae-40b4-a197-9cfedd0932dc",
   "metadata": {},
   "outputs": [],
   "source": []
  }
 ],
 "metadata": {
  "kernelspec": {
   "display_name": "Python 3",
   "language": "python",
   "name": "python3"
  },
  "language_info": {
   "codemirror_mode": {
    "name": "ipython",
    "version": 3
   },
   "file_extension": ".py",
   "mimetype": "text/x-python",
   "name": "python",
   "nbconvert_exporter": "python",
   "pygments_lexer": "ipython3",
   "version": "3.8.2"
  }
 },
 "nbformat": 4,
 "nbformat_minor": 5
}

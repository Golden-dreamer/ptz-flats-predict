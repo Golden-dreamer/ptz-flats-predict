{
 "cells": [
  {
   "cell_type": "markdown",
   "id": "a3ed6b5c-19fe-46a8-9e69-a07aebcdb93c",
   "metadata": {},
   "source": [
    "## Find best model"
   ]
  },
  {
   "cell_type": "code",
   "execution_count": 2,
   "id": "cc8eceb1",
   "metadata": {},
   "outputs": [],
   "source": [
    "import pandas as pd\n",
    "import numpy as np\n",
    "from scipy import stats\n",
    "import matplotlib.pyplot as plt\n",
    "import seaborn as sns\n",
    "\n",
    "from sklearn.tree import DecisionTreeRegressor, plot_tree\n",
    "from sklearn.model_selection import train_test_split, cross_val_score, cross_val_predict\n",
    "from sklearn.metrics import mean_squared_error, mean_absolute_error\n",
    "from sklearn.model_selection import GridSearchCV\n",
    "from sklearn.pipeline import Pipeline\n",
    "\n",
    "from sklearn.ensemble import RandomForestRegressor, GradientBoostingRegressor\n",
    "from sklearn.linear_model import LinearRegression, Ridge, BayesianRidge\n",
    "from sklearn.svm import SVR\n",
    "from sklearn.neighbors import KNeighborsRegressor"
   ]
  },
  {
   "cell_type": "code",
   "execution_count": 13,
   "id": "343d3c50",
   "metadata": {},
   "outputs": [
    {
     "data": {
      "text/html": [
       "<div>\n",
       "<style scoped>\n",
       "    .dataframe tbody tr th:only-of-type {\n",
       "        vertical-align: middle;\n",
       "    }\n",
       "\n",
       "    .dataframe tbody tr th {\n",
       "        vertical-align: top;\n",
       "    }\n",
       "\n",
       "    .dataframe thead th {\n",
       "        text-align: right;\n",
       "    }\n",
       "</style>\n",
       "<table border=\"1\" class=\"dataframe\">\n",
       "  <thead>\n",
       "    <tr style=\"text-align: right;\">\n",
       "      <th></th>\n",
       "      <th>Код объекта</th>\n",
       "      <th>трассы</th>\n",
       "      <th>автомобильные мосты</th>\n",
       "      <th>Материал окон</th>\n",
       "      <th>Счетчик воды</th>\n",
       "      <th>гостевой паркинг</th>\n",
       "      <th>памятники архитектуры</th>\n",
       "      <th>культуры</th>\n",
       "      <th>пешеходные бульвары</th>\n",
       "      <th>Балкон</th>\n",
       "      <th>...</th>\n",
       "      <th>Стены</th>\n",
       "      <th>Адрес</th>\n",
       "      <th>Год постройки</th>\n",
       "      <th>Общая площадь</th>\n",
       "      <th>Высота потолков</th>\n",
       "      <th>Двор</th>\n",
       "      <th>Комнатность</th>\n",
       "      <th>подземный паркинг</th>\n",
       "      <th>Ремонт</th>\n",
       "      <th>цена</th>\n",
       "    </tr>\n",
       "  </thead>\n",
       "  <tbody>\n",
       "    <tr>\n",
       "      <th>0</th>\n",
       "      <td>5757236</td>\n",
       "      <td>0</td>\n",
       "      <td>0</td>\n",
       "      <td>Пластиковые</td>\n",
       "      <td>есть</td>\n",
       "      <td>0</td>\n",
       "      <td>0</td>\n",
       "      <td>0</td>\n",
       "      <td>0</td>\n",
       "      <td>Есть балкон</td>\n",
       "      <td>...</td>\n",
       "      <td>Панельные</td>\n",
       "      <td>Древлянка</td>\n",
       "      <td>2017.0</td>\n",
       "      <td>30.60</td>\n",
       "      <td>2.50</td>\n",
       "      <td>открытый двор</td>\n",
       "      <td>1</td>\n",
       "      <td>0</td>\n",
       "      <td>Улучшенная черновая отделка</td>\n",
       "      <td>2390.0</td>\n",
       "    </tr>\n",
       "    <tr>\n",
       "      <th>1</th>\n",
       "      <td>5535905</td>\n",
       "      <td>0</td>\n",
       "      <td>0</td>\n",
       "      <td>Пластиковые</td>\n",
       "      <td>отсутствует</td>\n",
       "      <td>1</td>\n",
       "      <td>0</td>\n",
       "      <td>0</td>\n",
       "      <td>0</td>\n",
       "      <td>Нет балкона</td>\n",
       "      <td>...</td>\n",
       "      <td>Кирпичные</td>\n",
       "      <td>Голиковка</td>\n",
       "      <td>1979.0</td>\n",
       "      <td>18.00</td>\n",
       "      <td>2.55</td>\n",
       "      <td>открытый двор</td>\n",
       "      <td>1</td>\n",
       "      <td>0</td>\n",
       "      <td>Косметический ремонт</td>\n",
       "      <td>920.0</td>\n",
       "    </tr>\n",
       "    <tr>\n",
       "      <th>2</th>\n",
       "      <td>4644398</td>\n",
       "      <td>0</td>\n",
       "      <td>0</td>\n",
       "      <td>Пластиковые</td>\n",
       "      <td>есть</td>\n",
       "      <td>1</td>\n",
       "      <td>0</td>\n",
       "      <td>0</td>\n",
       "      <td>0</td>\n",
       "      <td>Есть балкон</td>\n",
       "      <td>...</td>\n",
       "      <td>Панельные</td>\n",
       "      <td>Древлянка</td>\n",
       "      <td>2021.0</td>\n",
       "      <td>57.83</td>\n",
       "      <td>2.70</td>\n",
       "      <td>закрытый двор</td>\n",
       "      <td>3</td>\n",
       "      <td>0</td>\n",
       "      <td>Улучшенная черновая отделка</td>\n",
       "      <td>3250.0</td>\n",
       "    </tr>\n",
       "    <tr>\n",
       "      <th>3</th>\n",
       "      <td>5667276</td>\n",
       "      <td>0</td>\n",
       "      <td>0</td>\n",
       "      <td>Пластиковые</td>\n",
       "      <td>есть</td>\n",
       "      <td>0</td>\n",
       "      <td>0</td>\n",
       "      <td>0</td>\n",
       "      <td>0</td>\n",
       "      <td>Лоджия</td>\n",
       "      <td>...</td>\n",
       "      <td>Монолитные</td>\n",
       "      <td>Ключевая</td>\n",
       "      <td>2016.0</td>\n",
       "      <td>41.20</td>\n",
       "      <td>2.70</td>\n",
       "      <td>открытый двор</td>\n",
       "      <td>2</td>\n",
       "      <td>0</td>\n",
       "      <td>Косметический ремонт</td>\n",
       "      <td>3590.0</td>\n",
       "    </tr>\n",
       "    <tr>\n",
       "      <th>4</th>\n",
       "      <td>4644417</td>\n",
       "      <td>0</td>\n",
       "      <td>0</td>\n",
       "      <td>Пластиковые</td>\n",
       "      <td>есть</td>\n",
       "      <td>1</td>\n",
       "      <td>0</td>\n",
       "      <td>0</td>\n",
       "      <td>0</td>\n",
       "      <td>Есть балкон</td>\n",
       "      <td>...</td>\n",
       "      <td>Панельные</td>\n",
       "      <td>Древлянка</td>\n",
       "      <td>2021.0</td>\n",
       "      <td>84.00</td>\n",
       "      <td>2.70</td>\n",
       "      <td>закрытый двор</td>\n",
       "      <td>4</td>\n",
       "      <td>0</td>\n",
       "      <td>Улучшенная черновая отделка</td>\n",
       "      <td>4500.0</td>\n",
       "    </tr>\n",
       "  </tbody>\n",
       "</table>\n",
       "<p>5 rows × 22 columns</p>\n",
       "</div>"
      ],
      "text/plain": [
       "   Код объекта  трассы  автомобильные мосты Материал окон Счетчик воды  \\\n",
       "0      5757236       0                    0   Пластиковые         есть   \n",
       "1      5535905       0                    0   Пластиковые  отсутствует   \n",
       "2      4644398       0                    0   Пластиковые         есть   \n",
       "3      5667276       0                    0   Пластиковые         есть   \n",
       "4      4644417       0                    0   Пластиковые         есть   \n",
       "\n",
       "   гостевой паркинг  памятники архитектуры  культуры  пешеходные бульвары  \\\n",
       "0                 0                      0         0                    0   \n",
       "1                 1                      0         0                    0   \n",
       "2                 1                      0         0                    0   \n",
       "3                 0                      0         0                    0   \n",
       "4                 1                      0         0                    0   \n",
       "\n",
       "        Балкон  ...       Стены      Адрес Год постройки Общая площадь  \\\n",
       "0  Есть балкон  ...   Панельные  Древлянка        2017.0         30.60   \n",
       "1  Нет балкона  ...   Кирпичные  Голиковка        1979.0         18.00   \n",
       "2  Есть балкон  ...   Панельные  Древлянка        2021.0         57.83   \n",
       "3       Лоджия  ...  Монолитные   Ключевая        2016.0         41.20   \n",
       "4  Есть балкон  ...   Панельные  Древлянка        2021.0         84.00   \n",
       "\n",
       "   Высота потолков           Двор  Комнатность подземный паркинг  \\\n",
       "0             2.50  открытый двор            1                 0   \n",
       "1             2.55  открытый двор            1                 0   \n",
       "2             2.70  закрытый двор            3                 0   \n",
       "3             2.70  открытый двор            2                 0   \n",
       "4             2.70  закрытый двор            4                 0   \n",
       "\n",
       "                        Ремонт    цена  \n",
       "0  Улучшенная черновая отделка  2390.0  \n",
       "1         Косметический ремонт   920.0  \n",
       "2  Улучшенная черновая отделка  3250.0  \n",
       "3         Косметический ремонт  3590.0  \n",
       "4  Улучшенная черновая отделка  4500.0  \n",
       "\n",
       "[5 rows x 22 columns]"
      ]
     },
     "execution_count": 13,
     "metadata": {},
     "output_type": "execute_result"
    }
   ],
   "source": [
    "#data = pd.read_csv('../data/fullData_test.csv')\n",
    "data = pd.read_csv('../data/fullData_test_toTransform.csv')\n",
    "data.head()"
   ]
  },
  {
   "cell_type": "code",
   "execution_count": 14,
   "id": "68f62639",
   "metadata": {},
   "outputs": [],
   "source": [
    "X = data.drop(columns='цена')\n",
    "Y = data['цена']"
   ]
  },
  {
   "cell_type": "markdown",
   "id": "546c4501",
   "metadata": {},
   "source": [
    "# data preprocessing"
   ]
  },
  {
   "cell_type": "code",
   "execution_count": 15,
   "id": "0b5aa2f5",
   "metadata": {},
   "outputs": [],
   "source": [
    "from sklearn.compose import ColumnTransformer\n",
    "from sklearn.preprocessing import FunctionTransformer\n",
    "from sklearn.preprocessing import  OneHotEncoder"
   ]
  },
  {
   "cell_type": "code",
   "execution_count": 16,
   "id": "2dccde94",
   "metadata": {},
   "outputs": [],
   "source": [
    "from sklearn.base import BaseEstimator, TransformerMixin\n",
    "class YearsTransformer(BaseEstimator, TransformerMixin):\n",
    "    \"\"\"Apply binarization and ohetransform to 'Год постройки' column\"\"\"\n",
    "    def __init__(self, bin_split=5):\n",
    "        self.bin_split = bin_split\n",
    "        self.is_fitted = False\n",
    "        self.ohe = OneHotEncoder(sparse=False)\n",
    "\n",
    "    def fit(self, X, Y=None):\n",
    "        bins = np.linspace(X.min(), X.max(), self.bin_split)\n",
    "        self.bins = bins\n",
    "        year = pd.cut(X, bins=self.bins, include_lowest=True)\n",
    "        self.ohe.fit(year.to_numpy().reshape(-1, 1))\n",
    "        cols_name = self.ohe.get_feature_names_out()\n",
    "        self.cols_name = [col.removeprefix('x0_') for col in cols_name]\n",
    "        self.is_fitted = True\n",
    "        return self\n",
    "\n",
    "    def transform(self, X):\n",
    "        assert self.is_fitted, 'call fit() method first, or use fit_transform()'\n",
    "        year = pd.cut(X, bins=self.bins, include_lowest=True)\n",
    "        year_ohe = self.ohe.transform(year.to_numpy().reshape(-1, 1))\n",
    "        return pd.DataFrame(year_ohe, index=X.index, columns=self.cols_name)\n",
    "\n",
    "    def inverse_transform(self, X):\n",
    "        raise NotImplementedError()\n",
    "    \n",
    "    def fit_transform(self, X, Y=None):\n",
    "        self.fit(X)\n",
    "        return self.transform(X)\n",
    "    \n",
    "    def get_feature_names_out(self, input_features):\n",
    "        return list(self.cols_name)\n",
    "\n",
    "class Renovationtransformer(BaseEstimator, TransformerMixin):\n",
    "    column_values = {'Черновая отделка' :0, 'Улучшенная черновая отделка' :1, 'Требует ремонта':2, 'Частичный ремонт':3,\n",
    "                        'Косметический ремонт':4, 'Современный ремонт':5, 'Ремонт по дизайн проекту':6}\n",
    "    def __init__(self):\n",
    "        self.is_fitted = False\n",
    "\n",
    "    def fit(self, X, Y=None):\n",
    "        self.is_fitted = True\n",
    "        return self\n",
    "\n",
    "    def transform(self, X):\n",
    "        assert self.is_fitted, 'call fit() method first, or use fit_transform()'\n",
    "        X_labeled_renovation = X.replace(column_values)\n",
    "        return X_labeled_renovation.to_frame()\n",
    "\n",
    "    def inverse_transform(self, X):\n",
    "        raise NotImplementedError()\n",
    "\n",
    "    def fit_transform(self, X, Y=None):\n",
    "        self.fit(X)\n",
    "        return self.transform(X)\n",
    "\n",
    "    def get_feature_names_out(self, input_features):\n",
    "        return [input_features]"
   ]
  },
  {
   "cell_type": "code",
   "execution_count": 17,
   "id": "849f8e89",
   "metadata": {},
   "outputs": [],
   "source": [
    "oheCols = ['Материал окон', 'Балкон', 'Серия', 'Стены',\n",
    "           'Адрес', 'Двор', 'Ремонт']\n",
    "oheColsDropFirst = ['Счетчик воды']"
   ]
  },
  {
   "cell_type": "code",
   "execution_count": 18,
   "id": "49ebe54a",
   "metadata": {},
   "outputs": [],
   "source": [
    "ct = ColumnTransformer([\n",
    "    (\"year_build\", YearsTransformer(), 'Год постройки'),\n",
    "    #(\"renovation\", Renovationtransformer(), \"Ремонт\"),\n",
    "    (\"ohe\", OneHotEncoder(sparse=False), oheCols),\n",
    "    (\"ohe_drop\", OneHotEncoder(sparse=False, drop='first'), oheColsDropFirst)\n",
    "],\n",
    "remainder='passthrough'\n",
    ")"
   ]
  },
  {
   "cell_type": "code",
   "execution_count": 20,
   "id": "748baff6",
   "metadata": {},
   "outputs": [
    {
     "data": {
      "text/html": [
       "<div>\n",
       "<style scoped>\n",
       "    .dataframe tbody tr th:only-of-type {\n",
       "        vertical-align: middle;\n",
       "    }\n",
       "\n",
       "    .dataframe tbody tr th {\n",
       "        vertical-align: top;\n",
       "    }\n",
       "\n",
       "    .dataframe thead th {\n",
       "        text-align: right;\n",
       "    }\n",
       "</style>\n",
       "<table border=\"1\" class=\"dataframe\">\n",
       "  <thead>\n",
       "    <tr style=\"text-align: right;\">\n",
       "      <th></th>\n",
       "      <th>year_build__(1933.999, 1955.75]</th>\n",
       "      <th>year_build__(1955.75, 1977.5]</th>\n",
       "      <th>year_build__(1977.5, 1999.25]</th>\n",
       "      <th>year_build__(1999.25, 2021.0]</th>\n",
       "      <th>ohe__Материал окон_Деревянные</th>\n",
       "      <th>ohe__Материал окон_Пластиковые</th>\n",
       "      <th>ohe__Материал окон_Пластиковые/деревянные</th>\n",
       "      <th>ohe__Балкон_Балкон и лоджия</th>\n",
       "      <th>ohe__Балкон_Два балкона и более</th>\n",
       "      <th>ohe__Балкон_Есть балкон</th>\n",
       "      <th>...</th>\n",
       "      <th>remainder__автомобильные мосты</th>\n",
       "      <th>remainder__гостевой паркинг</th>\n",
       "      <th>remainder__памятники архитектуры</th>\n",
       "      <th>remainder__культуры</th>\n",
       "      <th>remainder__пешеходные бульвары</th>\n",
       "      <th>remainder__всего этажей</th>\n",
       "      <th>remainder__Общая площадь</th>\n",
       "      <th>remainder__Высота потолков</th>\n",
       "      <th>remainder__Комнатность</th>\n",
       "      <th>remainder__подземный паркинг</th>\n",
       "    </tr>\n",
       "  </thead>\n",
       "  <tbody>\n",
       "    <tr>\n",
       "      <th>0</th>\n",
       "      <td>0.0</td>\n",
       "      <td>0.0</td>\n",
       "      <td>0.0</td>\n",
       "      <td>1.0</td>\n",
       "      <td>0.0</td>\n",
       "      <td>1.0</td>\n",
       "      <td>0.0</td>\n",
       "      <td>0.0</td>\n",
       "      <td>0.0</td>\n",
       "      <td>1.0</td>\n",
       "      <td>...</td>\n",
       "      <td>0.0</td>\n",
       "      <td>0.0</td>\n",
       "      <td>0.0</td>\n",
       "      <td>0.0</td>\n",
       "      <td>0.0</td>\n",
       "      <td>5.0</td>\n",
       "      <td>30.60</td>\n",
       "      <td>2.50</td>\n",
       "      <td>1.0</td>\n",
       "      <td>0.0</td>\n",
       "    </tr>\n",
       "    <tr>\n",
       "      <th>1</th>\n",
       "      <td>0.0</td>\n",
       "      <td>0.0</td>\n",
       "      <td>1.0</td>\n",
       "      <td>0.0</td>\n",
       "      <td>0.0</td>\n",
       "      <td>1.0</td>\n",
       "      <td>0.0</td>\n",
       "      <td>0.0</td>\n",
       "      <td>0.0</td>\n",
       "      <td>0.0</td>\n",
       "      <td>...</td>\n",
       "      <td>0.0</td>\n",
       "      <td>1.0</td>\n",
       "      <td>0.0</td>\n",
       "      <td>0.0</td>\n",
       "      <td>0.0</td>\n",
       "      <td>5.0</td>\n",
       "      <td>18.00</td>\n",
       "      <td>2.55</td>\n",
       "      <td>1.0</td>\n",
       "      <td>0.0</td>\n",
       "    </tr>\n",
       "    <tr>\n",
       "      <th>2</th>\n",
       "      <td>0.0</td>\n",
       "      <td>0.0</td>\n",
       "      <td>0.0</td>\n",
       "      <td>1.0</td>\n",
       "      <td>0.0</td>\n",
       "      <td>1.0</td>\n",
       "      <td>0.0</td>\n",
       "      <td>0.0</td>\n",
       "      <td>0.0</td>\n",
       "      <td>1.0</td>\n",
       "      <td>...</td>\n",
       "      <td>0.0</td>\n",
       "      <td>1.0</td>\n",
       "      <td>0.0</td>\n",
       "      <td>0.0</td>\n",
       "      <td>0.0</td>\n",
       "      <td>5.0</td>\n",
       "      <td>57.83</td>\n",
       "      <td>2.70</td>\n",
       "      <td>3.0</td>\n",
       "      <td>0.0</td>\n",
       "    </tr>\n",
       "    <tr>\n",
       "      <th>3</th>\n",
       "      <td>0.0</td>\n",
       "      <td>0.0</td>\n",
       "      <td>0.0</td>\n",
       "      <td>1.0</td>\n",
       "      <td>0.0</td>\n",
       "      <td>1.0</td>\n",
       "      <td>0.0</td>\n",
       "      <td>0.0</td>\n",
       "      <td>0.0</td>\n",
       "      <td>0.0</td>\n",
       "      <td>...</td>\n",
       "      <td>0.0</td>\n",
       "      <td>0.0</td>\n",
       "      <td>0.0</td>\n",
       "      <td>0.0</td>\n",
       "      <td>0.0</td>\n",
       "      <td>16.0</td>\n",
       "      <td>41.20</td>\n",
       "      <td>2.70</td>\n",
       "      <td>2.0</td>\n",
       "      <td>0.0</td>\n",
       "    </tr>\n",
       "    <tr>\n",
       "      <th>4</th>\n",
       "      <td>0.0</td>\n",
       "      <td>0.0</td>\n",
       "      <td>0.0</td>\n",
       "      <td>1.0</td>\n",
       "      <td>0.0</td>\n",
       "      <td>1.0</td>\n",
       "      <td>0.0</td>\n",
       "      <td>0.0</td>\n",
       "      <td>0.0</td>\n",
       "      <td>1.0</td>\n",
       "      <td>...</td>\n",
       "      <td>0.0</td>\n",
       "      <td>1.0</td>\n",
       "      <td>0.0</td>\n",
       "      <td>0.0</td>\n",
       "      <td>0.0</td>\n",
       "      <td>5.0</td>\n",
       "      <td>84.00</td>\n",
       "      <td>2.70</td>\n",
       "      <td>4.0</td>\n",
       "      <td>0.0</td>\n",
       "    </tr>\n",
       "  </tbody>\n",
       "</table>\n",
       "<p>5 rows × 60 columns</p>\n",
       "</div>"
      ],
      "text/plain": [
       "   year_build__(1933.999, 1955.75]  year_build__(1955.75, 1977.5]  \\\n",
       "0                              0.0                            0.0   \n",
       "1                              0.0                            0.0   \n",
       "2                              0.0                            0.0   \n",
       "3                              0.0                            0.0   \n",
       "4                              0.0                            0.0   \n",
       "\n",
       "   year_build__(1977.5, 1999.25]  year_build__(1999.25, 2021.0]  \\\n",
       "0                            0.0                            1.0   \n",
       "1                            1.0                            0.0   \n",
       "2                            0.0                            1.0   \n",
       "3                            0.0                            1.0   \n",
       "4                            0.0                            1.0   \n",
       "\n",
       "   ohe__Материал окон_Деревянные  ohe__Материал окон_Пластиковые  \\\n",
       "0                            0.0                             1.0   \n",
       "1                            0.0                             1.0   \n",
       "2                            0.0                             1.0   \n",
       "3                            0.0                             1.0   \n",
       "4                            0.0                             1.0   \n",
       "\n",
       "   ohe__Материал окон_Пластиковые/деревянные  ohe__Балкон_Балкон и лоджия  \\\n",
       "0                                        0.0                          0.0   \n",
       "1                                        0.0                          0.0   \n",
       "2                                        0.0                          0.0   \n",
       "3                                        0.0                          0.0   \n",
       "4                                        0.0                          0.0   \n",
       "\n",
       "   ohe__Балкон_Два балкона и более  ohe__Балкон_Есть балкон  ...  \\\n",
       "0                              0.0                      1.0  ...   \n",
       "1                              0.0                      0.0  ...   \n",
       "2                              0.0                      1.0  ...   \n",
       "3                              0.0                      0.0  ...   \n",
       "4                              0.0                      1.0  ...   \n",
       "\n",
       "   remainder__автомобильные мосты  remainder__гостевой паркинг  \\\n",
       "0                             0.0                          0.0   \n",
       "1                             0.0                          1.0   \n",
       "2                             0.0                          1.0   \n",
       "3                             0.0                          0.0   \n",
       "4                             0.0                          1.0   \n",
       "\n",
       "   remainder__памятники архитектуры  remainder__культуры  \\\n",
       "0                               0.0                  0.0   \n",
       "1                               0.0                  0.0   \n",
       "2                               0.0                  0.0   \n",
       "3                               0.0                  0.0   \n",
       "4                               0.0                  0.0   \n",
       "\n",
       "   remainder__пешеходные бульвары  remainder__всего этажей  \\\n",
       "0                             0.0                      5.0   \n",
       "1                             0.0                      5.0   \n",
       "2                             0.0                      5.0   \n",
       "3                             0.0                     16.0   \n",
       "4                             0.0                      5.0   \n",
       "\n",
       "   remainder__Общая площадь  remainder__Высота потолков  \\\n",
       "0                     30.60                        2.50   \n",
       "1                     18.00                        2.55   \n",
       "2                     57.83                        2.70   \n",
       "3                     41.20                        2.70   \n",
       "4                     84.00                        2.70   \n",
       "\n",
       "   remainder__Комнатность  remainder__подземный паркинг  \n",
       "0                     1.0                           0.0  \n",
       "1                     1.0                           0.0  \n",
       "2                     3.0                           0.0  \n",
       "3                     2.0                           0.0  \n",
       "4                     4.0                           0.0  \n",
       "\n",
       "[5 rows x 60 columns]"
      ]
     },
     "execution_count": 20,
     "metadata": {},
     "output_type": "execute_result"
    }
   ],
   "source": [
    "X_preproced = ct.fit_transform(X)\n",
    "X_preproced = pd.DataFrame(X_preproced, index=X.index, columns = ct.get_feature_names_out())\n",
    "X_preproced.head()"
   ]
  },
  {
   "cell_type": "code",
   "execution_count": 21,
   "id": "00503e6a-8055-4267-acad-858d9bd744c1",
   "metadata": {},
   "outputs": [],
   "source": [
    "# gridsearch for DecisionTree\n",
    "estimator = DecisionTreeRegressor()\n",
    "params = {'max_depth': [None,3,4,5,6,7,8,9,10,15,17,20],\n",
    "         'min_samples_split':[n for n in range(2,10)],\n",
    "          'min_samples_leaf' : [i for i in range(1,10)],\n",
    "          'random_state' : [42],\n",
    "         'min_samples_leaf': [n for n in range(1,10)],\n",
    "         'max_features':[n_features/10 for n_features in range(1,11)]}"
   ]
  },
  {
   "cell_type": "code",
   "execution_count": 22,
   "id": "b403c58c-f993-4862-910d-2c5cbd19d588",
   "metadata": {},
   "outputs": [],
   "source": [
    "grid = GridSearchCV(estimator, params, verbose=True)"
   ]
  },
  {
   "cell_type": "code",
   "execution_count": 28,
   "id": "2864d614-4bba-4f0b-b67b-644212d37146",
   "metadata": {},
   "outputs": [
    {
     "name": "stdout",
     "output_type": "stream",
     "text": [
      "Fitting 5 folds for each of 8640 candidates, totalling 43200 fits\n"
     ]
    },
    {
     "data": {
      "text/plain": [
       "GridSearchCV(estimator=DecisionTreeRegressor(),\n",
       "             param_grid={'max_depth': [None, 3, 4, 5, 6, 7, 8, 9, 10, 15, 17,\n",
       "                                       20],\n",
       "                         'max_features': [0.1, 0.2, 0.3, 0.4, 0.5, 0.6, 0.7,\n",
       "                                          0.8, 0.9, 1.0],\n",
       "                         'min_samples_leaf': [1, 2, 3, 4, 5, 6, 7, 8, 9],\n",
       "                         'min_samples_split': [2, 3, 4, 5, 6, 7, 8, 9],\n",
       "                         'random_state': [42]},\n",
       "             verbose=True)"
      ]
     },
     "execution_count": 28,
     "metadata": {},
     "output_type": "execute_result"
    }
   ],
   "source": [
    "grid.fit(X_preproced, Y)"
   ]
  },
  {
   "cell_type": "code",
   "execution_count": 29,
   "id": "adc192fc",
   "metadata": {},
   "outputs": [
    {
     "data": {
      "text/plain": [
       "{'max_depth': 8,\n",
       " 'max_features': 0.8,\n",
       " 'min_samples_leaf': 7,\n",
       " 'min_samples_split': 2,\n",
       " 'random_state': 42}"
      ]
     },
     "execution_count": 29,
     "metadata": {},
     "output_type": "execute_result"
    }
   ],
   "source": [
    "best_params = grid.best_params_\n",
    "best_params"
   ]
  },
  {
   "cell_type": "code",
   "execution_count": 24,
   "id": "3f7bb7e7",
   "metadata": {},
   "outputs": [],
   "source": [
    "best_params = {'max_depth': 8,\n",
    " 'max_features': 0.8,\n",
    " 'min_samples_leaf': 7,\n",
    " 'min_samples_split': 2,\n",
    " 'random_state': 42}"
   ]
  },
  {
   "cell_type": "code",
   "execution_count": null,
   "id": "48ba0bac",
   "metadata": {},
   "outputs": [],
   "source": [
    "#best_params = grid.best_params_\n",
    "#best_params"
   ]
  },
  {
   "cell_type": "code",
   "execution_count": 34,
   "id": "e716ca2d-ad97-4789-bf46-022edd366eaa",
   "metadata": {},
   "outputs": [],
   "source": [
    "model = DecisionTreeRegressor(**best_params)"
   ]
  },
  {
   "cell_type": "code",
   "execution_count": 35,
   "id": "4413628a",
   "metadata": {},
   "outputs": [
    {
     "data": {
      "text/plain": [
       "0.7894126649055451"
      ]
     },
     "execution_count": 35,
     "metadata": {},
     "output_type": "execute_result"
    }
   ],
   "source": [
    "score = cross_val_score(model, X_preproced, Y, cv=5)\n",
    "score.mean()"
   ]
  },
  {
   "cell_type": "code",
   "execution_count": 36,
   "id": "da0bf1e3-e3c7-440e-9175-ea691c47f4f2",
   "metadata": {},
   "outputs": [],
   "source": [
    "preds = cross_val_predict(model, X_preproced, Y, cv=5)"
   ]
  },
  {
   "cell_type": "code",
   "execution_count": 37,
   "id": "b2f3f1f6",
   "metadata": {},
   "outputs": [
    {
     "data": {
      "text/plain": [
       "465916.3732872541"
      ]
     },
     "execution_count": 37,
     "metadata": {},
     "output_type": "execute_result"
    }
   ],
   "source": [
    "mean_squared_error(preds, Y)"
   ]
  },
  {
   "cell_type": "code",
   "execution_count": 38,
   "id": "9bd76e9a",
   "metadata": {},
   "outputs": [
    {
     "data": {
      "text/plain": [
       "485.6879660245439"
      ]
     },
     "execution_count": 38,
     "metadata": {},
     "output_type": "execute_result"
    }
   ],
   "source": [
    "mean_absolute_error(preds, Y)"
   ]
  },
  {
   "cell_type": "code",
   "execution_count": null,
   "id": "45f1f542",
   "metadata": {},
   "outputs": [],
   "source": [
    "preds = cross_val_predict(model, X_preproced, Y, cv=5)"
   ]
  },
  {
   "cell_type": "code",
   "execution_count": 14,
   "id": "b39161dc-4c16-47b9-bc87-1a84ba57a964",
   "metadata": {},
   "outputs": [
    {
     "data": {
      "text/plain": [
       "472959.9084812822"
      ]
     },
     "execution_count": 14,
     "metadata": {},
     "output_type": "execute_result"
    }
   ],
   "source": [
    "mean_squared_error(preds, Y)"
   ]
  },
  {
   "cell_type": "code",
   "execution_count": 15,
   "id": "a1144494-8bd0-4d78-a6d9-4888f3237828",
   "metadata": {},
   "outputs": [
    {
     "data": {
      "text/plain": [
       "480.50977094044276"
      ]
     },
     "execution_count": 15,
     "metadata": {},
     "output_type": "execute_result"
    }
   ],
   "source": [
    "mean_absolute_error(preds, Y)"
   ]
  },
  {
   "cell_type": "code",
   "execution_count": 39,
   "id": "2e841ac3-1611-429f-8ebe-318d960e2830",
   "metadata": {},
   "outputs": [],
   "source": [
    "residuals = preds - Y"
   ]
  },
  {
   "cell_type": "code",
   "execution_count": 17,
   "id": "3a850b79-cc7f-4262-9eab-97086766946a",
   "metadata": {},
   "outputs": [
    {
     "data": {
      "image/png": "[encoded data removed]",
      "text/plain": [
       "<Figure size 640x480 with 1 Axes>"
      ]
     },
     "metadata": {},
     "output_type": "display_data"
    }
   ],
   "source": [
    "graph = sns.residplot(x=Y, y=preds)"
   ]
  },
  {
   "cell_type": "code",
   "execution_count": 41,
   "id": "a0a677b7",
   "metadata": {},
   "outputs": [
    {
     "data": {
      "text/plain": [
       "Text(0.5, 9.444444444444438, 'residuals')"
      ]
     },
     "execution_count": 41,
     "metadata": {},
     "output_type": "execute_result"
    },
    {
     "data": {
      "image/png": "[encoded data removed]",
      "text/plain": [
       "<Figure size 500x500 with 1 Axes>"
      ]
     },
     "metadata": {},
     "output_type": "display_data"
    }
   ],
   "source": [
    "sns.displot(residuals, bins=30, kde=True)\n",
    "plt.xlabel('residuals')"
   ]
  },
  {
   "cell_type": "code",
   "execution_count": 19,
   "id": "e72aab5a-a499-4d65-bfda-9457fa78be3b",
   "metadata": {},
   "outputs": [
    {
     "data": {
      "text/plain": [
       "0     2390.0\n",
       "1      920.0\n",
       "2     3250.0\n",
       "3     3590.0\n",
       "4     4500.0\n",
       "5     2550.0\n",
       "6     3000.0\n",
       "7      800.0\n",
       "8     4700.0\n",
       "9     2970.0\n",
       "10    4000.0\n",
       "11    2450.0\n",
       "12     570.0\n",
       "13    4200.0\n",
       "14    1190.0\n",
       "15    2700.0\n",
       "16    1999.0\n",
       "17    3200.0\n",
       "18    5500.0\n",
       "19     649.0\n",
       "20    4000.0\n",
       "21    2350.0\n",
       "22     590.0\n",
       "23     700.0\n",
       "24     990.0\n",
       "Name: цена, dtype: float64"
      ]
     },
     "execution_count": 19,
     "metadata": {},
     "output_type": "execute_result"
    }
   ],
   "source": [
    "Y.iloc[:25]"
   ]
  },
  {
   "cell_type": "code",
   "execution_count": 20,
   "id": "2a67e4c1-bfd7-4acf-9e0b-1bf13c616820",
   "metadata": {},
   "outputs": [
    {
     "data": {
      "text/plain": [
       "array([2760.30769231,  609.14285714, 3425.        , 2947.5       ,\n",
       "       5108.66666667, 3487.25      , 3399.17105263,  854.6       ,\n",
       "       6066.66666667, 3399.17105263, 4499.21428571, 2541.70689655,\n",
       "        609.14285714, 4011.47368421, 2254.82142857, 2541.70689655,\n",
       "       1403.33333333, 3399.17105263, 5108.66666667,  672.5       ,\n",
       "       3399.17105263, 2760.30769231,  854.6       ,  725.        ,\n",
       "        854.6       ])"
      ]
     },
     "execution_count": 20,
     "metadata": {},
     "output_type": "execute_result"
    }
   ],
   "source": [
    "preds[:25]"
   ]
  },
  {
   "cell_type": "markdown",
   "id": "dc033d4a",
   "metadata": {},
   "source": [
    "## Checking dummmy predictions\n",
    "predict price based on flat_type"
   ]
  },
  {
   "cell_type": "code",
   "execution_count": 23,
   "id": "4c8b86bc",
   "metadata": {},
   "outputs": [
    {
     "data": {
      "text/plain": [
       "Index(['Код объекта', 'трассы', 'автомобильные мосты', 'гостевой паркинг',\n",
       "       'памятники архитектуры', 'культуры', 'пешеходные бульвары',\n",
       "       'всего этажей', 'Общая площадь', 'Высота потолков', 'Комнатность',\n",
       "       'подземный паркинг', 'Материал окон_Деревянные',\n",
       "       'Материал окон_Пластиковые', 'Материал окон_Пластиковые/деревянные',\n",
       "       'Счетчик воды_есть', 'Счетчик воды_отсутствует',\n",
       "       'Балкон_Балкон и лоджия', 'Балкон_Два балкона и более',\n",
       "       'Балкон_Есть балкон', 'Балкон_Лоджия', 'Балкон_Нет балкона',\n",
       "       'Серия_1-335', 'Серия_1-335А', 'Серия_2-68-1-0', 'Серия_335-с',\n",
       "       'Серия_75 ', 'Серия_75.1, 3-75', 'Серия_А-1', 'Серия_Бреж', 'Серия_Инд',\n",
       "       'Серия_Общ', 'Серия_Хрущ', 'Стены_Блочные', 'Стены_Деревянные',\n",
       "       'Стены_Кирпичные', 'Стены_Монолитные', 'Стены_Панельные',\n",
       "       'Адрес_Голиковка', 'Адрес_Древлянка', 'Адрес_Зарека', 'Адрес_Ключевая',\n",
       "       'Адрес_Кукковка', 'Адрес_Октябрьский', 'Адрес_Первомайский',\n",
       "       'Адрес_Перевалка', 'Адрес_Сулажгора', 'Адрес_Центр',\n",
       "       'Год постройки_(1934.0, 1955.75]', 'Год постройки_(1955.75, 1977.5]',\n",
       "       'Год постройки_(1977.5, 1999.25]', 'Год постройки_(1999.25, 2021.0]',\n",
       "       'Двор_закрытый двор', 'Двор_открытый двор',\n",
       "       'Ремонт_Косметический ремонт', 'Ремонт_Ремонт по дизайн проекту',\n",
       "       'Ремонт_Современный ремонт', 'Ремонт_Требует ремонта',\n",
       "       'Ремонт_Улучшенная черновая отделка', 'Ремонт_Частичный ремонт',\n",
       "       'Ремонт_Черновая отделка'],\n",
       "      dtype='object')"
      ]
     },
     "execution_count": 23,
     "metadata": {},
     "output_type": "execute_result"
    }
   ],
   "source": [
    "raise notImplementedErro()"
   ]
  },
  {
   "cell_type": "code",
   "execution_count": 21,
   "id": "3c53e39a",
   "metadata": {},
   "outputs": [
    {
     "ename": "KeyError",
     "evalue": "'Серия'",
     "output_type": "error",
     "traceback": [
      "\u001b[1;31m---------------------------------------------------------------------------\u001b[0m",
      "\u001b[1;31mKeyError\u001b[0m                                  Traceback (most recent call last)",
      "\u001b[1;32m~\\AppData\\Local\\Temp\\ipykernel_9700\\3278682531.py\u001b[0m in \u001b[0;36m<module>\u001b[1;34m\u001b[0m\n\u001b[1;32m----> 1\u001b[1;33m \u001b[0mmeans\u001b[0m \u001b[1;33m=\u001b[0m \u001b[0mX\u001b[0m\u001b[1;33m.\u001b[0m\u001b[0mjoin\u001b[0m\u001b[1;33m(\u001b[0m\u001b[0mY\u001b[0m\u001b[1;33m)\u001b[0m\u001b[1;33m.\u001b[0m\u001b[0mgroupby\u001b[0m\u001b[1;33m(\u001b[0m\u001b[1;34m'Серия'\u001b[0m\u001b[1;33m)\u001b[0m\u001b[1;33m[\u001b[0m\u001b[1;34m'цена'\u001b[0m\u001b[1;33m]\u001b[0m\u001b[1;33m.\u001b[0m\u001b[0mmean\u001b[0m\u001b[1;33m(\u001b[0m\u001b[1;33m)\u001b[0m\u001b[1;33m\u001b[0m\u001b[1;33m\u001b[0m\u001b[0m\n\u001b[0m\u001b[0;32m      2\u001b[0m \u001b[0mmeans\u001b[0m\u001b[1;33m\u001b[0m\u001b[1;33m\u001b[0m\u001b[0m\n",
      "\u001b[1;32m~\\Anaconda3\\lib\\site-packages\\pandas\\core\\frame.py\u001b[0m in \u001b[0;36mgroupby\u001b[1;34m(self, by, axis, level, as_index, sort, group_keys, squeeze, observed, dropna)\u001b[0m\n\u001b[0;32m   7719\u001b[0m         \u001b[1;31m# error: Argument \"squeeze\" to \"DataFrameGroupBy\" has incompatible type\u001b[0m\u001b[1;33m\u001b[0m\u001b[1;33m\u001b[0m\u001b[0m\n\u001b[0;32m   7720\u001b[0m         \u001b[1;31m# \"Union[bool, NoDefault]\"; expected \"bool\"\u001b[0m\u001b[1;33m\u001b[0m\u001b[1;33m\u001b[0m\u001b[0m\n\u001b[1;32m-> 7721\u001b[1;33m         return DataFrameGroupBy(\n\u001b[0m\u001b[0;32m   7722\u001b[0m             \u001b[0mobj\u001b[0m\u001b[1;33m=\u001b[0m\u001b[0mself\u001b[0m\u001b[1;33m,\u001b[0m\u001b[1;33m\u001b[0m\u001b[1;33m\u001b[0m\u001b[0m\n\u001b[0;32m   7723\u001b[0m             \u001b[0mkeys\u001b[0m\u001b[1;33m=\u001b[0m\u001b[0mby\u001b[0m\u001b[1;33m,\u001b[0m\u001b[1;33m\u001b[0m\u001b[1;33m\u001b[0m\u001b[0m\n",
      "\u001b[1;32m~\\Anaconda3\\lib\\site-packages\\pandas\\core\\groupby\\groupby.py\u001b[0m in \u001b[0;36m__init__\u001b[1;34m(self, obj, keys, axis, level, grouper, exclusions, selection, as_index, sort, group_keys, squeeze, observed, mutated, dropna)\u001b[0m\n\u001b[0;32m    880\u001b[0m             \u001b[1;32mfrom\u001b[0m \u001b[0mpandas\u001b[0m\u001b[1;33m.\u001b[0m\u001b[0mcore\u001b[0m\u001b[1;33m.\u001b[0m\u001b[0mgroupby\u001b[0m\u001b[1;33m.\u001b[0m\u001b[0mgrouper\u001b[0m \u001b[1;32mimport\u001b[0m \u001b[0mget_grouper\u001b[0m\u001b[1;33m\u001b[0m\u001b[1;33m\u001b[0m\u001b[0m\n\u001b[0;32m    881\u001b[0m \u001b[1;33m\u001b[0m\u001b[0m\n\u001b[1;32m--> 882\u001b[1;33m             grouper, exclusions, obj = get_grouper(\n\u001b[0m\u001b[0;32m    883\u001b[0m                 \u001b[0mobj\u001b[0m\u001b[1;33m,\u001b[0m\u001b[1;33m\u001b[0m\u001b[1;33m\u001b[0m\u001b[0m\n\u001b[0;32m    884\u001b[0m                 \u001b[0mkeys\u001b[0m\u001b[1;33m,\u001b[0m\u001b[1;33m\u001b[0m\u001b[1;33m\u001b[0m\u001b[0m\n",
      "\u001b[1;32m~\\Anaconda3\\lib\\site-packages\\pandas\\core\\groupby\\grouper.py\u001b[0m in \u001b[0;36mget_grouper\u001b[1;34m(obj, key, axis, level, sort, observed, mutated, validate, dropna)\u001b[0m\n\u001b[0;32m    880\u001b[0m                 \u001b[0min_axis\u001b[0m\u001b[1;33m,\u001b[0m \u001b[0mlevel\u001b[0m\u001b[1;33m,\u001b[0m \u001b[0mgpr\u001b[0m \u001b[1;33m=\u001b[0m \u001b[1;32mFalse\u001b[0m\u001b[1;33m,\u001b[0m \u001b[0mgpr\u001b[0m\u001b[1;33m,\u001b[0m \u001b[1;32mNone\u001b[0m\u001b[1;33m\u001b[0m\u001b[1;33m\u001b[0m\u001b[0m\n\u001b[0;32m    881\u001b[0m             \u001b[1;32melse\u001b[0m\u001b[1;33m:\u001b[0m\u001b[1;33m\u001b[0m\u001b[1;33m\u001b[0m\u001b[0m\n\u001b[1;32m--> 882\u001b[1;33m                 \u001b[1;32mraise\u001b[0m \u001b[0mKeyError\u001b[0m\u001b[1;33m(\u001b[0m\u001b[0mgpr\u001b[0m\u001b[1;33m)\u001b[0m\u001b[1;33m\u001b[0m\u001b[1;33m\u001b[0m\u001b[0m\n\u001b[0m\u001b[0;32m    883\u001b[0m         \u001b[1;32melif\u001b[0m \u001b[0misinstance\u001b[0m\u001b[1;33m(\u001b[0m\u001b[0mgpr\u001b[0m\u001b[1;33m,\u001b[0m \u001b[0mGrouper\u001b[0m\u001b[1;33m)\u001b[0m \u001b[1;32mand\u001b[0m \u001b[0mgpr\u001b[0m\u001b[1;33m.\u001b[0m\u001b[0mkey\u001b[0m \u001b[1;32mis\u001b[0m \u001b[1;32mnot\u001b[0m \u001b[1;32mNone\u001b[0m\u001b[1;33m:\u001b[0m\u001b[1;33m\u001b[0m\u001b[1;33m\u001b[0m\u001b[0m\n\u001b[0;32m    884\u001b[0m             \u001b[1;31m# Add key to exclusions\u001b[0m\u001b[1;33m\u001b[0m\u001b[1;33m\u001b[0m\u001b[0m\n",
      "\u001b[1;31mKeyError\u001b[0m: 'Серия'"
     ]
    }
   ],
   "source": [
    "means = X.join(Y).groupby('Серия')['цена'].mean()\n",
    "means"
   ]
  },
  {
   "cell_type": "code",
   "execution_count": null,
   "id": "ad14d7fd",
   "metadata": {},
   "outputs": [],
   "source": [
    "dummy_preds = X['Серия'].transform(lambda x: means[x]).values"
   ]
  },
  {
   "cell_type": "code",
   "execution_count": null,
   "id": "fb0f990e",
   "metadata": {},
   "outputs": [],
   "source": [
    "mean_squared_error(dummy_preds,Y)"
   ]
  },
  {
   "cell_type": "code",
   "execution_count": null,
   "id": "0310c0ea",
   "metadata": {},
   "outputs": [],
   "source": [
    "mean_absolute_error(dummy_preds,Y)"
   ]
  },
  {
   "cell_type": "code",
   "execution_count": null,
   "id": "ea5f1fa6",
   "metadata": {},
   "outputs": [],
   "source": [
    "graph = sns.residplot(x=dummy_preds, y=Y)\n"
   ]
  },
  {
   "cell_type": "code",
   "execution_count": null,
   "id": "6f9655e0",
   "metadata": {},
   "outputs": [],
   "source": [
    "residuals_dummy = dummy_preds - Y"
   ]
  },
  {
   "cell_type": "code",
   "execution_count": null,
   "id": "e6c3e348",
   "metadata": {},
   "outputs": [],
   "source": [
    "sns.displot(residuals_dummy, bins=30, kde=True)\n",
    "plt.xlabel('residuals')"
   ]
  },
  {
   "cell_type": "markdown",
   "id": "435b2dbd-3ead-4270-b734-91040c78b68d",
   "metadata": {},
   "source": [
    "### models performs better then dummy regressor\n",
    "I conclude that model works"
   ]
  },
  {
   "cell_type": "markdown",
   "id": "6e2a2822",
   "metadata": {},
   "source": [
    "## Save model parameters"
   ]
  },
  {
   "cell_type": "code",
   "execution_count": null,
   "id": "b11f7a2e",
   "metadata": {},
   "outputs": [],
   "source": [
    "model.get_params()"
   ]
  },
  {
   "cell_type": "code",
   "execution_count": null,
   "id": "bd65528c",
   "metadata": {},
   "outputs": [],
   "source": [
    "import pickle"
   ]
  },
  {
   "cell_type": "code",
   "execution_count": null,
   "id": "d166ff07",
   "metadata": {},
   "outputs": [],
   "source": [
    "model.fit(X, Y)"
   ]
  },
  {
   "cell_type": "code",
   "execution_count": 103,
   "id": "fad12059",
   "metadata": {},
   "outputs": [],
   "source": [
    "#with open(\"model.pkl\", \"wb\") as f:\n",
    "#    pickle.dump(model, f)"
   ]
  },
  {
   "cell_type": "code",
   "execution_count": 104,
   "id": "a9b1d7e5",
   "metadata": {},
   "outputs": [],
   "source": [
    "#with open(\"model.pkl\", \"rb\") as f:\n",
    "#    derevo = pickle.load(f)"
   ]
  }
 ],
 "metadata": {
  "kernelspec": {
   "display_name": "Python 3 (ipykernel)",
   "language": "python",
   "name": "python3"
  },
  "language_info": {
   "codemirror_mode": {
    "name": "ipython",
    "version": 3
   },
   "file_extension": ".py",
   "mimetype": "text/x-python",
   "name": "python",
   "nbconvert_exporter": "python",
   "pygments_lexer": "ipython3",
   "version": "3.9.13"
  }
 },
 "nbformat": 4,
 "nbformat_minor": 5
}

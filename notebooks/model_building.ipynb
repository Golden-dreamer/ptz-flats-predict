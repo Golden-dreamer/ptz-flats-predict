{
 "cells": [
  {
   "cell_type": "markdown",
   "id": "a3ed6b5c-19fe-46a8-9e69-a07aebcdb93c",
   "metadata": {},
   "source": [
    "## Find best model"
   ]
  },
  {
   "cell_type": "code",
   "execution_count": 2,
   "id": "b1ab30fb",
   "metadata": {},
   "outputs": [],
   "source": [
    "import pandas as pd\n",
    "import numpy as np\n",
    "from scipy import stats\n",
    "import matplotlib.pyplot as plt\n",
    "import seaborn as sns\n",
    "\n",
    "from sklearn.tree import DecisionTreeRegressor, plot_tree\n",
    "from sklearn.model_selection import train_test_split, cross_val_score, cross_val_predict\n",
    "from sklearn.metrics import mean_squared_error, mean_absolute_error\n",
    "from sklearn.model_selection import GridSearchCV\n",
    "from sklearn.pipeline import Pipeline\n",
    "from sklearn.preprocessing import StandardScaler, Normalizer, OneHotEncoder\n",
    "\n",
    "from sklearn.ensemble import RandomForestRegressor, GradientBoostingRegressor\n",
    "from sklearn.linear_model import LinearRegression, Ridge, BayesianRidge\n",
    "from sklearn.svm import SVR\n",
    "from sklearn.neighbors import KNeighborsRegressor"
   ]
  },
  {
   "cell_type": "code",
   "execution_count": 3,
   "id": "766ac244",
   "metadata": {},
   "outputs": [
    {
     "data": {
      "text/html": [
       "<div>\n",
       "<style scoped>\n",
       "    .dataframe tbody tr th:only-of-type {\n",
       "        vertical-align: middle;\n",
       "    }\n",
       "\n",
       "    .dataframe tbody tr th {\n",
       "        vertical-align: top;\n",
       "    }\n",
       "\n",
       "    .dataframe thead th {\n",
       "        text-align: right;\n",
       "    }\n",
       "</style>\n",
       "<table border=\"1\" class=\"dataframe\">\n",
       "  <thead>\n",
       "    <tr style=\"text-align: right;\">\n",
       "      <th></th>\n",
       "      <th>Код объекта</th>\n",
       "      <th>трассы</th>\n",
       "      <th>автомобильные мосты</th>\n",
       "      <th>гостевой паркинг</th>\n",
       "      <th>памятники архитектуры</th>\n",
       "      <th>культуры</th>\n",
       "      <th>пешеходные бульвары</th>\n",
       "      <th>всего этажей</th>\n",
       "      <th>Общая площадь</th>\n",
       "      <th>Высота потолков</th>\n",
       "      <th>...</th>\n",
       "      <th>Двор_закрытый двор</th>\n",
       "      <th>Двор_открытый двор</th>\n",
       "      <th>Ремонт_Косметический ремонт</th>\n",
       "      <th>Ремонт_Ремонт по дизайн проекту</th>\n",
       "      <th>Ремонт_Современный ремонт</th>\n",
       "      <th>Ремонт_Требует ремонта</th>\n",
       "      <th>Ремонт_Улучшенная черновая отделка</th>\n",
       "      <th>Ремонт_Частичный ремонт</th>\n",
       "      <th>Ремонт_Черновая отделка</th>\n",
       "      <th>цена</th>\n",
       "    </tr>\n",
       "  </thead>\n",
       "  <tbody>\n",
       "    <tr>\n",
       "      <th>0</th>\n",
       "      <td>5757236</td>\n",
       "      <td>0</td>\n",
       "      <td>0</td>\n",
       "      <td>0</td>\n",
       "      <td>0</td>\n",
       "      <td>0</td>\n",
       "      <td>0</td>\n",
       "      <td>5</td>\n",
       "      <td>30.60</td>\n",
       "      <td>2.50</td>\n",
       "      <td>...</td>\n",
       "      <td>0</td>\n",
       "      <td>1</td>\n",
       "      <td>0</td>\n",
       "      <td>0</td>\n",
       "      <td>0</td>\n",
       "      <td>0</td>\n",
       "      <td>1</td>\n",
       "      <td>0</td>\n",
       "      <td>0</td>\n",
       "      <td>2390.0</td>\n",
       "    </tr>\n",
       "    <tr>\n",
       "      <th>1</th>\n",
       "      <td>5535905</td>\n",
       "      <td>0</td>\n",
       "      <td>0</td>\n",
       "      <td>1</td>\n",
       "      <td>0</td>\n",
       "      <td>0</td>\n",
       "      <td>0</td>\n",
       "      <td>5</td>\n",
       "      <td>18.00</td>\n",
       "      <td>2.55</td>\n",
       "      <td>...</td>\n",
       "      <td>0</td>\n",
       "      <td>1</td>\n",
       "      <td>1</td>\n",
       "      <td>0</td>\n",
       "      <td>0</td>\n",
       "      <td>0</td>\n",
       "      <td>0</td>\n",
       "      <td>0</td>\n",
       "      <td>0</td>\n",
       "      <td>920.0</td>\n",
       "    </tr>\n",
       "    <tr>\n",
       "      <th>2</th>\n",
       "      <td>4644398</td>\n",
       "      <td>0</td>\n",
       "      <td>0</td>\n",
       "      <td>1</td>\n",
       "      <td>0</td>\n",
       "      <td>0</td>\n",
       "      <td>0</td>\n",
       "      <td>5</td>\n",
       "      <td>57.83</td>\n",
       "      <td>2.70</td>\n",
       "      <td>...</td>\n",
       "      <td>1</td>\n",
       "      <td>0</td>\n",
       "      <td>0</td>\n",
       "      <td>0</td>\n",
       "      <td>0</td>\n",
       "      <td>0</td>\n",
       "      <td>1</td>\n",
       "      <td>0</td>\n",
       "      <td>0</td>\n",
       "      <td>3250.0</td>\n",
       "    </tr>\n",
       "    <tr>\n",
       "      <th>3</th>\n",
       "      <td>5667276</td>\n",
       "      <td>0</td>\n",
       "      <td>0</td>\n",
       "      <td>0</td>\n",
       "      <td>0</td>\n",
       "      <td>0</td>\n",
       "      <td>0</td>\n",
       "      <td>16</td>\n",
       "      <td>41.20</td>\n",
       "      <td>2.70</td>\n",
       "      <td>...</td>\n",
       "      <td>0</td>\n",
       "      <td>1</td>\n",
       "      <td>1</td>\n",
       "      <td>0</td>\n",
       "      <td>0</td>\n",
       "      <td>0</td>\n",
       "      <td>0</td>\n",
       "      <td>0</td>\n",
       "      <td>0</td>\n",
       "      <td>3590.0</td>\n",
       "    </tr>\n",
       "    <tr>\n",
       "      <th>4</th>\n",
       "      <td>4644417</td>\n",
       "      <td>0</td>\n",
       "      <td>0</td>\n",
       "      <td>1</td>\n",
       "      <td>0</td>\n",
       "      <td>0</td>\n",
       "      <td>0</td>\n",
       "      <td>5</td>\n",
       "      <td>84.00</td>\n",
       "      <td>2.70</td>\n",
       "      <td>...</td>\n",
       "      <td>1</td>\n",
       "      <td>0</td>\n",
       "      <td>0</td>\n",
       "      <td>0</td>\n",
       "      <td>0</td>\n",
       "      <td>0</td>\n",
       "      <td>1</td>\n",
       "      <td>0</td>\n",
       "      <td>0</td>\n",
       "      <td>4500.0</td>\n",
       "    </tr>\n",
       "  </tbody>\n",
       "</table>\n",
       "<p>5 rows × 62 columns</p>\n",
       "</div>"
      ],
      "text/plain": [
       "   Код объекта  трассы  автомобильные мосты  гостевой паркинг  \\\n",
       "0      5757236       0                    0                 0   \n",
       "1      5535905       0                    0                 1   \n",
       "2      4644398       0                    0                 1   \n",
       "3      5667276       0                    0                 0   \n",
       "4      4644417       0                    0                 1   \n",
       "\n",
       "   памятники архитектуры  культуры  пешеходные бульвары  всего этажей  \\\n",
       "0                      0         0                    0             5   \n",
       "1                      0         0                    0             5   \n",
       "2                      0         0                    0             5   \n",
       "3                      0         0                    0            16   \n",
       "4                      0         0                    0             5   \n",
       "\n",
       "   Общая площадь  Высота потолков  ...  Двор_закрытый двор  \\\n",
       "0          30.60             2.50  ...                   0   \n",
       "1          18.00             2.55  ...                   0   \n",
       "2          57.83             2.70  ...                   1   \n",
       "3          41.20             2.70  ...                   0   \n",
       "4          84.00             2.70  ...                   1   \n",
       "\n",
       "   Двор_открытый двор  Ремонт_Косметический ремонт  \\\n",
       "0                   1                            0   \n",
       "1                   1                            1   \n",
       "2                   0                            0   \n",
       "3                   1                            1   \n",
       "4                   0                            0   \n",
       "\n",
       "   Ремонт_Ремонт по дизайн проекту  Ремонт_Современный ремонт  \\\n",
       "0                                0                          0   \n",
       "1                                0                          0   \n",
       "2                                0                          0   \n",
       "3                                0                          0   \n",
       "4                                0                          0   \n",
       "\n",
       "   Ремонт_Требует ремонта  Ремонт_Улучшенная черновая отделка  \\\n",
       "0                       0                                   1   \n",
       "1                       0                                   0   \n",
       "2                       0                                   1   \n",
       "3                       0                                   0   \n",
       "4                       0                                   1   \n",
       "\n",
       "   Ремонт_Частичный ремонт  Ремонт_Черновая отделка    цена  \n",
       "0                        0                        0  2390.0  \n",
       "1                        0                        0   920.0  \n",
       "2                        0                        0  3250.0  \n",
       "3                        0                        0  3590.0  \n",
       "4                        0                        0  4500.0  \n",
       "\n",
       "[5 rows x 62 columns]"
      ]
     },
     "execution_count": 3,
     "metadata": {},
     "output_type": "execute_result"
    }
   ],
   "source": [
    "data = pd.read_csv('../data/fullData.csv')\n",
    "data.head()"
   ]
  },
  {
   "cell_type": "code",
   "execution_count": 5,
   "id": "70052672",
   "metadata": {},
   "outputs": [],
   "source": [
    "X = data.drop(columns='цена')\n",
    "Y = data['цена']"
   ]
  },
  {
   "cell_type": "code",
   "execution_count": 6,
   "id": "00503e6a-8055-4267-acad-858d9bd744c1",
   "metadata": {},
   "outputs": [],
   "source": [
    "# gridsearch for DecisionTree\n",
    "estimator = DecisionTreeRegressor()\n",
    "params = {'max_depth': [None,3,4,5,6,7,8,9,10,15,17,20],\n",
    "         'min_samples_split':[n for n in range(2,10)],\n",
    "          'min_samples_leaf' : [i for i in range(1,10)],\n",
    "          'random_state' : [42],\n",
    "         'min_samples_leaf': [n for n in range(1,10)],\n",
    "         'max_features':[n_features/10 for n_features in range(1,11)]}"
   ]
  },
  {
   "cell_type": "code",
   "execution_count": 7,
   "id": "b403c58c-f993-4862-910d-2c5cbd19d588",
   "metadata": {},
   "outputs": [],
   "source": [
    "grid = GridSearchCV(estimator, params, verbose=True)"
   ]
  },
  {
   "cell_type": "code",
   "execution_count": 8,
   "id": "2864d614-4bba-4f0b-b67b-644212d37146",
   "metadata": {},
   "outputs": [
    {
     "name": "stdout",
     "output_type": "stream",
     "text": [
      "Fitting 5 folds for each of 8640 candidates, totalling 43200 fits\n"
     ]
    },
    {
     "data": {
      "text/plain": [
       "GridSearchCV(estimator=DecisionTreeRegressor(),\n",
       "             param_grid={'max_depth': [None, 3, 4, 5, 6, 7, 8, 9, 10, 15, 17,\n",
       "                                       20],\n",
       "                         'max_features': [0.1, 0.2, 0.3, 0.4, 0.5, 0.6, 0.7,\n",
       "                                          0.8, 0.9, 1.0],\n",
       "                         'min_samples_leaf': [1, 2, 3, 4, 5, 6, 7, 8, 9],\n",
       "                         'min_samples_split': [2, 3, 4, 5, 6, 7, 8, 9],\n",
       "                         'random_state': [42]},\n",
       "             verbose=True)"
      ]
     },
     "execution_count": 8,
     "metadata": {},
     "output_type": "execute_result"
    }
   ],
   "source": [
    "grid.fit(X, Y)"
   ]
  },
  {
   "cell_type": "code",
   "execution_count": 9,
   "id": "adc192fc",
   "metadata": {},
   "outputs": [
    {
     "data": {
      "text/plain": [
       "{'max_depth': 6,\n",
       " 'max_features': 0.9,\n",
       " 'min_samples_leaf': 2,\n",
       " 'min_samples_split': 5,\n",
       " 'random_state': 42}"
      ]
     },
     "execution_count": 9,
     "metadata": {},
     "output_type": "execute_result"
    }
   ],
   "source": [
    "best_params = grid.best_params_\n",
    "best_params"
   ]
  },
  {
   "cell_type": "code",
   "execution_count": 10,
   "id": "e716ca2d-ad97-4789-bf46-022edd366eaa",
   "metadata": {},
   "outputs": [],
   "source": [
    "model = DecisionTreeRegressor(**best_params)"
   ]
  },
  {
   "cell_type": "code",
   "execution_count": 11,
   "id": "f4d06fd0-f0e6-4962-ab57-89393d3803a4",
   "metadata": {},
   "outputs": [
    {
     "data": {
      "text/plain": [
       "0.7884118840013705"
      ]
     },
     "execution_count": 11,
     "metadata": {},
     "output_type": "execute_result"
    }
   ],
   "source": [
    "score = cross_val_score(model, X, Y, cv=5)\n",
    "score.mean()"
   ]
  },
  {
   "cell_type": "code",
   "execution_count": 12,
   "id": "3a1652a5",
   "metadata": {},
   "outputs": [
    {
     "data": {
      "text/html": [
       "<div>\n",
       "<style scoped>\n",
       "    .dataframe tbody tr th:only-of-type {\n",
       "        vertical-align: middle;\n",
       "    }\n",
       "\n",
       "    .dataframe tbody tr th {\n",
       "        vertical-align: top;\n",
       "    }\n",
       "\n",
       "    .dataframe thead th {\n",
       "        text-align: right;\n",
       "    }\n",
       "</style>\n",
       "<table border=\"1\" class=\"dataframe\">\n",
       "  <thead>\n",
       "    <tr style=\"text-align: right;\">\n",
       "      <th></th>\n",
       "      <th>Код объекта</th>\n",
       "      <th>трассы</th>\n",
       "      <th>автомобильные мосты</th>\n",
       "      <th>гостевой паркинг</th>\n",
       "      <th>памятники архитектуры</th>\n",
       "      <th>культуры</th>\n",
       "      <th>пешеходные бульвары</th>\n",
       "      <th>всего этажей</th>\n",
       "      <th>Общая площадь</th>\n",
       "      <th>Высота потолков</th>\n",
       "      <th>...</th>\n",
       "      <th>Год постройки_(1999.25, 2021.0]</th>\n",
       "      <th>Двор_закрытый двор</th>\n",
       "      <th>Двор_открытый двор</th>\n",
       "      <th>Ремонт_Косметический ремонт</th>\n",
       "      <th>Ремонт_Ремонт по дизайн проекту</th>\n",
       "      <th>Ремонт_Современный ремонт</th>\n",
       "      <th>Ремонт_Требует ремонта</th>\n",
       "      <th>Ремонт_Улучшенная черновая отделка</th>\n",
       "      <th>Ремонт_Частичный ремонт</th>\n",
       "      <th>Ремонт_Черновая отделка</th>\n",
       "    </tr>\n",
       "  </thead>\n",
       "  <tbody>\n",
       "    <tr>\n",
       "      <th>0</th>\n",
       "      <td>5757236</td>\n",
       "      <td>0</td>\n",
       "      <td>0</td>\n",
       "      <td>0</td>\n",
       "      <td>0</td>\n",
       "      <td>0</td>\n",
       "      <td>0</td>\n",
       "      <td>5</td>\n",
       "      <td>30.60</td>\n",
       "      <td>2.50</td>\n",
       "      <td>...</td>\n",
       "      <td>1</td>\n",
       "      <td>0</td>\n",
       "      <td>1</td>\n",
       "      <td>0</td>\n",
       "      <td>0</td>\n",
       "      <td>0</td>\n",
       "      <td>0</td>\n",
       "      <td>1</td>\n",
       "      <td>0</td>\n",
       "      <td>0</td>\n",
       "    </tr>\n",
       "    <tr>\n",
       "      <th>1</th>\n",
       "      <td>5535905</td>\n",
       "      <td>0</td>\n",
       "      <td>0</td>\n",
       "      <td>1</td>\n",
       "      <td>0</td>\n",
       "      <td>0</td>\n",
       "      <td>0</td>\n",
       "      <td>5</td>\n",
       "      <td>18.00</td>\n",
       "      <td>2.55</td>\n",
       "      <td>...</td>\n",
       "      <td>0</td>\n",
       "      <td>0</td>\n",
       "      <td>1</td>\n",
       "      <td>1</td>\n",
       "      <td>0</td>\n",
       "      <td>0</td>\n",
       "      <td>0</td>\n",
       "      <td>0</td>\n",
       "      <td>0</td>\n",
       "      <td>0</td>\n",
       "    </tr>\n",
       "    <tr>\n",
       "      <th>2</th>\n",
       "      <td>4644398</td>\n",
       "      <td>0</td>\n",
       "      <td>0</td>\n",
       "      <td>1</td>\n",
       "      <td>0</td>\n",
       "      <td>0</td>\n",
       "      <td>0</td>\n",
       "      <td>5</td>\n",
       "      <td>57.83</td>\n",
       "      <td>2.70</td>\n",
       "      <td>...</td>\n",
       "      <td>1</td>\n",
       "      <td>1</td>\n",
       "      <td>0</td>\n",
       "      <td>0</td>\n",
       "      <td>0</td>\n",
       "      <td>0</td>\n",
       "      <td>0</td>\n",
       "      <td>1</td>\n",
       "      <td>0</td>\n",
       "      <td>0</td>\n",
       "    </tr>\n",
       "    <tr>\n",
       "      <th>3</th>\n",
       "      <td>5667276</td>\n",
       "      <td>0</td>\n",
       "      <td>0</td>\n",
       "      <td>0</td>\n",
       "      <td>0</td>\n",
       "      <td>0</td>\n",
       "      <td>0</td>\n",
       "      <td>16</td>\n",
       "      <td>41.20</td>\n",
       "      <td>2.70</td>\n",
       "      <td>...</td>\n",
       "      <td>1</td>\n",
       "      <td>0</td>\n",
       "      <td>1</td>\n",
       "      <td>1</td>\n",
       "      <td>0</td>\n",
       "      <td>0</td>\n",
       "      <td>0</td>\n",
       "      <td>0</td>\n",
       "      <td>0</td>\n",
       "      <td>0</td>\n",
       "    </tr>\n",
       "    <tr>\n",
       "      <th>4</th>\n",
       "      <td>4644417</td>\n",
       "      <td>0</td>\n",
       "      <td>0</td>\n",
       "      <td>1</td>\n",
       "      <td>0</td>\n",
       "      <td>0</td>\n",
       "      <td>0</td>\n",
       "      <td>5</td>\n",
       "      <td>84.00</td>\n",
       "      <td>2.70</td>\n",
       "      <td>...</td>\n",
       "      <td>1</td>\n",
       "      <td>1</td>\n",
       "      <td>0</td>\n",
       "      <td>0</td>\n",
       "      <td>0</td>\n",
       "      <td>0</td>\n",
       "      <td>0</td>\n",
       "      <td>1</td>\n",
       "      <td>0</td>\n",
       "      <td>0</td>\n",
       "    </tr>\n",
       "    <tr>\n",
       "      <th>...</th>\n",
       "      <td>...</td>\n",
       "      <td>...</td>\n",
       "      <td>...</td>\n",
       "      <td>...</td>\n",
       "      <td>...</td>\n",
       "      <td>...</td>\n",
       "      <td>...</td>\n",
       "      <td>...</td>\n",
       "      <td>...</td>\n",
       "      <td>...</td>\n",
       "      <td>...</td>\n",
       "      <td>...</td>\n",
       "      <td>...</td>\n",
       "      <td>...</td>\n",
       "      <td>...</td>\n",
       "      <td>...</td>\n",
       "      <td>...</td>\n",
       "      <td>...</td>\n",
       "      <td>...</td>\n",
       "      <td>...</td>\n",
       "      <td>...</td>\n",
       "    </tr>\n",
       "    <tr>\n",
       "      <th>574</th>\n",
       "      <td>2891833</td>\n",
       "      <td>0</td>\n",
       "      <td>0</td>\n",
       "      <td>0</td>\n",
       "      <td>0</td>\n",
       "      <td>0</td>\n",
       "      <td>0</td>\n",
       "      <td>9</td>\n",
       "      <td>39.80</td>\n",
       "      <td>2.50</td>\n",
       "      <td>...</td>\n",
       "      <td>0</td>\n",
       "      <td>0</td>\n",
       "      <td>1</td>\n",
       "      <td>0</td>\n",
       "      <td>0</td>\n",
       "      <td>1</td>\n",
       "      <td>0</td>\n",
       "      <td>0</td>\n",
       "      <td>0</td>\n",
       "      <td>0</td>\n",
       "    </tr>\n",
       "    <tr>\n",
       "      <th>575</th>\n",
       "      <td>4671111</td>\n",
       "      <td>0</td>\n",
       "      <td>0</td>\n",
       "      <td>0</td>\n",
       "      <td>0</td>\n",
       "      <td>0</td>\n",
       "      <td>0</td>\n",
       "      <td>5</td>\n",
       "      <td>36.60</td>\n",
       "      <td>2.50</td>\n",
       "      <td>...</td>\n",
       "      <td>1</td>\n",
       "      <td>0</td>\n",
       "      <td>1</td>\n",
       "      <td>1</td>\n",
       "      <td>0</td>\n",
       "      <td>0</td>\n",
       "      <td>0</td>\n",
       "      <td>0</td>\n",
       "      <td>0</td>\n",
       "      <td>0</td>\n",
       "    </tr>\n",
       "    <tr>\n",
       "      <th>576</th>\n",
       "      <td>5193363</td>\n",
       "      <td>0</td>\n",
       "      <td>0</td>\n",
       "      <td>0</td>\n",
       "      <td>0</td>\n",
       "      <td>0</td>\n",
       "      <td>0</td>\n",
       "      <td>5</td>\n",
       "      <td>30.60</td>\n",
       "      <td>2.50</td>\n",
       "      <td>...</td>\n",
       "      <td>0</td>\n",
       "      <td>0</td>\n",
       "      <td>1</td>\n",
       "      <td>1</td>\n",
       "      <td>0</td>\n",
       "      <td>0</td>\n",
       "      <td>0</td>\n",
       "      <td>0</td>\n",
       "      <td>0</td>\n",
       "      <td>0</td>\n",
       "    </tr>\n",
       "    <tr>\n",
       "      <th>577</th>\n",
       "      <td>2836807</td>\n",
       "      <td>0</td>\n",
       "      <td>0</td>\n",
       "      <td>0</td>\n",
       "      <td>0</td>\n",
       "      <td>0</td>\n",
       "      <td>0</td>\n",
       "      <td>9</td>\n",
       "      <td>51.00</td>\n",
       "      <td>2.50</td>\n",
       "      <td>...</td>\n",
       "      <td>1</td>\n",
       "      <td>0</td>\n",
       "      <td>1</td>\n",
       "      <td>0</td>\n",
       "      <td>0</td>\n",
       "      <td>1</td>\n",
       "      <td>0</td>\n",
       "      <td>0</td>\n",
       "      <td>0</td>\n",
       "      <td>0</td>\n",
       "    </tr>\n",
       "    <tr>\n",
       "      <th>578</th>\n",
       "      <td>2584308</td>\n",
       "      <td>0</td>\n",
       "      <td>0</td>\n",
       "      <td>0</td>\n",
       "      <td>0</td>\n",
       "      <td>0</td>\n",
       "      <td>0</td>\n",
       "      <td>5</td>\n",
       "      <td>59.10</td>\n",
       "      <td>2.50</td>\n",
       "      <td>...</td>\n",
       "      <td>0</td>\n",
       "      <td>0</td>\n",
       "      <td>1</td>\n",
       "      <td>0</td>\n",
       "      <td>0</td>\n",
       "      <td>0</td>\n",
       "      <td>1</td>\n",
       "      <td>0</td>\n",
       "      <td>0</td>\n",
       "      <td>0</td>\n",
       "    </tr>\n",
       "  </tbody>\n",
       "</table>\n",
       "<p>579 rows × 61 columns</p>\n",
       "</div>"
      ],
      "text/plain": [
       "     Код объекта  трассы  автомобильные мосты  гостевой паркинг  \\\n",
       "0        5757236       0                    0                 0   \n",
       "1        5535905       0                    0                 1   \n",
       "2        4644398       0                    0                 1   \n",
       "3        5667276       0                    0                 0   \n",
       "4        4644417       0                    0                 1   \n",
       "..           ...     ...                  ...               ...   \n",
       "574      2891833       0                    0                 0   \n",
       "575      4671111       0                    0                 0   \n",
       "576      5193363       0                    0                 0   \n",
       "577      2836807       0                    0                 0   \n",
       "578      2584308       0                    0                 0   \n",
       "\n",
       "     памятники архитектуры  культуры  пешеходные бульвары  всего этажей  \\\n",
       "0                        0         0                    0             5   \n",
       "1                        0         0                    0             5   \n",
       "2                        0         0                    0             5   \n",
       "3                        0         0                    0            16   \n",
       "4                        0         0                    0             5   \n",
       "..                     ...       ...                  ...           ...   \n",
       "574                      0         0                    0             9   \n",
       "575                      0         0                    0             5   \n",
       "576                      0         0                    0             5   \n",
       "577                      0         0                    0             9   \n",
       "578                      0         0                    0             5   \n",
       "\n",
       "     Общая площадь  Высота потолков  ...  Год постройки_(1999.25, 2021.0]  \\\n",
       "0            30.60             2.50  ...                                1   \n",
       "1            18.00             2.55  ...                                0   \n",
       "2            57.83             2.70  ...                                1   \n",
       "3            41.20             2.70  ...                                1   \n",
       "4            84.00             2.70  ...                                1   \n",
       "..             ...              ...  ...                              ...   \n",
       "574          39.80             2.50  ...                                0   \n",
       "575          36.60             2.50  ...                                1   \n",
       "576          30.60             2.50  ...                                0   \n",
       "577          51.00             2.50  ...                                1   \n",
       "578          59.10             2.50  ...                                0   \n",
       "\n",
       "     Двор_закрытый двор  Двор_открытый двор  Ремонт_Косметический ремонт  \\\n",
       "0                     0                   1                            0   \n",
       "1                     0                   1                            1   \n",
       "2                     1                   0                            0   \n",
       "3                     0                   1                            1   \n",
       "4                     1                   0                            0   \n",
       "..                  ...                 ...                          ...   \n",
       "574                   0                   1                            0   \n",
       "575                   0                   1                            1   \n",
       "576                   0                   1                            1   \n",
       "577                   0                   1                            0   \n",
       "578                   0                   1                            0   \n",
       "\n",
       "     Ремонт_Ремонт по дизайн проекту  Ремонт_Современный ремонт  \\\n",
       "0                                  0                          0   \n",
       "1                                  0                          0   \n",
       "2                                  0                          0   \n",
       "3                                  0                          0   \n",
       "4                                  0                          0   \n",
       "..                               ...                        ...   \n",
       "574                                0                          1   \n",
       "575                                0                          0   \n",
       "576                                0                          0   \n",
       "577                                0                          1   \n",
       "578                                0                          0   \n",
       "\n",
       "     Ремонт_Требует ремонта  Ремонт_Улучшенная черновая отделка  \\\n",
       "0                         0                                   1   \n",
       "1                         0                                   0   \n",
       "2                         0                                   1   \n",
       "3                         0                                   0   \n",
       "4                         0                                   1   \n",
       "..                      ...                                 ...   \n",
       "574                       0                                   0   \n",
       "575                       0                                   0   \n",
       "576                       0                                   0   \n",
       "577                       0                                   0   \n",
       "578                       1                                   0   \n",
       "\n",
       "     Ремонт_Частичный ремонт  Ремонт_Черновая отделка  \n",
       "0                          0                        0  \n",
       "1                          0                        0  \n",
       "2                          0                        0  \n",
       "3                          0                        0  \n",
       "4                          0                        0  \n",
       "..                       ...                      ...  \n",
       "574                        0                        0  \n",
       "575                        0                        0  \n",
       "576                        0                        0  \n",
       "577                        0                        0  \n",
       "578                        0                        0  \n",
       "\n",
       "[579 rows x 61 columns]"
      ]
     },
     "execution_count": 12,
     "metadata": {},
     "output_type": "execute_result"
    }
   ],
   "source": [
    "X"
   ]
  },
  {
   "cell_type": "code",
   "execution_count": 13,
   "id": "da0bf1e3-e3c7-440e-9175-ea691c47f4f2",
   "metadata": {},
   "outputs": [],
   "source": [
    "preds = cross_val_predict(model, X, Y, cv=5)"
   ]
  },
  {
   "cell_type": "code",
   "execution_count": 14,
   "id": "b39161dc-4c16-47b9-bc87-1a84ba57a964",
   "metadata": {},
   "outputs": [
    {
     "data": {
      "text/plain": [
       "472959.9084812822"
      ]
     },
     "execution_count": 14,
     "metadata": {},
     "output_type": "execute_result"
    }
   ],
   "source": [
    "mean_squared_error(preds, Y)"
   ]
  },
  {
   "cell_type": "code",
   "execution_count": 15,
   "id": "a1144494-8bd0-4d78-a6d9-4888f3237828",
   "metadata": {},
   "outputs": [
    {
     "data": {
      "text/plain": [
       "480.50977094044276"
      ]
     },
     "execution_count": 15,
     "metadata": {},
     "output_type": "execute_result"
    }
   ],
   "source": [
    "mean_absolute_error(preds, Y)"
   ]
  },
  {
   "cell_type": "code",
   "execution_count": 16,
   "id": "2e841ac3-1611-429f-8ebe-318d960e2830",
   "metadata": {},
   "outputs": [],
   "source": [
    "residuals = preds - Y"
   ]
  },
  {
   "cell_type": "code",
   "execution_count": 17,
   "id": "3a850b79-cc7f-4262-9eab-97086766946a",
   "metadata": {},
   "outputs": [
    {
     "data": {
      "image/png": "[encoded data removed]",
      "text/plain": [
       "<Figure size 640x480 with 1 Axes>"
      ]
     },
     "metadata": {},
     "output_type": "display_data"
    }
   ],
   "source": [
    "graph = sns.residplot(x=Y, y=preds)"
   ]
  },
  {
   "cell_type": "code",
   "execution_count": 18,
   "id": "6c39d28b-5a11-4d47-9162-f962270e5d6e",
   "metadata": {},
   "outputs": [
    {
     "data": {
      "text/plain": [
       "Text(0.5, 9.444444444444438, 'residuals')"
      ]
     },
     "execution_count": 18,
     "metadata": {},
     "output_type": "execute_result"
    },
    {
     "data": {
      "image/png": "[encoded data removed]",
      "text/plain": [
       "<Figure size 500x500 with 1 Axes>"
      ]
     },
     "metadata": {},
     "output_type": "display_data"
    }
   ],
   "source": [
    "sns.displot(residuals, bins=30, kde=True)\n",
    "plt.xlabel('residuals')"
   ]
  },
  {
   "cell_type": "code",
   "execution_count": 19,
   "id": "e72aab5a-a499-4d65-bfda-9457fa78be3b",
   "metadata": {},
   "outputs": [
    {
     "data": {
      "text/plain": [
       "0     2390.0\n",
       "1      920.0\n",
       "2     3250.0\n",
       "3     3590.0\n",
       "4     4500.0\n",
       "5     2550.0\n",
       "6     3000.0\n",
       "7      800.0\n",
       "8     4700.0\n",
       "9     2970.0\n",
       "10    4000.0\n",
       "11    2450.0\n",
       "12     570.0\n",
       "13    4200.0\n",
       "14    1190.0\n",
       "15    2700.0\n",
       "16    1999.0\n",
       "17    3200.0\n",
       "18    5500.0\n",
       "19     649.0\n",
       "20    4000.0\n",
       "21    2350.0\n",
       "22     590.0\n",
       "23     700.0\n",
       "24     990.0\n",
       "Name: цена, dtype: float64"
      ]
     },
     "execution_count": 19,
     "metadata": {},
     "output_type": "execute_result"
    }
   ],
   "source": [
    "Y.iloc[:25]"
   ]
  },
  {
   "cell_type": "code",
   "execution_count": 20,
   "id": "2a67e4c1-bfd7-4acf-9e0b-1bf13c616820",
   "metadata": {},
   "outputs": [
    {
     "data": {
      "text/plain": [
       "array([2760.30769231,  609.14285714, 3425.        , 2947.5       ,\n",
       "       5108.66666667, 3487.25      , 3399.17105263,  854.6       ,\n",
       "       6066.66666667, 3399.17105263, 4499.21428571, 2541.70689655,\n",
       "        609.14285714, 4011.47368421, 2254.82142857, 2541.70689655,\n",
       "       1403.33333333, 3399.17105263, 5108.66666667,  672.5       ,\n",
       "       3399.17105263, 2760.30769231,  854.6       ,  725.        ,\n",
       "        854.6       ])"
      ]
     },
     "execution_count": 20,
     "metadata": {},
     "output_type": "execute_result"
    }
   ],
   "source": [
    "preds[:25]"
   ]
  },
  {
   "cell_type": "markdown",
   "id": "dc033d4a",
   "metadata": {},
   "source": [
    "## Checking dummmy predictions\n",
    "predict price based on flat_type"
   ]
  },
  {
   "cell_type": "code",
   "execution_count": 23,
   "id": "bb3ec110",
   "metadata": {},
   "outputs": [
    {
     "data": {
      "text/plain": [
       "Index(['Код объекта', 'трассы', 'автомобильные мосты', 'гостевой паркинг',\n",
       "       'памятники архитектуры', 'культуры', 'пешеходные бульвары',\n",
       "       'всего этажей', 'Общая площадь', 'Высота потолков', 'Комнатность',\n",
       "       'подземный паркинг', 'Материал окон_Деревянные',\n",
       "       'Материал окон_Пластиковые', 'Материал окон_Пластиковые/деревянные',\n",
       "       'Счетчик воды_есть', 'Счетчик воды_отсутствует',\n",
       "       'Балкон_Балкон и лоджия', 'Балкон_Два балкона и более',\n",
       "       'Балкон_Есть балкон', 'Балкон_Лоджия', 'Балкон_Нет балкона',\n",
       "       'Серия_1-335', 'Серия_1-335А', 'Серия_2-68-1-0', 'Серия_335-с',\n",
       "       'Серия_75 ', 'Серия_75.1, 3-75', 'Серия_А-1', 'Серия_Бреж', 'Серия_Инд',\n",
       "       'Серия_Общ', 'Серия_Хрущ', 'Стены_Блочные', 'Стены_Деревянные',\n",
       "       'Стены_Кирпичные', 'Стены_Монолитные', 'Стены_Панельные',\n",
       "       'Адрес_Голиковка', 'Адрес_Древлянка', 'Адрес_Зарека', 'Адрес_Ключевая',\n",
       "       'Адрес_Кукковка', 'Адрес_Октябрьский', 'Адрес_Первомайский',\n",
       "       'Адрес_Перевалка', 'Адрес_Сулажгора', 'Адрес_Центр',\n",
       "       'Год постройки_(1934.0, 1955.75]', 'Год постройки_(1955.75, 1977.5]',\n",
       "       'Год постройки_(1977.5, 1999.25]', 'Год постройки_(1999.25, 2021.0]',\n",
       "       'Двор_закрытый двор', 'Двор_открытый двор',\n",
       "       'Ремонт_Косметический ремонт', 'Ремонт_Ремонт по дизайн проекту',\n",
       "       'Ремонт_Современный ремонт', 'Ремонт_Требует ремонта',\n",
       "       'Ремонт_Улучшенная черновая отделка', 'Ремонт_Частичный ремонт',\n",
       "       'Ремонт_Черновая отделка'],\n",
       "      dtype='object')"
      ]
     },
     "execution_count": 23,
     "metadata": {},
     "output_type": "execute_result"
    }
   ],
   "source": [
    "X.columns"
   ]
  },
  {
   "cell_type": "code",
   "execution_count": 21,
   "id": "3c53e39a",
   "metadata": {},
   "outputs": [
    {
     "ename": "KeyError",
     "evalue": "'Серия'",
     "output_type": "error",
     "traceback": [
      "\u001b[1;31m---------------------------------------------------------------------------\u001b[0m",
      "\u001b[1;31mKeyError\u001b[0m                                  Traceback (most recent call last)",
      "\u001b[1;32m~\\AppData\\Local\\Temp\\ipykernel_9700\\3278682531.py\u001b[0m in \u001b[0;36m<module>\u001b[1;34m\u001b[0m\n\u001b[1;32m----> 1\u001b[1;33m \u001b[0mmeans\u001b[0m \u001b[1;33m=\u001b[0m \u001b[0mX\u001b[0m\u001b[1;33m.\u001b[0m\u001b[0mjoin\u001b[0m\u001b[1;33m(\u001b[0m\u001b[0mY\u001b[0m\u001b[1;33m)\u001b[0m\u001b[1;33m.\u001b[0m\u001b[0mgroupby\u001b[0m\u001b[1;33m(\u001b[0m\u001b[1;34m'Серия'\u001b[0m\u001b[1;33m)\u001b[0m\u001b[1;33m[\u001b[0m\u001b[1;34m'цена'\u001b[0m\u001b[1;33m]\u001b[0m\u001b[1;33m.\u001b[0m\u001b[0mmean\u001b[0m\u001b[1;33m(\u001b[0m\u001b[1;33m)\u001b[0m\u001b[1;33m\u001b[0m\u001b[1;33m\u001b[0m\u001b[0m\n\u001b[0m\u001b[0;32m      2\u001b[0m \u001b[0mmeans\u001b[0m\u001b[1;33m\u001b[0m\u001b[1;33m\u001b[0m\u001b[0m\n",
      "\u001b[1;32m~\\Anaconda3\\lib\\site-packages\\pandas\\core\\frame.py\u001b[0m in \u001b[0;36mgroupby\u001b[1;34m(self, by, axis, level, as_index, sort, group_keys, squeeze, observed, dropna)\u001b[0m\n\u001b[0;32m   7719\u001b[0m         \u001b[1;31m# error: Argument \"squeeze\" to \"DataFrameGroupBy\" has incompatible type\u001b[0m\u001b[1;33m\u001b[0m\u001b[1;33m\u001b[0m\u001b[0m\n\u001b[0;32m   7720\u001b[0m         \u001b[1;31m# \"Union[bool, NoDefault]\"; expected \"bool\"\u001b[0m\u001b[1;33m\u001b[0m\u001b[1;33m\u001b[0m\u001b[0m\n\u001b[1;32m-> 7721\u001b[1;33m         return DataFrameGroupBy(\n\u001b[0m\u001b[0;32m   7722\u001b[0m             \u001b[0mobj\u001b[0m\u001b[1;33m=\u001b[0m\u001b[0mself\u001b[0m\u001b[1;33m,\u001b[0m\u001b[1;33m\u001b[0m\u001b[1;33m\u001b[0m\u001b[0m\n\u001b[0;32m   7723\u001b[0m             \u001b[0mkeys\u001b[0m\u001b[1;33m=\u001b[0m\u001b[0mby\u001b[0m\u001b[1;33m,\u001b[0m\u001b[1;33m\u001b[0m\u001b[1;33m\u001b[0m\u001b[0m\n",
      "\u001b[1;32m~\\Anaconda3\\lib\\site-packages\\pandas\\core\\groupby\\groupby.py\u001b[0m in \u001b[0;36m__init__\u001b[1;34m(self, obj, keys, axis, level, grouper, exclusions, selection, as_index, sort, group_keys, squeeze, observed, mutated, dropna)\u001b[0m\n\u001b[0;32m    880\u001b[0m             \u001b[1;32mfrom\u001b[0m \u001b[0mpandas\u001b[0m\u001b[1;33m.\u001b[0m\u001b[0mcore\u001b[0m\u001b[1;33m.\u001b[0m\u001b[0mgroupby\u001b[0m\u001b[1;33m.\u001b[0m\u001b[0mgrouper\u001b[0m \u001b[1;32mimport\u001b[0m \u001b[0mget_grouper\u001b[0m\u001b[1;33m\u001b[0m\u001b[1;33m\u001b[0m\u001b[0m\n\u001b[0;32m    881\u001b[0m \u001b[1;33m\u001b[0m\u001b[0m\n\u001b[1;32m--> 882\u001b[1;33m             grouper, exclusions, obj = get_grouper(\n\u001b[0m\u001b[0;32m    883\u001b[0m                 \u001b[0mobj\u001b[0m\u001b[1;33m,\u001b[0m\u001b[1;33m\u001b[0m\u001b[1;33m\u001b[0m\u001b[0m\n\u001b[0;32m    884\u001b[0m                 \u001b[0mkeys\u001b[0m\u001b[1;33m,\u001b[0m\u001b[1;33m\u001b[0m\u001b[1;33m\u001b[0m\u001b[0m\n",
      "\u001b[1;32m~\\Anaconda3\\lib\\site-packages\\pandas\\core\\groupby\\grouper.py\u001b[0m in \u001b[0;36mget_grouper\u001b[1;34m(obj, key, axis, level, sort, observed, mutated, validate, dropna)\u001b[0m\n\u001b[0;32m    880\u001b[0m                 \u001b[0min_axis\u001b[0m\u001b[1;33m,\u001b[0m \u001b[0mlevel\u001b[0m\u001b[1;33m,\u001b[0m \u001b[0mgpr\u001b[0m \u001b[1;33m=\u001b[0m \u001b[1;32mFalse\u001b[0m\u001b[1;33m,\u001b[0m \u001b[0mgpr\u001b[0m\u001b[1;33m,\u001b[0m \u001b[1;32mNone\u001b[0m\u001b[1;33m\u001b[0m\u001b[1;33m\u001b[0m\u001b[0m\n\u001b[0;32m    881\u001b[0m             \u001b[1;32melse\u001b[0m\u001b[1;33m:\u001b[0m\u001b[1;33m\u001b[0m\u001b[1;33m\u001b[0m\u001b[0m\n\u001b[1;32m--> 882\u001b[1;33m                 \u001b[1;32mraise\u001b[0m \u001b[0mKeyError\u001b[0m\u001b[1;33m(\u001b[0m\u001b[0mgpr\u001b[0m\u001b[1;33m)\u001b[0m\u001b[1;33m\u001b[0m\u001b[1;33m\u001b[0m\u001b[0m\n\u001b[0m\u001b[0;32m    883\u001b[0m         \u001b[1;32melif\u001b[0m \u001b[0misinstance\u001b[0m\u001b[1;33m(\u001b[0m\u001b[0mgpr\u001b[0m\u001b[1;33m,\u001b[0m \u001b[0mGrouper\u001b[0m\u001b[1;33m)\u001b[0m \u001b[1;32mand\u001b[0m \u001b[0mgpr\u001b[0m\u001b[1;33m.\u001b[0m\u001b[0mkey\u001b[0m \u001b[1;32mis\u001b[0m \u001b[1;32mnot\u001b[0m \u001b[1;32mNone\u001b[0m\u001b[1;33m:\u001b[0m\u001b[1;33m\u001b[0m\u001b[1;33m\u001b[0m\u001b[0m\n\u001b[0;32m    884\u001b[0m             \u001b[1;31m# Add key to exclusions\u001b[0m\u001b[1;33m\u001b[0m\u001b[1;33m\u001b[0m\u001b[0m\n",
      "\u001b[1;31mKeyError\u001b[0m: 'Серия'"
     ]
    }
   ],
   "source": [
    "means = X.join(Y).groupby('Серия')['цена'].mean()\n",
    "means"
   ]
  },
  {
   "cell_type": "code",
   "execution_count": null,
   "id": "ad14d7fd",
   "metadata": {},
   "outputs": [],
   "source": [
    "dummy_preds = X['Серия'].transform(lambda x: means[x]).values"
   ]
  },
  {
   "cell_type": "code",
   "execution_count": null,
   "id": "fb0f990e",
   "metadata": {},
   "outputs": [],
   "source": [
    "mean_squared_error(dummy_preds,Y)"
   ]
  },
  {
   "cell_type": "code",
   "execution_count": null,
   "id": "0310c0ea",
   "metadata": {},
   "outputs": [],
   "source": [
    "mean_absolute_error(dummy_preds,Y)"
   ]
  },
  {
   "cell_type": "code",
   "execution_count": null,
   "id": "ea5f1fa6",
   "metadata": {},
   "outputs": [],
   "source": [
    "graph = sns.residplot(x=dummy_preds, y=Y)\n"
   ]
  },
  {
   "cell_type": "code",
   "execution_count": null,
   "id": "6f9655e0",
   "metadata": {},
   "outputs": [],
   "source": [
    "residuals_dummy = dummy_preds - Y"
   ]
  },
  {
   "cell_type": "code",
   "execution_count": null,
   "id": "e6c3e348",
   "metadata": {},
   "outputs": [],
   "source": [
    "sns.displot(residuals_dummy, bins=30, kde=True)\n",
    "plt.xlabel('residuals')"
   ]
  },
  {
   "cell_type": "markdown",
   "id": "435b2dbd-3ead-4270-b734-91040c78b68d",
   "metadata": {},
   "source": [
    "### models performs better then dummy regressor\n",
    "I conclude that model works"
   ]
  },
  {
   "cell_type": "markdown",
   "id": "6e2a2822",
   "metadata": {},
   "source": [
    "## Save model parameters"
   ]
  },
  {
   "cell_type": "code",
   "execution_count": null,
   "id": "b11f7a2e",
   "metadata": {},
   "outputs": [],
   "source": [
    "model.get_params()"
   ]
  },
  {
   "cell_type": "code",
   "execution_count": null,
   "id": "bd65528c",
   "metadata": {},
   "outputs": [],
   "source": [
    "import pickle"
   ]
  },
  {
   "cell_type": "code",
   "execution_count": null,
   "id": "d166ff07",
   "metadata": {},
   "outputs": [],
   "source": [
    "model.fit(X, Y)"
   ]
  },
  {
   "cell_type": "code",
   "execution_count": 103,
   "id": "fad12059",
   "metadata": {},
   "outputs": [],
   "source": [
    "#with open(\"model.pkl\", \"wb\") as f:\n",
    "#    pickle.dump(model, f)"
   ]
  },
  {
   "cell_type": "code",
   "execution_count": 104,
   "id": "a9b1d7e5",
   "metadata": {},
   "outputs": [],
   "source": [
    "#with open(\"model.pkl\", \"rb\") as f:\n",
    "#    derevo = pickle.load(f)"
   ]
  }
 ],
 "metadata": {
  "kernelspec": {
   "display_name": "Python 3 (ipykernel)",
   "language": "python",
   "name": "python3"
  },
  "language_info": {
   "codemirror_mode": {
    "name": "ipython",
    "version": 3
   },
   "file_extension": ".py",
   "mimetype": "text/x-python",
   "name": "python",
   "nbconvert_exporter": "python",
   "pygments_lexer": "ipython3",
   "version": "3.9.13"
  }
 },
 "nbformat": 4,
 "nbformat_minor": 5
}

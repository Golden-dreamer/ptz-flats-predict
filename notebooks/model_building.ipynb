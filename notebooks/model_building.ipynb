{
 "cells": [
  {
   "cell_type": "markdown",
   "id": "a3ed6b5c-19fe-46a8-9e69-a07aebcdb93c",
   "metadata": {},
   "source": [
    "## Find best model"
   ]
  },
  {
   "cell_type": "code",
   "execution_count": 1,
   "id": "cc8eceb1",
   "metadata": {},
   "outputs": [],
   "source": [
    "import pandas as pd\n",
    "import numpy as np\n",
    "from scipy import stats\n",
    "import matplotlib.pyplot as plt\n",
    "import seaborn as sns\n",
    "\n",
    "from sklearn.tree import DecisionTreeRegressor, plot_tree\n",
    "from sklearn.model_selection import train_test_split, cross_val_score, cross_val_predict\n",
    "from sklearn.metrics import mean_squared_error, mean_absolute_error\n",
    "from sklearn.model_selection import GridSearchCV\n",
    "from sklearn.pipeline import Pipeline\n",
    "\n",
    "from sklearn.ensemble import RandomForestRegressor, GradientBoostingRegressor\n",
    "from sklearn.linear_model import LinearRegression, Ridge, BayesianRidge\n",
    "from sklearn.svm import SVR\n",
    "from sklearn.neighbors import KNeighborsRegressor"
   ]
  },
  {
   "cell_type": "code",
   "execution_count": 2,
   "id": "343d3c50",
   "metadata": {},
   "outputs": [
    {
     "data": {
      "text/html": [
       "<div>\n",
       "<style scoped>\n",
       "    .dataframe tbody tr th:only-of-type {\n",
       "        vertical-align: middle;\n",
       "    }\n",
       "\n",
       "    .dataframe tbody tr th {\n",
       "        vertical-align: top;\n",
       "    }\n",
       "\n",
       "    .dataframe thead th {\n",
       "        text-align: right;\n",
       "    }\n",
       "</style>\n",
       "<table border=\"1\" class=\"dataframe\">\n",
       "  <thead>\n",
       "    <tr style=\"text-align: right;\">\n",
       "      <th></th>\n",
       "      <th>трассы</th>\n",
       "      <th>автомобильные мосты</th>\n",
       "      <th>Материал окон</th>\n",
       "      <th>Счетчик воды</th>\n",
       "      <th>гостевой паркинг</th>\n",
       "      <th>памятники архитектуры</th>\n",
       "      <th>культуры</th>\n",
       "      <th>пешеходные бульвары</th>\n",
       "      <th>Балкон</th>\n",
       "      <th>всего этажей</th>\n",
       "      <th>...</th>\n",
       "      <th>Стены</th>\n",
       "      <th>Адрес</th>\n",
       "      <th>Год постройки</th>\n",
       "      <th>Общая площадь</th>\n",
       "      <th>Высота потолков</th>\n",
       "      <th>Двор</th>\n",
       "      <th>Комнатность</th>\n",
       "      <th>подземный паркинг</th>\n",
       "      <th>Ремонт</th>\n",
       "      <th>цена</th>\n",
       "    </tr>\n",
       "    <tr>\n",
       "      <th>Код объекта</th>\n",
       "      <th></th>\n",
       "      <th></th>\n",
       "      <th></th>\n",
       "      <th></th>\n",
       "      <th></th>\n",
       "      <th></th>\n",
       "      <th></th>\n",
       "      <th></th>\n",
       "      <th></th>\n",
       "      <th></th>\n",
       "      <th></th>\n",
       "      <th></th>\n",
       "      <th></th>\n",
       "      <th></th>\n",
       "      <th></th>\n",
       "      <th></th>\n",
       "      <th></th>\n",
       "      <th></th>\n",
       "      <th></th>\n",
       "      <th></th>\n",
       "      <th></th>\n",
       "    </tr>\n",
       "  </thead>\n",
       "  <tbody>\n",
       "    <tr>\n",
       "      <th>5757236</th>\n",
       "      <td>0</td>\n",
       "      <td>0</td>\n",
       "      <td>Пластиковые</td>\n",
       "      <td>есть</td>\n",
       "      <td>0</td>\n",
       "      <td>0</td>\n",
       "      <td>0</td>\n",
       "      <td>0</td>\n",
       "      <td>Есть балкон</td>\n",
       "      <td>5</td>\n",
       "      <td>...</td>\n",
       "      <td>Панельные</td>\n",
       "      <td>Древлянка</td>\n",
       "      <td>2017.0</td>\n",
       "      <td>30.60</td>\n",
       "      <td>2.50</td>\n",
       "      <td>открытый двор</td>\n",
       "      <td>1</td>\n",
       "      <td>0</td>\n",
       "      <td>Улучшенная черновая отделка</td>\n",
       "      <td>2390.0</td>\n",
       "    </tr>\n",
       "    <tr>\n",
       "      <th>5535905</th>\n",
       "      <td>0</td>\n",
       "      <td>0</td>\n",
       "      <td>Пластиковые</td>\n",
       "      <td>отсутствует</td>\n",
       "      <td>1</td>\n",
       "      <td>0</td>\n",
       "      <td>0</td>\n",
       "      <td>0</td>\n",
       "      <td>Нет балкона</td>\n",
       "      <td>5</td>\n",
       "      <td>...</td>\n",
       "      <td>Кирпичные</td>\n",
       "      <td>Голиковка</td>\n",
       "      <td>1979.0</td>\n",
       "      <td>18.00</td>\n",
       "      <td>2.55</td>\n",
       "      <td>открытый двор</td>\n",
       "      <td>1</td>\n",
       "      <td>0</td>\n",
       "      <td>Косметический ремонт</td>\n",
       "      <td>920.0</td>\n",
       "    </tr>\n",
       "    <tr>\n",
       "      <th>4644398</th>\n",
       "      <td>0</td>\n",
       "      <td>0</td>\n",
       "      <td>Пластиковые</td>\n",
       "      <td>есть</td>\n",
       "      <td>1</td>\n",
       "      <td>0</td>\n",
       "      <td>0</td>\n",
       "      <td>0</td>\n",
       "      <td>Есть балкон</td>\n",
       "      <td>5</td>\n",
       "      <td>...</td>\n",
       "      <td>Панельные</td>\n",
       "      <td>Древлянка</td>\n",
       "      <td>2021.0</td>\n",
       "      <td>57.83</td>\n",
       "      <td>2.70</td>\n",
       "      <td>закрытый двор</td>\n",
       "      <td>3</td>\n",
       "      <td>0</td>\n",
       "      <td>Улучшенная черновая отделка</td>\n",
       "      <td>3250.0</td>\n",
       "    </tr>\n",
       "    <tr>\n",
       "      <th>5667276</th>\n",
       "      <td>0</td>\n",
       "      <td>0</td>\n",
       "      <td>Пластиковые</td>\n",
       "      <td>есть</td>\n",
       "      <td>0</td>\n",
       "      <td>0</td>\n",
       "      <td>0</td>\n",
       "      <td>0</td>\n",
       "      <td>Лоджия</td>\n",
       "      <td>16</td>\n",
       "      <td>...</td>\n",
       "      <td>Монолитные</td>\n",
       "      <td>Ключевая</td>\n",
       "      <td>2016.0</td>\n",
       "      <td>41.20</td>\n",
       "      <td>2.70</td>\n",
       "      <td>открытый двор</td>\n",
       "      <td>2</td>\n",
       "      <td>0</td>\n",
       "      <td>Косметический ремонт</td>\n",
       "      <td>3590.0</td>\n",
       "    </tr>\n",
       "    <tr>\n",
       "      <th>4644417</th>\n",
       "      <td>0</td>\n",
       "      <td>0</td>\n",
       "      <td>Пластиковые</td>\n",
       "      <td>есть</td>\n",
       "      <td>1</td>\n",
       "      <td>0</td>\n",
       "      <td>0</td>\n",
       "      <td>0</td>\n",
       "      <td>Есть балкон</td>\n",
       "      <td>5</td>\n",
       "      <td>...</td>\n",
       "      <td>Панельные</td>\n",
       "      <td>Древлянка</td>\n",
       "      <td>2021.0</td>\n",
       "      <td>84.00</td>\n",
       "      <td>2.70</td>\n",
       "      <td>закрытый двор</td>\n",
       "      <td>4</td>\n",
       "      <td>0</td>\n",
       "      <td>Улучшенная черновая отделка</td>\n",
       "      <td>4500.0</td>\n",
       "    </tr>\n",
       "  </tbody>\n",
       "</table>\n",
       "<p>5 rows × 21 columns</p>\n",
       "</div>"
      ],
      "text/plain": [
       "             трассы  автомобильные мосты Материал окон Счетчик воды  \\\n",
       "Код объекта                                                           \n",
       "5757236           0                    0   Пластиковые         есть   \n",
       "5535905           0                    0   Пластиковые  отсутствует   \n",
       "4644398           0                    0   Пластиковые         есть   \n",
       "5667276           0                    0   Пластиковые         есть   \n",
       "4644417           0                    0   Пластиковые         есть   \n",
       "\n",
       "             гостевой паркинг  памятники архитектуры  культуры  \\\n",
       "Код объекта                                                      \n",
       "5757236                     0                      0         0   \n",
       "5535905                     1                      0         0   \n",
       "4644398                     1                      0         0   \n",
       "5667276                     0                      0         0   \n",
       "4644417                     1                      0         0   \n",
       "\n",
       "             пешеходные бульвары       Балкон  всего этажей  ...       Стены  \\\n",
       "Код объекта                                                  ...               \n",
       "5757236                        0  Есть балкон             5  ...   Панельные   \n",
       "5535905                        0  Нет балкона             5  ...   Кирпичные   \n",
       "4644398                        0  Есть балкон             5  ...   Панельные   \n",
       "5667276                        0       Лоджия            16  ...  Монолитные   \n",
       "4644417                        0  Есть балкон             5  ...   Панельные   \n",
       "\n",
       "                 Адрес Год постройки  Общая площадь  Высота потолков  \\\n",
       "Код объекта                                                            \n",
       "5757236      Древлянка        2017.0          30.60             2.50   \n",
       "5535905      Голиковка        1979.0          18.00             2.55   \n",
       "4644398      Древлянка        2021.0          57.83             2.70   \n",
       "5667276       Ключевая        2016.0          41.20             2.70   \n",
       "4644417      Древлянка        2021.0          84.00             2.70   \n",
       "\n",
       "                      Двор Комнатность  подземный паркинг  \\\n",
       "Код объекта                                                 \n",
       "5757236      открытый двор           1                  0   \n",
       "5535905      открытый двор           1                  0   \n",
       "4644398      закрытый двор           3                  0   \n",
       "5667276      открытый двор           2                  0   \n",
       "4644417      закрытый двор           4                  0   \n",
       "\n",
       "                                  Ремонт    цена  \n",
       "Код объекта                                       \n",
       "5757236      Улучшенная черновая отделка  2390.0  \n",
       "5535905             Косметический ремонт   920.0  \n",
       "4644398      Улучшенная черновая отделка  3250.0  \n",
       "5667276             Косметический ремонт  3590.0  \n",
       "4644417      Улучшенная черновая отделка  4500.0  \n",
       "\n",
       "[5 rows x 21 columns]"
      ]
     },
     "execution_count": 2,
     "metadata": {},
     "output_type": "execute_result"
    }
   ],
   "source": [
    "#data = pd.read_csv('../data/fullData_test.csv')\n",
    "data = pd.read_csv('../data/fullData_test_toTransform.csv', index_col='Код объекта')\n",
    "data.head()"
   ]
  },
  {
   "cell_type": "code",
   "execution_count": 3,
   "id": "68f62639",
   "metadata": {},
   "outputs": [],
   "source": [
    "X = data.drop(columns='цена')\n",
    "Y = data['цена']"
   ]
  },
  {
   "cell_type": "markdown",
   "id": "546c4501",
   "metadata": {},
   "source": [
    "# data preprocessing"
   ]
  },
  {
   "cell_type": "code",
   "execution_count": 4,
   "id": "0b5aa2f5",
   "metadata": {},
   "outputs": [],
   "source": [
    "from sklearn.compose import ColumnTransformer\n",
    "from sklearn.preprocessing import FunctionTransformer\n",
    "from sklearn.preprocessing import  OneHotEncoder, StandardScaler"
   ]
  },
  {
   "cell_type": "code",
   "execution_count": 5,
   "id": "2dccde94",
   "metadata": {},
   "outputs": [],
   "source": [
    "from sklearn.base import BaseEstimator, TransformerMixin\n",
    "class YearsTransformer(BaseEstimator, TransformerMixin):\n",
    "    \"\"\"Apply binarization and ohetransform to 'Год постройки' column\"\"\"\n",
    "    def __init__(self, bin_split=5):\n",
    "        self.bin_split = bin_split\n",
    "        self.is_fitted = False\n",
    "        self.ohe = OneHotEncoder(sparse=False)\n",
    "\n",
    "    def fit(self, X, Y=None):\n",
    "        bins = np.linspace(X.min(), X.max(), self.bin_split)\n",
    "        self.bins = bins\n",
    "        year = pd.cut(X, bins=self.bins, include_lowest=True)\n",
    "        self.ohe.fit(year.to_numpy().reshape(-1, 1))\n",
    "        cols_name = self.ohe.get_feature_names_out()\n",
    "        self.cols_name = [col.removeprefix('x0_') for col in cols_name]\n",
    "        self.is_fitted = True\n",
    "        return self\n",
    "\n",
    "    def transform(self, X):\n",
    "        assert self.is_fitted, 'call fit() method first, or use fit_transform()'\n",
    "        year = pd.cut(X, bins=self.bins, include_lowest=True)\n",
    "        year_ohe = self.ohe.transform(year.to_numpy().reshape(-1, 1))\n",
    "        return pd.DataFrame(year_ohe, index=X.index, columns=self.cols_name)\n",
    "\n",
    "    def inverse_transform(self, X):\n",
    "        raise NotImplementedError()\n",
    "    \n",
    "    def fit_transform(self, X, Y=None):\n",
    "        self.fit(X)\n",
    "        return self.transform(X)\n",
    "    \n",
    "    def get_feature_names_out(self, input_features):\n",
    "        return list(self.cols_name)\n",
    "\n",
    "class Renovationtransformer(BaseEstimator, TransformerMixin):\n",
    "    column_values = {'Черновая отделка' :0, 'Улучшенная черновая отделка' :1, 'Требует ремонта':2, 'Частичный ремонт':3,\n",
    "                        'Косметический ремонт':4, 'Современный ремонт':5, 'Ремонт по дизайн проекту':6}\n",
    "    def __init__(self):\n",
    "        self.is_fitted = False\n",
    "\n",
    "    def fit(self, X, Y=None):\n",
    "        self.is_fitted = True\n",
    "        return self\n",
    "\n",
    "    def transform(self, X):\n",
    "        assert self.is_fitted, 'call fit() method first, or use fit_transform()'\n",
    "        X_labeled_renovation = X.replace(column_values)\n",
    "        return X_labeled_renovation.to_frame()\n",
    "\n",
    "    def inverse_transform(self, X):\n",
    "        raise NotImplementedError()\n",
    "\n",
    "    def fit_transform(self, X, Y=None):\n",
    "        self.fit(X)\n",
    "        return self.transform(X)\n",
    "\n",
    "    def get_feature_names_out(self, input_features):\n",
    "        return [input_features]"
   ]
  },
  {
   "cell_type": "markdown",
   "id": "764dd017",
   "metadata": {},
   "source": [
    "preprocess different columns with different transformers using ColumnTransformer"
   ]
  },
  {
   "cell_type": "code",
   "execution_count": 6,
   "id": "849f8e89",
   "metadata": {},
   "outputs": [],
   "source": [
    "oheCols = ['Материал окон', 'Балкон', 'Серия', 'Стены',\n",
    "           'Адрес', 'Ремонт']\n",
    "oheColsDropFirst = ['Счетчик воды', 'Двор']\n",
    "scaleCols = ['Общая площадь', 'Высота потолков']"
   ]
  },
  {
   "cell_type": "code",
   "execution_count": 7,
   "id": "49ebe54a",
   "metadata": {},
   "outputs": [],
   "source": [
    "ct = ColumnTransformer([\n",
    "    (\"year_build\", YearsTransformer(), 'Год постройки'),\n",
    "    #(\"renovation\", Renovationtransformer(), \"Ремонт\"),\n",
    "    (\"ohe\", OneHotEncoder(sparse=False), oheCols),\n",
    "    (\"ohe_drop\", OneHotEncoder(sparse=False, drop='first'), oheColsDropFirst),\n",
    "    (\"scaling\", StandardScaler(), scaleCols)\n",
    "],\n",
    "remainder='passthrough'\n",
    ")"
   ]
  },
  {
   "cell_type": "code",
   "execution_count": 8,
   "id": "748baff6",
   "metadata": {},
   "outputs": [
    {
     "data": {
      "text/html": [
       "<div>\n",
       "<style scoped>\n",
       "    .dataframe tbody tr th:only-of-type {\n",
       "        vertical-align: middle;\n",
       "    }\n",
       "\n",
       "    .dataframe tbody tr th {\n",
       "        vertical-align: top;\n",
       "    }\n",
       "\n",
       "    .dataframe thead th {\n",
       "        text-align: right;\n",
       "    }\n",
       "</style>\n",
       "<table border=\"1\" class=\"dataframe\">\n",
       "  <thead>\n",
       "    <tr style=\"text-align: right;\">\n",
       "      <th></th>\n",
       "      <th>year_build__(1933.999, 1955.75]</th>\n",
       "      <th>year_build__(1955.75, 1977.5]</th>\n",
       "      <th>year_build__(1977.5, 1999.25]</th>\n",
       "      <th>year_build__(1999.25, 2021.0]</th>\n",
       "      <th>ohe__Материал окон_Деревянные</th>\n",
       "      <th>ohe__Материал окон_Пластиковые</th>\n",
       "      <th>ohe__Материал окон_Пластиковые/деревянные</th>\n",
       "      <th>ohe__Балкон_Балкон и лоджия</th>\n",
       "      <th>ohe__Балкон_Два балкона и более</th>\n",
       "      <th>ohe__Балкон_Есть балкон</th>\n",
       "      <th>...</th>\n",
       "      <th>scaling__Высота потолков</th>\n",
       "      <th>remainder__трассы</th>\n",
       "      <th>remainder__автомобильные мосты</th>\n",
       "      <th>remainder__гостевой паркинг</th>\n",
       "      <th>remainder__памятники архитектуры</th>\n",
       "      <th>remainder__культуры</th>\n",
       "      <th>remainder__пешеходные бульвары</th>\n",
       "      <th>remainder__всего этажей</th>\n",
       "      <th>remainder__Комнатность</th>\n",
       "      <th>remainder__подземный паркинг</th>\n",
       "    </tr>\n",
       "    <tr>\n",
       "      <th>Код объекта</th>\n",
       "      <th></th>\n",
       "      <th></th>\n",
       "      <th></th>\n",
       "      <th></th>\n",
       "      <th></th>\n",
       "      <th></th>\n",
       "      <th></th>\n",
       "      <th></th>\n",
       "      <th></th>\n",
       "      <th></th>\n",
       "      <th></th>\n",
       "      <th></th>\n",
       "      <th></th>\n",
       "      <th></th>\n",
       "      <th></th>\n",
       "      <th></th>\n",
       "      <th></th>\n",
       "      <th></th>\n",
       "      <th></th>\n",
       "      <th></th>\n",
       "      <th></th>\n",
       "    </tr>\n",
       "  </thead>\n",
       "  <tbody>\n",
       "    <tr>\n",
       "      <th>5757236</th>\n",
       "      <td>0.0</td>\n",
       "      <td>0.0</td>\n",
       "      <td>0.0</td>\n",
       "      <td>1.0</td>\n",
       "      <td>0.0</td>\n",
       "      <td>1.0</td>\n",
       "      <td>0.0</td>\n",
       "      <td>0.0</td>\n",
       "      <td>0.0</td>\n",
       "      <td>1.0</td>\n",
       "      <td>...</td>\n",
       "      <td>-0.339998</td>\n",
       "      <td>0.0</td>\n",
       "      <td>0.0</td>\n",
       "      <td>0.0</td>\n",
       "      <td>0.0</td>\n",
       "      <td>0.0</td>\n",
       "      <td>0.0</td>\n",
       "      <td>5.0</td>\n",
       "      <td>1.0</td>\n",
       "      <td>0.0</td>\n",
       "    </tr>\n",
       "    <tr>\n",
       "      <th>5535905</th>\n",
       "      <td>0.0</td>\n",
       "      <td>0.0</td>\n",
       "      <td>1.0</td>\n",
       "      <td>0.0</td>\n",
       "      <td>0.0</td>\n",
       "      <td>1.0</td>\n",
       "      <td>0.0</td>\n",
       "      <td>0.0</td>\n",
       "      <td>0.0</td>\n",
       "      <td>0.0</td>\n",
       "      <td>...</td>\n",
       "      <td>0.045546</td>\n",
       "      <td>0.0</td>\n",
       "      <td>0.0</td>\n",
       "      <td>1.0</td>\n",
       "      <td>0.0</td>\n",
       "      <td>0.0</td>\n",
       "      <td>0.0</td>\n",
       "      <td>5.0</td>\n",
       "      <td>1.0</td>\n",
       "      <td>0.0</td>\n",
       "    </tr>\n",
       "    <tr>\n",
       "      <th>4644398</th>\n",
       "      <td>0.0</td>\n",
       "      <td>0.0</td>\n",
       "      <td>0.0</td>\n",
       "      <td>1.0</td>\n",
       "      <td>0.0</td>\n",
       "      <td>1.0</td>\n",
       "      <td>0.0</td>\n",
       "      <td>0.0</td>\n",
       "      <td>0.0</td>\n",
       "      <td>1.0</td>\n",
       "      <td>...</td>\n",
       "      <td>1.202179</td>\n",
       "      <td>0.0</td>\n",
       "      <td>0.0</td>\n",
       "      <td>1.0</td>\n",
       "      <td>0.0</td>\n",
       "      <td>0.0</td>\n",
       "      <td>0.0</td>\n",
       "      <td>5.0</td>\n",
       "      <td>3.0</td>\n",
       "      <td>0.0</td>\n",
       "    </tr>\n",
       "    <tr>\n",
       "      <th>5667276</th>\n",
       "      <td>0.0</td>\n",
       "      <td>0.0</td>\n",
       "      <td>0.0</td>\n",
       "      <td>1.0</td>\n",
       "      <td>0.0</td>\n",
       "      <td>1.0</td>\n",
       "      <td>0.0</td>\n",
       "      <td>0.0</td>\n",
       "      <td>0.0</td>\n",
       "      <td>0.0</td>\n",
       "      <td>...</td>\n",
       "      <td>1.202179</td>\n",
       "      <td>0.0</td>\n",
       "      <td>0.0</td>\n",
       "      <td>0.0</td>\n",
       "      <td>0.0</td>\n",
       "      <td>0.0</td>\n",
       "      <td>0.0</td>\n",
       "      <td>16.0</td>\n",
       "      <td>2.0</td>\n",
       "      <td>0.0</td>\n",
       "    </tr>\n",
       "    <tr>\n",
       "      <th>4644417</th>\n",
       "      <td>0.0</td>\n",
       "      <td>0.0</td>\n",
       "      <td>0.0</td>\n",
       "      <td>1.0</td>\n",
       "      <td>0.0</td>\n",
       "      <td>1.0</td>\n",
       "      <td>0.0</td>\n",
       "      <td>0.0</td>\n",
       "      <td>0.0</td>\n",
       "      <td>1.0</td>\n",
       "      <td>...</td>\n",
       "      <td>1.202179</td>\n",
       "      <td>0.0</td>\n",
       "      <td>0.0</td>\n",
       "      <td>1.0</td>\n",
       "      <td>0.0</td>\n",
       "      <td>0.0</td>\n",
       "      <td>0.0</td>\n",
       "      <td>5.0</td>\n",
       "      <td>4.0</td>\n",
       "      <td>0.0</td>\n",
       "    </tr>\n",
       "  </tbody>\n",
       "</table>\n",
       "<p>5 rows × 58 columns</p>\n",
       "</div>"
      ],
      "text/plain": [
       "             year_build__(1933.999, 1955.75]  year_build__(1955.75, 1977.5]  \\\n",
       "Код объекта                                                                   \n",
       "5757236                                  0.0                            0.0   \n",
       "5535905                                  0.0                            0.0   \n",
       "4644398                                  0.0                            0.0   \n",
       "5667276                                  0.0                            0.0   \n",
       "4644417                                  0.0                            0.0   \n",
       "\n",
       "             year_build__(1977.5, 1999.25]  year_build__(1999.25, 2021.0]  \\\n",
       "Код объекта                                                                 \n",
       "5757236                                0.0                            1.0   \n",
       "5535905                                1.0                            0.0   \n",
       "4644398                                0.0                            1.0   \n",
       "5667276                                0.0                            1.0   \n",
       "4644417                                0.0                            1.0   \n",
       "\n",
       "             ohe__Материал окон_Деревянные  ohe__Материал окон_Пластиковые  \\\n",
       "Код объекта                                                                  \n",
       "5757236                                0.0                             1.0   \n",
       "5535905                                0.0                             1.0   \n",
       "4644398                                0.0                             1.0   \n",
       "5667276                                0.0                             1.0   \n",
       "4644417                                0.0                             1.0   \n",
       "\n",
       "             ohe__Материал окон_Пластиковые/деревянные  \\\n",
       "Код объекта                                              \n",
       "5757236                                            0.0   \n",
       "5535905                                            0.0   \n",
       "4644398                                            0.0   \n",
       "5667276                                            0.0   \n",
       "4644417                                            0.0   \n",
       "\n",
       "             ohe__Балкон_Балкон и лоджия  ohe__Балкон_Два балкона и более  \\\n",
       "Код объекта                                                                 \n",
       "5757236                              0.0                              0.0   \n",
       "5535905                              0.0                              0.0   \n",
       "4644398                              0.0                              0.0   \n",
       "5667276                              0.0                              0.0   \n",
       "4644417                              0.0                              0.0   \n",
       "\n",
       "             ohe__Балкон_Есть балкон  ...  scaling__Высота потолков  \\\n",
       "Код объекта                           ...                             \n",
       "5757236                          1.0  ...                 -0.339998   \n",
       "5535905                          0.0  ...                  0.045546   \n",
       "4644398                          1.0  ...                  1.202179   \n",
       "5667276                          0.0  ...                  1.202179   \n",
       "4644417                          1.0  ...                  1.202179   \n",
       "\n",
       "             remainder__трассы  remainder__автомобильные мосты  \\\n",
       "Код объекта                                                      \n",
       "5757236                    0.0                             0.0   \n",
       "5535905                    0.0                             0.0   \n",
       "4644398                    0.0                             0.0   \n",
       "5667276                    0.0                             0.0   \n",
       "4644417                    0.0                             0.0   \n",
       "\n",
       "             remainder__гостевой паркинг  remainder__памятники архитектуры  \\\n",
       "Код объекта                                                                  \n",
       "5757236                              0.0                               0.0   \n",
       "5535905                              1.0                               0.0   \n",
       "4644398                              1.0                               0.0   \n",
       "5667276                              0.0                               0.0   \n",
       "4644417                              1.0                               0.0   \n",
       "\n",
       "             remainder__культуры  remainder__пешеходные бульвары  \\\n",
       "Код объекта                                                        \n",
       "5757236                      0.0                             0.0   \n",
       "5535905                      0.0                             0.0   \n",
       "4644398                      0.0                             0.0   \n",
       "5667276                      0.0                             0.0   \n",
       "4644417                      0.0                             0.0   \n",
       "\n",
       "             remainder__всего этажей  remainder__Комнатность  \\\n",
       "Код объекта                                                    \n",
       "5757236                          5.0                     1.0   \n",
       "5535905                          5.0                     1.0   \n",
       "4644398                          5.0                     3.0   \n",
       "5667276                         16.0                     2.0   \n",
       "4644417                          5.0                     4.0   \n",
       "\n",
       "             remainder__подземный паркинг  \n",
       "Код объекта                                \n",
       "5757236                               0.0  \n",
       "5535905                               0.0  \n",
       "4644398                               0.0  \n",
       "5667276                               0.0  \n",
       "4644417                               0.0  \n",
       "\n",
       "[5 rows x 58 columns]"
      ]
     },
     "execution_count": 8,
     "metadata": {},
     "output_type": "execute_result"
    }
   ],
   "source": [
    "X_preproced = ct.fit_transform(X)\n",
    "X_preproced = pd.DataFrame(X_preproced, index=X.index, columns = ct.get_feature_names_out())\n",
    "X_preproced.head()"
   ]
  },
  {
   "cell_type": "code",
   "execution_count": 9,
   "id": "337ceda1",
   "metadata": {},
   "outputs": [
    {
     "data": {
      "text/plain": [
       "<AxesSubplot:xlabel='scaling__Высота потолков', ylabel='Count'>"
      ]
     },
     "execution_count": 9,
     "metadata": {},
     "output_type": "execute_result"
    },
    {
     "data": {
      "image/png": "[encoded data removed]",
      "text/plain": [
       "<Figure size 800x400 with 2 Axes>"
      ]
     },
     "metadata": {},
     "output_type": "display_data"
    }
   ],
   "source": [
    "data = X_preproced[[col for col in X_preproced.columns if 'scaling' in col]]\n",
    "f, ax = plt.subplots(1, 2, figsize=(8, 4))\n",
    "sns.histplot(data.iloc[:,0], ax=ax[0])\n",
    "sns.histplot(data.iloc[:,1], ax=ax[1])"
   ]
  },
  {
   "cell_type": "code",
   "execution_count": 10,
   "id": "00503e6a-8055-4267-acad-858d9bd744c1",
   "metadata": {},
   "outputs": [],
   "source": [
    "# gridsearch for DecisionTree\n",
    "estimator = DecisionTreeRegressor()\n",
    "params = {'max_depth': [None,3,4,5,6,7,8,9,10,15,17,20],\n",
    "         'min_samples_split':[n for n in range(2,10)],\n",
    "          'min_samples_leaf' : [i for i in range(1,10)],\n",
    "          'random_state' : [42],\n",
    "         'min_samples_leaf': [n for n in range(1,10)],\n",
    "         'max_features':[n_features/10 for n_features in range(1,11)]}"
   ]
  },
  {
   "cell_type": "code",
   "execution_count": 11,
   "id": "b403c58c-f993-4862-910d-2c5cbd19d588",
   "metadata": {},
   "outputs": [],
   "source": [
    "grid = GridSearchCV(estimator, params, verbose=True)\n",
    "#grid.fit(X_preproced, Y)\n",
    "#best_params = grid.best_params_\n",
    "#best_params"
   ]
  },
  {
   "cell_type": "code",
   "execution_count": null,
   "id": "adc192fc",
   "metadata": {},
   "outputs": [],
   "source": []
  },
  {
   "cell_type": "code",
   "execution_count": 12,
   "id": "3f7bb7e7",
   "metadata": {},
   "outputs": [],
   "source": [
    "best_params = {'max_depth': 8,\n",
    " 'max_features': 0.8,\n",
    " 'min_samples_leaf': 7,\n",
    " 'min_samples_split': 2,\n",
    " 'random_state': 42}"
   ]
  },
  {
   "cell_type": "code",
   "execution_count": 13,
   "id": "48ba0bac",
   "metadata": {},
   "outputs": [],
   "source": [
    "#best_params = grid.best_params_\n",
    "#best_params"
   ]
  },
  {
   "cell_type": "code",
   "execution_count": 14,
   "id": "b07ef3a5",
   "metadata": {},
   "outputs": [],
   "source": [
    "from sklearn.linear_model import Lasso, SGDRegressor\n",
    "from sklearn.neighbors import KNeighborsRegressor\n",
    "from sklearn.svm import LinearSVR"
   ]
  },
  {
   "cell_type": "code",
   "execution_count": 15,
   "id": "89bee2d5",
   "metadata": {},
   "outputs": [],
   "source": [
    "metrics = [mean_squared_error, mean_absolute_error]"
   ]
  },
  {
   "cell_type": "code",
   "execution_count": 16,
   "id": "1a3f7c9d",
   "metadata": {},
   "outputs": [],
   "source": [
    "models = [DecisionTreeRegressor(**best_params),LinearRegression(), \n",
    "          Lasso(alpha=0.25, random_state=42),\n",
    "          Ridge(alpha=0.05, random_state=42),\n",
    "          RandomForestRegressor(random_state=42),\n",
    "          SGDRegressor(penalty='l2', random_state=42),\n",
    "          KNeighborsRegressor(50),\n",
    "          LinearSVR(random_state=42)\n",
    "         ]"
   ]
  },
  {
   "cell_type": "markdown",
   "id": "13de28ac",
   "metadata": {},
   "source": [
    "Высокая корреляция между:  \n",
    "- трассы & автомобильные мосты;\n",
    "- памятники культуры & архитектуры & пешеходные бульвары;\n",
    "- комнатность & общая площадь.  \n",
    "Что вполне ожидаемо"
   ]
  },
  {
   "cell_type": "code",
   "execution_count": 17,
   "id": "1f730d6c",
   "metadata": {},
   "outputs": [],
   "source": [
    "corr = X_preproced.corr()\n",
    "high_pos_corr = corr[(corr>=0.65)].dropna(how='all')\n",
    "high_pos_corr.to_numpy()[np.diag_indices_from(high_pos_corr.to_numpy())] = np.nan  # mark diagnoal els as NaN\n",
    "high_pos_corr = high_pos_corr.dropna(how='all')"
   ]
  },
  {
   "cell_type": "code",
   "execution_count": 18,
   "id": "12be4ffd",
   "metadata": {},
   "outputs": [
    {
     "data": {
      "image/png": "[encoded data removed]",
      "text/plain": [
       "<Figure size 1400x900 with 2 Axes>"
      ]
     },
     "metadata": {},
     "output_type": "display_data"
    }
   ],
   "source": [
    "plt.figure(figsize=(14,9))\n",
    "heatmap = sns.heatmap(high_pos_corr.loc[:, high_pos_corr.index])\n",
    "fig = heatmap.get_figure()\n",
    "#fig.savefig(\"../images/high_positive.png\", dpi=300, bbox_inches='tight')"
   ]
  },
  {
   "cell_type": "markdown",
   "id": "2cd2aa9e",
   "metadata": {},
   "source": [
    "Высокая негативная корреляция между:  \n",
    "- Материал окон: деревянные vs. пластиковые;\n",
    "- Есть балкон vs. нет балкона;\n",
    "-  закрытый двор vs. открытый двор"
   ]
  },
  {
   "cell_type": "code",
   "execution_count": 19,
   "id": "05ce7790",
   "metadata": {},
   "outputs": [],
   "source": [
    "corr = X_preproced.corr()\n",
    "high_neg_corr = corr[corr<=-0.65].dropna(how='all')"
   ]
  },
  {
   "cell_type": "code",
   "execution_count": 20,
   "id": "f682646a",
   "metadata": {
    "scrolled": false
   },
   "outputs": [
    {
     "data": {
      "image/png": "[encoded data removed]",
      "text/plain": [
       "<Figure size 1400x900 with 2 Axes>"
      ]
     },
     "metadata": {},
     "output_type": "display_data"
    }
   ],
   "source": [
    "plt.figure(figsize=(14,9))\n",
    "heatmap = sns.heatmap(high_neg_corr.loc[:, high_neg_corr.index])\n",
    "fig = heatmap.get_figure()\n",
    "#fig.savefig(\"../images/high_negiative.png\", dpi=300, bbox_inches='tight')"
   ]
  },
  {
   "cell_type": "code",
   "execution_count": 21,
   "id": "d4539f96",
   "metadata": {},
   "outputs": [],
   "source": [
    "cols = ['ohe__Материал окон_Деревянные', 'ohe__Балкон_Нет балкона', 'ohe__Стены_Панельные']"
   ]
  },
  {
   "cell_type": "code",
   "execution_count": 22,
   "id": "6b3c207c",
   "metadata": {},
   "outputs": [
    {
     "data": {
      "text/plain": [
       "трассы                   0.062978\n",
       "автомобильные мосты      0.062978\n",
       "гостевой паркинг         0.053375\n",
       "памятники архитектуры    0.047461\n",
       "культуры                 0.047461\n",
       "пешеходные бульвары      0.047461\n",
       "всего этажей             0.208282\n",
       "Год постройки            0.300951\n",
       "Общая площадь            0.788724\n",
       "Высота потолков          0.216977\n",
       "Комнатность              0.666749\n",
       "подземный паркинг        0.117690\n",
       "dtype: float64"
      ]
     },
     "execution_count": 22,
     "metadata": {},
     "output_type": "execute_result"
    }
   ],
   "source": [
    "X.corrwith(Y)"
   ]
  },
  {
   "cell_type": "code",
   "execution_count": 23,
   "id": "f742ff38",
   "metadata": {},
   "outputs": [
    {
     "data": {
      "text/html": [
       "<div>\n",
       "<style scoped>\n",
       "    .dataframe tbody tr th:only-of-type {\n",
       "        vertical-align: middle;\n",
       "    }\n",
       "\n",
       "    .dataframe tbody tr th {\n",
       "        vertical-align: top;\n",
       "    }\n",
       "\n",
       "    .dataframe thead th {\n",
       "        text-align: right;\n",
       "    }\n",
       "</style>\n",
       "<table border=\"1\" class=\"dataframe\">\n",
       "  <thead>\n",
       "    <tr style=\"text-align: right;\">\n",
       "      <th></th>\n",
       "      <th>трассы</th>\n",
       "      <th>автомобильные мосты</th>\n",
       "      <th>Материал окон</th>\n",
       "      <th>Счетчик воды</th>\n",
       "      <th>гостевой паркинг</th>\n",
       "      <th>памятники архитектуры</th>\n",
       "      <th>культуры</th>\n",
       "      <th>пешеходные бульвары</th>\n",
       "      <th>Балкон</th>\n",
       "      <th>всего этажей</th>\n",
       "      <th>Серия</th>\n",
       "      <th>Стены</th>\n",
       "      <th>Адрес</th>\n",
       "      <th>Год постройки</th>\n",
       "      <th>Общая площадь</th>\n",
       "      <th>Высота потолков</th>\n",
       "      <th>Двор</th>\n",
       "      <th>Комнатность</th>\n",
       "      <th>подземный паркинг</th>\n",
       "      <th>Ремонт</th>\n",
       "    </tr>\n",
       "    <tr>\n",
       "      <th>Код объекта</th>\n",
       "      <th></th>\n",
       "      <th></th>\n",
       "      <th></th>\n",
       "      <th></th>\n",
       "      <th></th>\n",
       "      <th></th>\n",
       "      <th></th>\n",
       "      <th></th>\n",
       "      <th></th>\n",
       "      <th></th>\n",
       "      <th></th>\n",
       "      <th></th>\n",
       "      <th></th>\n",
       "      <th></th>\n",
       "      <th></th>\n",
       "      <th></th>\n",
       "      <th></th>\n",
       "      <th></th>\n",
       "      <th></th>\n",
       "      <th></th>\n",
       "    </tr>\n",
       "  </thead>\n",
       "  <tbody>\n",
       "    <tr>\n",
       "      <th>5757236</th>\n",
       "      <td>0</td>\n",
       "      <td>0</td>\n",
       "      <td>Пластиковые</td>\n",
       "      <td>есть</td>\n",
       "      <td>0</td>\n",
       "      <td>0</td>\n",
       "      <td>0</td>\n",
       "      <td>0</td>\n",
       "      <td>Есть балкон</td>\n",
       "      <td>5</td>\n",
       "      <td>Инд</td>\n",
       "      <td>Панельные</td>\n",
       "      <td>Древлянка</td>\n",
       "      <td>2017.0</td>\n",
       "      <td>30.60</td>\n",
       "      <td>2.50</td>\n",
       "      <td>открытый двор</td>\n",
       "      <td>1</td>\n",
       "      <td>0</td>\n",
       "      <td>Улучшенная черновая отделка</td>\n",
       "    </tr>\n",
       "    <tr>\n",
       "      <th>5535905</th>\n",
       "      <td>0</td>\n",
       "      <td>0</td>\n",
       "      <td>Пластиковые</td>\n",
       "      <td>отсутствует</td>\n",
       "      <td>1</td>\n",
       "      <td>0</td>\n",
       "      <td>0</td>\n",
       "      <td>0</td>\n",
       "      <td>Нет балкона</td>\n",
       "      <td>5</td>\n",
       "      <td>Общ</td>\n",
       "      <td>Кирпичные</td>\n",
       "      <td>Голиковка</td>\n",
       "      <td>1979.0</td>\n",
       "      <td>18.00</td>\n",
       "      <td>2.55</td>\n",
       "      <td>открытый двор</td>\n",
       "      <td>1</td>\n",
       "      <td>0</td>\n",
       "      <td>Косметический ремонт</td>\n",
       "    </tr>\n",
       "    <tr>\n",
       "      <th>4644398</th>\n",
       "      <td>0</td>\n",
       "      <td>0</td>\n",
       "      <td>Пластиковые</td>\n",
       "      <td>есть</td>\n",
       "      <td>1</td>\n",
       "      <td>0</td>\n",
       "      <td>0</td>\n",
       "      <td>0</td>\n",
       "      <td>Есть балкон</td>\n",
       "      <td>5</td>\n",
       "      <td>Инд</td>\n",
       "      <td>Панельные</td>\n",
       "      <td>Древлянка</td>\n",
       "      <td>2021.0</td>\n",
       "      <td>57.83</td>\n",
       "      <td>2.70</td>\n",
       "      <td>закрытый двор</td>\n",
       "      <td>3</td>\n",
       "      <td>0</td>\n",
       "      <td>Улучшенная черновая отделка</td>\n",
       "    </tr>\n",
       "    <tr>\n",
       "      <th>5667276</th>\n",
       "      <td>0</td>\n",
       "      <td>0</td>\n",
       "      <td>Пластиковые</td>\n",
       "      <td>есть</td>\n",
       "      <td>0</td>\n",
       "      <td>0</td>\n",
       "      <td>0</td>\n",
       "      <td>0</td>\n",
       "      <td>Лоджия</td>\n",
       "      <td>16</td>\n",
       "      <td>Инд</td>\n",
       "      <td>Монолитные</td>\n",
       "      <td>Ключевая</td>\n",
       "      <td>2016.0</td>\n",
       "      <td>41.20</td>\n",
       "      <td>2.70</td>\n",
       "      <td>открытый двор</td>\n",
       "      <td>2</td>\n",
       "      <td>0</td>\n",
       "      <td>Косметический ремонт</td>\n",
       "    </tr>\n",
       "    <tr>\n",
       "      <th>4644417</th>\n",
       "      <td>0</td>\n",
       "      <td>0</td>\n",
       "      <td>Пластиковые</td>\n",
       "      <td>есть</td>\n",
       "      <td>1</td>\n",
       "      <td>0</td>\n",
       "      <td>0</td>\n",
       "      <td>0</td>\n",
       "      <td>Есть балкон</td>\n",
       "      <td>5</td>\n",
       "      <td>Инд</td>\n",
       "      <td>Панельные</td>\n",
       "      <td>Древлянка</td>\n",
       "      <td>2021.0</td>\n",
       "      <td>84.00</td>\n",
       "      <td>2.70</td>\n",
       "      <td>закрытый двор</td>\n",
       "      <td>4</td>\n",
       "      <td>0</td>\n",
       "      <td>Улучшенная черновая отделка</td>\n",
       "    </tr>\n",
       "    <tr>\n",
       "      <th>...</th>\n",
       "      <td>...</td>\n",
       "      <td>...</td>\n",
       "      <td>...</td>\n",
       "      <td>...</td>\n",
       "      <td>...</td>\n",
       "      <td>...</td>\n",
       "      <td>...</td>\n",
       "      <td>...</td>\n",
       "      <td>...</td>\n",
       "      <td>...</td>\n",
       "      <td>...</td>\n",
       "      <td>...</td>\n",
       "      <td>...</td>\n",
       "      <td>...</td>\n",
       "      <td>...</td>\n",
       "      <td>...</td>\n",
       "      <td>...</td>\n",
       "      <td>...</td>\n",
       "      <td>...</td>\n",
       "      <td>...</td>\n",
       "    </tr>\n",
       "    <tr>\n",
       "      <th>2891833</th>\n",
       "      <td>0</td>\n",
       "      <td>0</td>\n",
       "      <td>Пластиковые</td>\n",
       "      <td>есть</td>\n",
       "      <td>0</td>\n",
       "      <td>0</td>\n",
       "      <td>0</td>\n",
       "      <td>0</td>\n",
       "      <td>Есть балкон</td>\n",
       "      <td>9</td>\n",
       "      <td>75</td>\n",
       "      <td>Панельные</td>\n",
       "      <td>Кукковка</td>\n",
       "      <td>1985.0</td>\n",
       "      <td>39.80</td>\n",
       "      <td>2.50</td>\n",
       "      <td>открытый двор</td>\n",
       "      <td>1</td>\n",
       "      <td>0</td>\n",
       "      <td>Современный ремонт</td>\n",
       "    </tr>\n",
       "    <tr>\n",
       "      <th>4671111</th>\n",
       "      <td>0</td>\n",
       "      <td>0</td>\n",
       "      <td>Пластиковые</td>\n",
       "      <td>есть</td>\n",
       "      <td>0</td>\n",
       "      <td>0</td>\n",
       "      <td>0</td>\n",
       "      <td>0</td>\n",
       "      <td>Есть балкон</td>\n",
       "      <td>5</td>\n",
       "      <td>Инд</td>\n",
       "      <td>Панельные</td>\n",
       "      <td>Ключевая</td>\n",
       "      <td>2012.0</td>\n",
       "      <td>36.60</td>\n",
       "      <td>2.50</td>\n",
       "      <td>открытый двор</td>\n",
       "      <td>1</td>\n",
       "      <td>0</td>\n",
       "      <td>Косметический ремонт</td>\n",
       "    </tr>\n",
       "    <tr>\n",
       "      <th>5193363</th>\n",
       "      <td>0</td>\n",
       "      <td>0</td>\n",
       "      <td>Пластиковые</td>\n",
       "      <td>есть</td>\n",
       "      <td>0</td>\n",
       "      <td>0</td>\n",
       "      <td>0</td>\n",
       "      <td>0</td>\n",
       "      <td>Есть балкон</td>\n",
       "      <td>5</td>\n",
       "      <td>Инд</td>\n",
       "      <td>Кирпичные</td>\n",
       "      <td>Октябрьский</td>\n",
       "      <td>1963.0</td>\n",
       "      <td>30.60</td>\n",
       "      <td>2.50</td>\n",
       "      <td>открытый двор</td>\n",
       "      <td>1</td>\n",
       "      <td>0</td>\n",
       "      <td>Косметический ремонт</td>\n",
       "    </tr>\n",
       "    <tr>\n",
       "      <th>2836807</th>\n",
       "      <td>0</td>\n",
       "      <td>0</td>\n",
       "      <td>Пластиковые</td>\n",
       "      <td>есть</td>\n",
       "      <td>0</td>\n",
       "      <td>0</td>\n",
       "      <td>0</td>\n",
       "      <td>0</td>\n",
       "      <td>Есть балкон</td>\n",
       "      <td>9</td>\n",
       "      <td>Инд</td>\n",
       "      <td>Панельные</td>\n",
       "      <td>Октябрьский</td>\n",
       "      <td>2014.0</td>\n",
       "      <td>51.00</td>\n",
       "      <td>2.50</td>\n",
       "      <td>открытый двор</td>\n",
       "      <td>1</td>\n",
       "      <td>0</td>\n",
       "      <td>Современный ремонт</td>\n",
       "    </tr>\n",
       "    <tr>\n",
       "      <th>2584308</th>\n",
       "      <td>0</td>\n",
       "      <td>0</td>\n",
       "      <td>Деревянные</td>\n",
       "      <td>есть</td>\n",
       "      <td>0</td>\n",
       "      <td>0</td>\n",
       "      <td>0</td>\n",
       "      <td>0</td>\n",
       "      <td>Есть балкон</td>\n",
       "      <td>5</td>\n",
       "      <td>Инд</td>\n",
       "      <td>Панельные</td>\n",
       "      <td>Сулажгора</td>\n",
       "      <td>1981.0</td>\n",
       "      <td>59.10</td>\n",
       "      <td>2.50</td>\n",
       "      <td>открытый двор</td>\n",
       "      <td>3</td>\n",
       "      <td>0</td>\n",
       "      <td>Требует ремонта</td>\n",
       "    </tr>\n",
       "  </tbody>\n",
       "</table>\n",
       "<p>579 rows × 20 columns</p>\n",
       "</div>"
      ],
      "text/plain": [
       "             трассы  автомобильные мосты Материал окон Счетчик воды  \\\n",
       "Код объекта                                                           \n",
       "5757236           0                    0   Пластиковые         есть   \n",
       "5535905           0                    0   Пластиковые  отсутствует   \n",
       "4644398           0                    0   Пластиковые         есть   \n",
       "5667276           0                    0   Пластиковые         есть   \n",
       "4644417           0                    0   Пластиковые         есть   \n",
       "...             ...                  ...           ...          ...   \n",
       "2891833           0                    0   Пластиковые         есть   \n",
       "4671111           0                    0   Пластиковые         есть   \n",
       "5193363           0                    0   Пластиковые         есть   \n",
       "2836807           0                    0   Пластиковые         есть   \n",
       "2584308           0                    0    Деревянные         есть   \n",
       "\n",
       "             гостевой паркинг  памятники архитектуры  культуры  \\\n",
       "Код объекта                                                      \n",
       "5757236                     0                      0         0   \n",
       "5535905                     1                      0         0   \n",
       "4644398                     1                      0         0   \n",
       "5667276                     0                      0         0   \n",
       "4644417                     1                      0         0   \n",
       "...                       ...                    ...       ...   \n",
       "2891833                     0                      0         0   \n",
       "4671111                     0                      0         0   \n",
       "5193363                     0                      0         0   \n",
       "2836807                     0                      0         0   \n",
       "2584308                     0                      0         0   \n",
       "\n",
       "             пешеходные бульвары       Балкон  всего этажей Серия       Стены  \\\n",
       "Код объекта                                                                     \n",
       "5757236                        0  Есть балкон             5   Инд   Панельные   \n",
       "5535905                        0  Нет балкона             5   Общ   Кирпичные   \n",
       "4644398                        0  Есть балкон             5   Инд   Панельные   \n",
       "5667276                        0       Лоджия            16   Инд  Монолитные   \n",
       "4644417                        0  Есть балкон             5   Инд   Панельные   \n",
       "...                          ...          ...           ...   ...         ...   \n",
       "2891833                        0  Есть балкон             9   75    Панельные   \n",
       "4671111                        0  Есть балкон             5   Инд   Панельные   \n",
       "5193363                        0  Есть балкон             5   Инд   Кирпичные   \n",
       "2836807                        0  Есть балкон             9   Инд   Панельные   \n",
       "2584308                        0  Есть балкон             5   Инд   Панельные   \n",
       "\n",
       "                   Адрес  Год постройки  Общая площадь  Высота потолков  \\\n",
       "Код объекта                                                               \n",
       "5757236        Древлянка         2017.0          30.60             2.50   \n",
       "5535905        Голиковка         1979.0          18.00             2.55   \n",
       "4644398        Древлянка         2021.0          57.83             2.70   \n",
       "5667276         Ключевая         2016.0          41.20             2.70   \n",
       "4644417        Древлянка         2021.0          84.00             2.70   \n",
       "...                  ...            ...            ...              ...   \n",
       "2891833         Кукковка         1985.0          39.80             2.50   \n",
       "4671111         Ключевая         2012.0          36.60             2.50   \n",
       "5193363      Октябрьский         1963.0          30.60             2.50   \n",
       "2836807      Октябрьский         2014.0          51.00             2.50   \n",
       "2584308        Сулажгора         1981.0          59.10             2.50   \n",
       "\n",
       "                      Двор  Комнатность  подземный паркинг  \\\n",
       "Код объекта                                                  \n",
       "5757236      открытый двор            1                  0   \n",
       "5535905      открытый двор            1                  0   \n",
       "4644398      закрытый двор            3                  0   \n",
       "5667276      открытый двор            2                  0   \n",
       "4644417      закрытый двор            4                  0   \n",
       "...                    ...          ...                ...   \n",
       "2891833      открытый двор            1                  0   \n",
       "4671111      открытый двор            1                  0   \n",
       "5193363      открытый двор            1                  0   \n",
       "2836807      открытый двор            1                  0   \n",
       "2584308      открытый двор            3                  0   \n",
       "\n",
       "                                  Ремонт  \n",
       "Код объекта                               \n",
       "5757236      Улучшенная черновая отделка  \n",
       "5535905             Косметический ремонт  \n",
       "4644398      Улучшенная черновая отделка  \n",
       "5667276             Косметический ремонт  \n",
       "4644417      Улучшенная черновая отделка  \n",
       "...                                  ...  \n",
       "2891833               Современный ремонт  \n",
       "4671111             Косметический ремонт  \n",
       "5193363             Косметический ремонт  \n",
       "2836807               Современный ремонт  \n",
       "2584308                  Требует ремонта  \n",
       "\n",
       "[579 rows x 20 columns]"
      ]
     },
     "execution_count": 23,
     "metadata": {},
     "output_type": "execute_result"
    }
   ],
   "source": [
    "X"
   ]
  },
  {
   "cell_type": "code",
   "execution_count": 24,
   "id": "d859fc8b",
   "metadata": {},
   "outputs": [
    {
     "data": {
      "text/plain": [
       "Index(['year_build__(1933.999, 1955.75]', 'year_build__(1955.75, 1977.5]',\n",
       "       'year_build__(1977.5, 1999.25]', 'year_build__(1999.25, 2021.0]',\n",
       "       'ohe__Материал окон_Деревянные', 'ohe__Материал окон_Пластиковые',\n",
       "       'ohe__Материал окон_Пластиковые/деревянные',\n",
       "       'ohe__Балкон_Балкон и лоджия', 'ohe__Балкон_Два балкона и более',\n",
       "       'ohe__Балкон_Есть балкон', 'ohe__Балкон_Лоджия',\n",
       "       'ohe__Балкон_Нет балкона', 'ohe__Серия_1-335', 'ohe__Серия_1-335А',\n",
       "       'ohe__Серия_2-68-1-0', 'ohe__Серия_335-с', 'ohe__Серия_75 ',\n",
       "       'ohe__Серия_75.1, 3-75', 'ohe__Серия_А-1', 'ohe__Серия_Бреж',\n",
       "       'ohe__Серия_Инд', 'ohe__Серия_Общ', 'ohe__Серия_Хрущ',\n",
       "       'ohe__Стены_Блочные', 'ohe__Стены_Деревянные', 'ohe__Стены_Кирпичные',\n",
       "       'ohe__Стены_Монолитные', 'ohe__Стены_Панельные', 'ohe__Адрес_Голиковка',\n",
       "       'ohe__Адрес_Древлянка', 'ohe__Адрес_Зарека', 'ohe__Адрес_Ключевая',\n",
       "       'ohe__Адрес_Кукковка', 'ohe__Адрес_Октябрьский',\n",
       "       'ohe__Адрес_Первомайский', 'ohe__Адрес_Перевалка',\n",
       "       'ohe__Адрес_Сулажгора', 'ohe__Адрес_Центр',\n",
       "       'ohe__Ремонт_Косметический ремонт',\n",
       "       'ohe__Ремонт_Ремонт по дизайн проекту',\n",
       "       'ohe__Ремонт_Современный ремонт', 'ohe__Ремонт_Требует ремонта',\n",
       "       'ohe__Ремонт_Улучшенная черновая отделка',\n",
       "       'ohe__Ремонт_Частичный ремонт', 'ohe__Ремонт_Черновая отделка',\n",
       "       'ohe_drop__Счетчик воды_отсутствует', 'ohe_drop__Двор_открытый двор',\n",
       "       'scaling__Общая площадь', 'scaling__Высота потолков',\n",
       "       'remainder__трассы', 'remainder__автомобильные мосты',\n",
       "       'remainder__гостевой паркинг', 'remainder__памятники архитектуры',\n",
       "       'remainder__культуры', 'remainder__пешеходные бульвары',\n",
       "       'remainder__всего этажей', 'remainder__Комнатность',\n",
       "       'remainder__подземный паркинг'],\n",
       "      dtype='object')"
      ]
     },
     "execution_count": 24,
     "metadata": {},
     "output_type": "execute_result"
    }
   ],
   "source": [
    "X_preproced.columns"
   ]
  },
  {
   "cell_type": "code",
   "execution_count": 26,
   "id": "57aff927",
   "metadata": {
    "scrolled": true
   },
   "outputs": [
    {
     "data": {
      "text/plain": [
       "ohe__Стены_Блочные                           0.002182\n",
       "ohe__Серия_Бреж                              0.004115\n",
       "ohe__Серия_Хрущ                              0.009891\n",
       "ohe__Ремонт_Черновая отделка                 0.010944\n",
       "ohe__Материал окон_Пластиковые/деревянные    0.014463\n",
       "ohe__Серия_1-335                             0.014530\n",
       "ohe__Серия_А-1                               0.024088\n",
       "ohe__Серия_75.1, 3-75                        0.024437\n",
       "ohe__Серия_2-68-1-0                          0.026255\n",
       "ohe__Серия_335-с                             0.032505\n",
       "ohe__Балкон_Балкон и лоджия                  0.045276\n",
       "remainder__культуры                          0.047461\n",
       "remainder__пешеходные бульвары               0.047461\n",
       "remainder__памятники архитектуры             0.047461\n",
       "remainder__гостевой паркинг                  0.053375\n",
       "ohe__Ремонт_Требует ремонта                  0.062747\n",
       "remainder__автомобильные мосты               0.062978\n",
       "remainder__трассы                            0.062978\n",
       "year_build__(1933.999, 1955.75]              0.066333\n",
       "ohe__Адрес_Кукковка                          0.066922\n",
       "ohe__Адрес_Голиковка                         0.074010\n",
       "ohe__Ремонт_Частичный ремонт                 0.079494\n",
       "ohe__Балкон_Лоджия                           0.086486\n",
       "ohe__Серия_75                                0.088121\n",
       "ohe__Адрес_Октябрьский                       0.091807\n",
       "ohe__Балкон_Два балкона и более              0.093000\n",
       "ohe__Адрес_Ключевая                          0.097148\n",
       "ohe__Серия_1-335А                            0.100614\n",
       "ohe__Адрес_Первомайский                      0.112156\n",
       "ohe__Адрес_Перевалка                         0.116566\n",
       "ohe__Материал окон_Пластиковые               0.117341\n",
       "remainder__подземный паркинг                 0.117690\n",
       "ohe__Ремонт_Улучшенная черновая отделка      0.118054\n",
       "ohe__Ремонт_Ремонт по дизайн проекту         0.121238\n",
       "ohe__Материал окон_Деревянные                0.138335\n",
       "ohe__Адрес_Центр                             0.142992\n",
       "ohe__Адрес_Сулажгора                         0.144452\n",
       "year_build__(1955.75, 1977.5]                0.164771\n",
       "ohe__Адрес_Зарека                            0.169747\n",
       "ohe__Стены_Панельные                         0.178798\n",
       "ohe_drop__Счетчик воды_отсутствует           0.181168\n",
       "ohe__Балкон_Есть балкон                      0.181506\n",
       "ohe__Стены_Кирпичные                         0.183921\n",
       "ohe_drop__Двор_открытый двор                 0.190851\n",
       "ohe__Стены_Монолитные                        0.193675\n",
       "remainder__всего этажей                      0.208282\n",
       "ohe__Адрес_Древлянка                         0.212078\n",
       "scaling__Высота потолков                     0.216977\n",
       "ohe__Стены_Деревянные                        0.222476\n",
       "year_build__(1977.5, 1999.25]                0.230151\n",
       "ohe__Балкон_Нет балкона                      0.258337\n",
       "ohe__Ремонт_Косметический ремонт             0.315085\n",
       "ohe__Ремонт_Современный ремонт               0.352648\n",
       "ohe__Серия_Инд                               0.354488\n",
       "year_build__(1999.25, 2021.0]                0.397552\n",
       "ohe__Серия_Общ                               0.604144\n",
       "remainder__Комнатность                       0.666749\n",
       "scaling__Общая площадь                       0.788724\n",
       "dtype: float64"
      ]
     },
     "execution_count": 26,
     "metadata": {},
     "output_type": "execute_result"
    }
   ],
   "source": [
    "correlated_vars = X_preproced.corrwith(Y).map(abs).sort_values()\n",
    "correlated_vars"
   ]
  },
  {
   "cell_type": "code",
   "execution_count": 27,
   "id": "4726eb00",
   "metadata": {},
   "outputs": [
    {
     "data": {
      "text/plain": [
       "['remainder__всего этажей',\n",
       " 'ohe__Адрес_Древлянка',\n",
       " 'scaling__Высота потолков',\n",
       " 'ohe__Стены_Деревянные',\n",
       " 'year_build__(1977.5, 1999.25]',\n",
       " 'ohe__Балкон_Нет балкона',\n",
       " 'ohe__Ремонт_Косметический ремонт',\n",
       " 'ohe__Ремонт_Современный ремонт',\n",
       " 'ohe__Серия_Инд',\n",
       " 'year_build__(1999.25, 2021.0]',\n",
       " 'ohe__Серия_Общ',\n",
       " 'remainder__Комнатность',\n",
       " 'scaling__Общая площадь']"
      ]
     },
     "execution_count": 27,
     "metadata": {},
     "output_type": "execute_result"
    }
   ],
   "source": [
    "high_corr_cols = correlated_vars[correlated_vars >= 0.20].index.tolist()\n",
    "high_corr_cols"
   ]
  },
  {
   "cell_type": "markdown",
   "id": "9452890e",
   "metadata": {},
   "source": [
    "Creating df without correlated columns and compare new df with old one"
   ]
  },
  {
   "cell_type": "code",
   "execution_count": null,
   "id": "ec38c24e",
   "metadata": {},
   "outputs": [],
   "source": []
  },
  {
   "cell_type": "markdown",
   "id": "503fa534",
   "metadata": {},
   "source": [
    "# model comparison, chosing and fine-tuning"
   ]
  },
  {
   "cell_type": "code",
   "execution_count": 28,
   "id": "75002dde",
   "metadata": {},
   "outputs": [
    {
     "data": {
      "text/html": [
       "<div>\n",
       "<style scoped>\n",
       "    .dataframe tbody tr th:only-of-type {\n",
       "        vertical-align: middle;\n",
       "    }\n",
       "\n",
       "    .dataframe tbody tr th {\n",
       "        vertical-align: top;\n",
       "    }\n",
       "\n",
       "    .dataframe thead th {\n",
       "        text-align: right;\n",
       "    }\n",
       "</style>\n",
       "<table border=\"1\" class=\"dataframe\">\n",
       "  <thead>\n",
       "    <tr style=\"text-align: right;\">\n",
       "      <th></th>\n",
       "      <th>score</th>\n",
       "      <th>mean_squared_error</th>\n",
       "      <th>mean_absolute_error</th>\n",
       "    </tr>\n",
       "  </thead>\n",
       "  <tbody>\n",
       "    <tr>\n",
       "      <th>.LinearSVR'&gt;</th>\n",
       "      <td>0.282846</td>\n",
       "      <td>1.549657e+06</td>\n",
       "      <td>954.153944</td>\n",
       "    </tr>\n",
       "    <tr>\n",
       "      <th>.KNeighborsRegressor'&gt;</th>\n",
       "      <td>0.695197</td>\n",
       "      <td>6.625108e+05</td>\n",
       "      <td>564.188083</td>\n",
       "    </tr>\n",
       "    <tr>\n",
       "      <th>.Lasso'&gt;</th>\n",
       "      <td>0.744987</td>\n",
       "      <td>4.943858e+05</td>\n",
       "      <td>468.519454</td>\n",
       "    </tr>\n",
       "    <tr>\n",
       "      <th>.LinearRegression'&gt;</th>\n",
       "      <td>0.744993</td>\n",
       "      <td>4.944683e+05</td>\n",
       "      <td>468.934468</td>\n",
       "    </tr>\n",
       "    <tr>\n",
       "      <th>.Ridge'&gt;</th>\n",
       "      <td>0.745052</td>\n",
       "      <td>4.943520e+05</td>\n",
       "      <td>468.846994</td>\n",
       "    </tr>\n",
       "    <tr>\n",
       "      <th>.SGDRegressor'&gt;</th>\n",
       "      <td>0.748588</td>\n",
       "      <td>4.970970e+05</td>\n",
       "      <td>500.966912</td>\n",
       "    </tr>\n",
       "    <tr>\n",
       "      <th>.DecisionTreeRegressor'&gt;</th>\n",
       "      <td>0.783029</td>\n",
       "      <td>4.784476e+05</td>\n",
       "      <td>489.520954</td>\n",
       "    </tr>\n",
       "    <tr>\n",
       "      <th>.RandomForestRegressor'&gt;</th>\n",
       "      <td>0.809802</td>\n",
       "      <td>4.149790e+05</td>\n",
       "      <td>440.830179</td>\n",
       "    </tr>\n",
       "  </tbody>\n",
       "</table>\n",
       "</div>"
      ],
      "text/plain": [
       "                             score  mean_squared_error  mean_absolute_error\n",
       ".LinearSVR'>              0.282846        1.549657e+06           954.153944\n",
       ".KNeighborsRegressor'>    0.695197        6.625108e+05           564.188083\n",
       ".Lasso'>                  0.744987        4.943858e+05           468.519454\n",
       ".LinearRegression'>       0.744993        4.944683e+05           468.934468\n",
       ".Ridge'>                  0.745052        4.943520e+05           468.846994\n",
       ".SGDRegressor'>           0.748588        4.970970e+05           500.966912\n",
       ".DecisionTreeRegressor'>  0.783029        4.784476e+05           489.520954\n",
       ".RandomForestRegressor'>  0.809802        4.149790e+05           440.830179"
      ]
     },
     "execution_count": 28,
     "metadata": {},
     "output_type": "execute_result"
    }
   ],
   "source": [
    "report = {}\n",
    "for model in models:\n",
    "    score = cross_val_score(model, X_preproced[high_corr_cols], Y, cv=5)\n",
    "    preds = cross_val_predict(model, X_preproced[high_corr_cols], Y, cv=5)\n",
    "    errors = {}\n",
    "    errors['score'] = score.mean()\n",
    "    for metric in metrics:\n",
    "        error = metric(preds, Y)\n",
    "        errors[metric.__name__] = error\n",
    "    m_name = str(model.__class__)\n",
    "    report[m_name[m_name.rfind('.'):]] = errors\n",
    "report = pd.DataFrame.from_dict(report)\n",
    "report.T.sort_values(by='score')"
   ]
  },
  {
   "cell_type": "markdown",
   "id": "92337c86",
   "metadata": {},
   "source": []
  },
  {
   "cell_type": "code",
   "execution_count": 29,
   "id": "e716ca2d-ad97-4789-bf46-022edd366eaa",
   "metadata": {},
   "outputs": [],
   "source": [
    "model = DecisionTreeRegressor(**best_params)"
   ]
  },
  {
   "cell_type": "code",
   "execution_count": 30,
   "id": "4413628a",
   "metadata": {},
   "outputs": [
    {
     "data": {
      "text/plain": [
       "0.7358700404318732"
      ]
     },
     "execution_count": 30,
     "metadata": {},
     "output_type": "execute_result"
    }
   ],
   "source": [
    "score = cross_val_score(model, X_preproced, Y, cv=5)\n",
    "score.mean()"
   ]
  },
  {
   "cell_type": "code",
   "execution_count": 31,
   "id": "da0bf1e3-e3c7-440e-9175-ea691c47f4f2",
   "metadata": {},
   "outputs": [],
   "source": [
    "preds = cross_val_predict(model, X_preproced, Y, cv=5)"
   ]
  },
  {
   "cell_type": "code",
   "execution_count": 32,
   "id": "b2f3f1f6",
   "metadata": {},
   "outputs": [
    {
     "data": {
      "text/plain": [
       "574130.3607192547"
      ]
     },
     "execution_count": 32,
     "metadata": {},
     "output_type": "execute_result"
    }
   ],
   "source": [
    "mean_squared_error(preds, Y)"
   ]
  },
  {
   "cell_type": "code",
   "execution_count": 33,
   "id": "9bd76e9a",
   "metadata": {},
   "outputs": [
    {
     "data": {
      "text/plain": [
       "508.4363858345102"
      ]
     },
     "execution_count": 33,
     "metadata": {},
     "output_type": "execute_result"
    }
   ],
   "source": [
    "mean_absolute_error(preds, Y)"
   ]
  },
  {
   "cell_type": "code",
   "execution_count": 34,
   "id": "45f1f542",
   "metadata": {},
   "outputs": [],
   "source": [
    "preds = cross_val_predict(model, X_preproced, Y, cv=5)"
   ]
  },
  {
   "cell_type": "code",
   "execution_count": 35,
   "id": "b39161dc-4c16-47b9-bc87-1a84ba57a964",
   "metadata": {},
   "outputs": [
    {
     "data": {
      "text/plain": [
       "574130.3607192547"
      ]
     },
     "execution_count": 35,
     "metadata": {},
     "output_type": "execute_result"
    }
   ],
   "source": [
    "mean_squared_error(preds, Y)"
   ]
  },
  {
   "cell_type": "code",
   "execution_count": 36,
   "id": "a1144494-8bd0-4d78-a6d9-4888f3237828",
   "metadata": {},
   "outputs": [
    {
     "data": {
      "text/plain": [
       "508.4363858345102"
      ]
     },
     "execution_count": 36,
     "metadata": {},
     "output_type": "execute_result"
    }
   ],
   "source": [
    "mean_absolute_error(preds, Y)"
   ]
  },
  {
   "cell_type": "code",
   "execution_count": 37,
   "id": "2e841ac3-1611-429f-8ebe-318d960e2830",
   "metadata": {},
   "outputs": [],
   "source": [
    "residuals = preds - Y"
   ]
  },
  {
   "cell_type": "code",
   "execution_count": 38,
   "id": "3a850b79-cc7f-4262-9eab-97086766946a",
   "metadata": {},
   "outputs": [
    {
     "data": {
      "image/png": "[encoded data removed]",
      "text/plain": [
       "<Figure size 640x480 with 1 Axes>"
      ]
     },
     "metadata": {},
     "output_type": "display_data"
    }
   ],
   "source": [
    "graph = sns.residplot(x=Y, y=preds)"
   ]
  },
  {
   "cell_type": "code",
   "execution_count": 39,
   "id": "a0a677b7",
   "metadata": {},
   "outputs": [
    {
     "data": {
      "text/plain": [
       "Text(0.5, 9.444444444444438, 'residuals')"
      ]
     },
     "execution_count": 39,
     "metadata": {},
     "output_type": "execute_result"
    },
    {
     "data": {
      "image/png": "[encoded data removed]",
      "text/plain": [
       "<Figure size 500x500 with 1 Axes>"
      ]
     },
     "metadata": {},
     "output_type": "display_data"
    }
   ],
   "source": [
    "sns.displot(residuals, bins=30, kde=True)\n",
    "plt.xlabel('residuals')"
   ]
  },
  {
   "cell_type": "code",
   "execution_count": 40,
   "id": "e72aab5a-a499-4d65-bfda-9457fa78be3b",
   "metadata": {},
   "outputs": [
    {
     "data": {
      "text/plain": [
       "Код объекта\n",
       "5757236    2390.0\n",
       "5535905     920.0\n",
       "4644398    3250.0\n",
       "5667276    3590.0\n",
       "4644417    4500.0\n",
       "3854655    2550.0\n",
       "5757173    3000.0\n",
       "5103276     800.0\n",
       "5758058    4700.0\n",
       "4525390    2970.0\n",
       "4469870    4000.0\n",
       "5760725    2450.0\n",
       "5553000     570.0\n",
       "4265258    4200.0\n",
       "2987059    1190.0\n",
       "5759101    2700.0\n",
       "3598170    1999.0\n",
       "5109065    3200.0\n",
       "5758617    5500.0\n",
       "5593171     649.0\n",
       "5751111    4000.0\n",
       "5760211    2350.0\n",
       "3602019     590.0\n",
       "4522037     700.0\n",
       "3684339     990.0\n",
       "Name: цена, dtype: float64"
      ]
     },
     "execution_count": 40,
     "metadata": {},
     "output_type": "execute_result"
    }
   ],
   "source": [
    "Y.iloc[:25]"
   ]
  },
  {
   "cell_type": "code",
   "execution_count": 41,
   "id": "2a67e4c1-bfd7-4acf-9e0b-1bf13c616820",
   "metadata": {},
   "outputs": [
    {
     "data": {
      "text/plain": [
       "array([3740.44444444,  707.125     , 3886.58333333, 3017.63636364,\n",
       "       5072.25      , 3886.58333333, 3509.        ,  707.125     ,\n",
       "       5365.        , 3108.90909091, 3886.58333333, 2528.57894737,\n",
       "        707.125     , 4364.14285714, 2442.57142857, 2227.14285714,\n",
       "       1490.        , 3982.5       , 5072.25      ,  581.        ,\n",
       "       3400.55555556, 2819.28571429,  707.125     ,  828.42857143,\n",
       "        865.71428571])"
      ]
     },
     "execution_count": 41,
     "metadata": {},
     "output_type": "execute_result"
    }
   ],
   "source": [
    "preds[:25]"
   ]
  },
  {
   "cell_type": "markdown",
   "id": "dc033d4a",
   "metadata": {},
   "source": [
    "## Checking dummmy predictions\n",
    "predict price based on flat_type"
   ]
  },
  {
   "cell_type": "code",
   "execution_count": 42,
   "id": "4c8b86bc",
   "metadata": {},
   "outputs": [
    {
     "ename": "NameError",
     "evalue": "name 'notImplementedErro' is not defined",
     "output_type": "error",
     "traceback": [
      "\u001b[1;31m---------------------------------------------------------------------------\u001b[0m",
      "\u001b[1;31mNameError\u001b[0m                                 Traceback (most recent call last)",
      "\u001b[1;32m~\\AppData\\Local\\Temp\\ipykernel_13652\\3457532291.py\u001b[0m in \u001b[0;36m<module>\u001b[1;34m\u001b[0m\n\u001b[1;32m----> 1\u001b[1;33m \u001b[1;32mraise\u001b[0m \u001b[0mnotImplementedErro\u001b[0m\u001b[1;33m(\u001b[0m\u001b[1;33m)\u001b[0m\u001b[1;33m\u001b[0m\u001b[1;33m\u001b[0m\u001b[0m\n\u001b[0m",
      "\u001b[1;31mNameError\u001b[0m: name 'notImplementedErro' is not defined"
     ]
    }
   ],
   "source": [
    "raise notImplementedErro()"
   ]
  },
  {
   "cell_type": "code",
   "execution_count": null,
   "id": "3c53e39a",
   "metadata": {},
   "outputs": [],
   "source": [
    "means = X.join(Y).groupby('Серия')['цена'].mean()\n",
    "means"
   ]
  },
  {
   "cell_type": "code",
   "execution_count": null,
   "id": "ad14d7fd",
   "metadata": {},
   "outputs": [],
   "source": [
    "dummy_preds = X['Серия'].transform(lambda x: means[x]).values"
   ]
  },
  {
   "cell_type": "code",
   "execution_count": null,
   "id": "fb0f990e",
   "metadata": {},
   "outputs": [],
   "source": [
    "mean_squared_error(dummy_preds,Y)"
   ]
  },
  {
   "cell_type": "code",
   "execution_count": null,
   "id": "0310c0ea",
   "metadata": {},
   "outputs": [],
   "source": [
    "mean_absolute_error(dummy_preds,Y)"
   ]
  },
  {
   "cell_type": "code",
   "execution_count": null,
   "id": "ea5f1fa6",
   "metadata": {},
   "outputs": [],
   "source": [
    "graph = sns.residplot(x=dummy_preds, y=Y)\n"
   ]
  },
  {
   "cell_type": "code",
   "execution_count": null,
   "id": "6f9655e0",
   "metadata": {},
   "outputs": [],
   "source": [
    "residuals_dummy = dummy_preds - Y"
   ]
  },
  {
   "cell_type": "code",
   "execution_count": null,
   "id": "e6c3e348",
   "metadata": {},
   "outputs": [],
   "source": [
    "sns.displot(residuals_dummy, bins=30, kde=True)\n",
    "plt.xlabel('residuals')"
   ]
  },
  {
   "cell_type": "markdown",
   "id": "435b2dbd-3ead-4270-b734-91040c78b68d",
   "metadata": {},
   "source": [
    "### models performs better then dummy regressor\n",
    "I conclude that model works"
   ]
  },
  {
   "cell_type": "code",
   "execution_count": null,
   "id": "91600c65",
   "metadata": {},
   "outputs": [],
   "source": []
  },
  {
   "cell_type": "raw",
   "id": "6a1b6631",
   "metadata": {},
   "source": [
    "## Save model parameters"
   ]
  },
  {
   "cell_type": "code",
   "execution_count": null,
   "id": "b11f7a2e",
   "metadata": {},
   "outputs": [],
   "source": [
    "model.get_params()"
   ]
  },
  {
   "cell_type": "code",
   "execution_count": null,
   "id": "bd65528c",
   "metadata": {},
   "outputs": [],
   "source": [
    "import pickle"
   ]
  },
  {
   "cell_type": "code",
   "execution_count": null,
   "id": "d166ff07",
   "metadata": {},
   "outputs": [],
   "source": [
    "model.fit(X, Y)"
   ]
  },
  {
   "cell_type": "code",
   "execution_count": null,
   "id": "fad12059",
   "metadata": {},
   "outputs": [],
   "source": [
    "#with open(\"model.pkl\", \"wb\") as f:\n",
    "#    pickle.dump(model, f)"
   ]
  },
  {
   "cell_type": "code",
   "execution_count": null,
   "id": "a9b1d7e5",
   "metadata": {},
   "outputs": [],
   "source": [
    "#with open(\"model.pkl\", \"rb\") as f:\n",
    "#    derevo = pickle.load(f)"
   ]
  }
 ],
 "metadata": {
  "kernelspec": {
   "display_name": "Python 3 (ipykernel)",
   "language": "python",
   "name": "python3"
  },
  "language_info": {
   "codemirror_mode": {
    "name": "ipython",
    "version": 3
   },
   "file_extension": ".py",
   "mimetype": "text/x-python",
   "name": "python",
   "nbconvert_exporter": "python",
   "pygments_lexer": "ipython3",
   "version": "3.9.13"
  }
 },
 "nbformat": 4,
 "nbformat_minor": 5
}

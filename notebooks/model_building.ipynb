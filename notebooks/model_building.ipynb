{
 "cells": [
  {
   "cell_type": "markdown",
   "id": "a3ed6b5c-19fe-46a8-9e69-a07aebcdb93c",
   "metadata": {},
   "source": [
    "## Find best model"
   ]
  },
  {
   "cell_type": "code",
   "execution_count": 1,
   "id": "cc8eceb1",
   "metadata": {},
   "outputs": [],
   "source": [
    "import pandas as pd\n",
    "import numpy as np\n",
    "from scipy import stats\n",
    "\n",
    "import matplotlib.pyplot as plt\n",
    "import seaborn as sns\n",
    "\n",
    "from sklearn.model_selection import train_test_split, cross_val_score, cross_val_predict\n",
    "from sklearn.metrics import mean_squared_error, mean_absolute_error\n",
    "from sklearn.model_selection import GridSearchCV, RandomizedSearchCV\n",
    "\n",
    "from sklearn.tree import DecisionTreeRegressor, plot_tree\n",
    "from sklearn.ensemble import RandomForestRegressor, GradientBoostingRegressor\n",
    "from sklearn.linear_model import LinearRegression, Ridge, BayesianRidge, Lasso, SGDRegressor\n",
    "from sklearn.svm import SVR, LinearSVR\n",
    "from sklearn.neighbors import KNeighborsRegressor\n",
    "\n",
    "from sklearn.pipeline import Pipeline\n",
    "\n",
    "import time\n",
    "\n",
    "STATE = 42"
   ]
  },
  {
   "cell_type": "code",
   "execution_count": 2,
   "id": "343d3c50",
   "metadata": {},
   "outputs": [
    {
     "data": {
      "text/html": [
       "<div>\n",
       "<style scoped>\n",
       "    .dataframe tbody tr th:only-of-type {\n",
       "        vertical-align: middle;\n",
       "    }\n",
       "\n",
       "    .dataframe tbody tr th {\n",
       "        vertical-align: top;\n",
       "    }\n",
       "\n",
       "    .dataframe thead th {\n",
       "        text-align: right;\n",
       "    }\n",
       "</style>\n",
       "<table border=\"1\" class=\"dataframe\">\n",
       "  <thead>\n",
       "    <tr style=\"text-align: right;\">\n",
       "      <th></th>\n",
       "      <th>(1933.999, 1948.5]</th>\n",
       "      <th>(1948.5, 1963.0]</th>\n",
       "      <th>(1963.0, 1977.5]</th>\n",
       "      <th>(1977.5, 1992.0]</th>\n",
       "      <th>(1992.0, 2006.5]</th>\n",
       "      <th>(2006.5, 2021.0]</th>\n",
       "      <th>Серия_1-335</th>\n",
       "      <th>Серия_1-335А</th>\n",
       "      <th>Серия_2-68-1-0</th>\n",
       "      <th>Серия_335-с</th>\n",
       "      <th>...</th>\n",
       "      <th>Материал окон_Пластиковые/деревянные</th>\n",
       "      <th>гостевой паркинг</th>\n",
       "      <th>всего этажей</th>\n",
       "      <th>Общая площадь</th>\n",
       "      <th>Высота потолков</th>\n",
       "      <th>Комнатность</th>\n",
       "      <th>подземный паркинг</th>\n",
       "      <th>цена</th>\n",
       "      <th>вид на дороги</th>\n",
       "      <th>вид на культуру</th>\n",
       "    </tr>\n",
       "    <tr>\n",
       "      <th>Код объекта</th>\n",
       "      <th></th>\n",
       "      <th></th>\n",
       "      <th></th>\n",
       "      <th></th>\n",
       "      <th></th>\n",
       "      <th></th>\n",
       "      <th></th>\n",
       "      <th></th>\n",
       "      <th></th>\n",
       "      <th></th>\n",
       "      <th></th>\n",
       "      <th></th>\n",
       "      <th></th>\n",
       "      <th></th>\n",
       "      <th></th>\n",
       "      <th></th>\n",
       "      <th></th>\n",
       "      <th></th>\n",
       "      <th></th>\n",
       "      <th></th>\n",
       "      <th></th>\n",
       "    </tr>\n",
       "  </thead>\n",
       "  <tbody>\n",
       "    <tr>\n",
       "      <th>5757236</th>\n",
       "      <td>0.0</td>\n",
       "      <td>0.0</td>\n",
       "      <td>0.0</td>\n",
       "      <td>0.0</td>\n",
       "      <td>0.0</td>\n",
       "      <td>1.0</td>\n",
       "      <td>0.0</td>\n",
       "      <td>0.0</td>\n",
       "      <td>0.0</td>\n",
       "      <td>0.0</td>\n",
       "      <td>...</td>\n",
       "      <td>0.0</td>\n",
       "      <td>0.0</td>\n",
       "      <td>5.0</td>\n",
       "      <td>30.60</td>\n",
       "      <td>2.50</td>\n",
       "      <td>1.0</td>\n",
       "      <td>0.0</td>\n",
       "      <td>2390.0</td>\n",
       "      <td>0.0</td>\n",
       "      <td>0.0</td>\n",
       "    </tr>\n",
       "    <tr>\n",
       "      <th>5535905</th>\n",
       "      <td>0.0</td>\n",
       "      <td>0.0</td>\n",
       "      <td>0.0</td>\n",
       "      <td>1.0</td>\n",
       "      <td>0.0</td>\n",
       "      <td>0.0</td>\n",
       "      <td>0.0</td>\n",
       "      <td>0.0</td>\n",
       "      <td>0.0</td>\n",
       "      <td>0.0</td>\n",
       "      <td>...</td>\n",
       "      <td>0.0</td>\n",
       "      <td>1.0</td>\n",
       "      <td>5.0</td>\n",
       "      <td>18.00</td>\n",
       "      <td>2.55</td>\n",
       "      <td>1.0</td>\n",
       "      <td>0.0</td>\n",
       "      <td>920.0</td>\n",
       "      <td>0.0</td>\n",
       "      <td>0.0</td>\n",
       "    </tr>\n",
       "    <tr>\n",
       "      <th>4644398</th>\n",
       "      <td>0.0</td>\n",
       "      <td>0.0</td>\n",
       "      <td>0.0</td>\n",
       "      <td>0.0</td>\n",
       "      <td>0.0</td>\n",
       "      <td>1.0</td>\n",
       "      <td>0.0</td>\n",
       "      <td>0.0</td>\n",
       "      <td>0.0</td>\n",
       "      <td>0.0</td>\n",
       "      <td>...</td>\n",
       "      <td>0.0</td>\n",
       "      <td>1.0</td>\n",
       "      <td>5.0</td>\n",
       "      <td>57.83</td>\n",
       "      <td>2.70</td>\n",
       "      <td>3.0</td>\n",
       "      <td>0.0</td>\n",
       "      <td>3250.0</td>\n",
       "      <td>0.0</td>\n",
       "      <td>0.0</td>\n",
       "    </tr>\n",
       "    <tr>\n",
       "      <th>5667276</th>\n",
       "      <td>0.0</td>\n",
       "      <td>0.0</td>\n",
       "      <td>0.0</td>\n",
       "      <td>0.0</td>\n",
       "      <td>0.0</td>\n",
       "      <td>1.0</td>\n",
       "      <td>0.0</td>\n",
       "      <td>0.0</td>\n",
       "      <td>0.0</td>\n",
       "      <td>0.0</td>\n",
       "      <td>...</td>\n",
       "      <td>0.0</td>\n",
       "      <td>0.0</td>\n",
       "      <td>16.0</td>\n",
       "      <td>41.20</td>\n",
       "      <td>2.70</td>\n",
       "      <td>2.0</td>\n",
       "      <td>0.0</td>\n",
       "      <td>3590.0</td>\n",
       "      <td>0.0</td>\n",
       "      <td>0.0</td>\n",
       "    </tr>\n",
       "    <tr>\n",
       "      <th>4644417</th>\n",
       "      <td>0.0</td>\n",
       "      <td>0.0</td>\n",
       "      <td>0.0</td>\n",
       "      <td>0.0</td>\n",
       "      <td>0.0</td>\n",
       "      <td>1.0</td>\n",
       "      <td>0.0</td>\n",
       "      <td>0.0</td>\n",
       "      <td>0.0</td>\n",
       "      <td>0.0</td>\n",
       "      <td>...</td>\n",
       "      <td>0.0</td>\n",
       "      <td>1.0</td>\n",
       "      <td>5.0</td>\n",
       "      <td>84.00</td>\n",
       "      <td>2.70</td>\n",
       "      <td>4.0</td>\n",
       "      <td>0.0</td>\n",
       "      <td>4500.0</td>\n",
       "      <td>0.0</td>\n",
       "      <td>0.0</td>\n",
       "    </tr>\n",
       "  </tbody>\n",
       "</table>\n",
       "<p>5 rows × 56 columns</p>\n",
       "</div>"
      ],
      "text/plain": [
       "             (1933.999, 1948.5]  (1948.5, 1963.0]  (1963.0, 1977.5]  \\\n",
       "Код объекта                                                           \n",
       "5757236                     0.0               0.0               0.0   \n",
       "5535905                     0.0               0.0               0.0   \n",
       "4644398                     0.0               0.0               0.0   \n",
       "5667276                     0.0               0.0               0.0   \n",
       "4644417                     0.0               0.0               0.0   \n",
       "\n",
       "             (1977.5, 1992.0]  (1992.0, 2006.5]  (2006.5, 2021.0]  \\\n",
       "Код объекта                                                         \n",
       "5757236                   0.0               0.0               1.0   \n",
       "5535905                   1.0               0.0               0.0   \n",
       "4644398                   0.0               0.0               1.0   \n",
       "5667276                   0.0               0.0               1.0   \n",
       "4644417                   0.0               0.0               1.0   \n",
       "\n",
       "             Серия_1-335  Серия_1-335А  Серия_2-68-1-0  Серия_335-с  ...  \\\n",
       "Код объекта                                                          ...   \n",
       "5757236              0.0           0.0             0.0          0.0  ...   \n",
       "5535905              0.0           0.0             0.0          0.0  ...   \n",
       "4644398              0.0           0.0             0.0          0.0  ...   \n",
       "5667276              0.0           0.0             0.0          0.0  ...   \n",
       "4644417              0.0           0.0             0.0          0.0  ...   \n",
       "\n",
       "             Материал окон_Пластиковые/деревянные  гостевой паркинг  \\\n",
       "Код объекта                                                           \n",
       "5757236                                       0.0               0.0   \n",
       "5535905                                       0.0               1.0   \n",
       "4644398                                       0.0               1.0   \n",
       "5667276                                       0.0               0.0   \n",
       "4644417                                       0.0               1.0   \n",
       "\n",
       "             всего этажей  Общая площадь  Высота потолков  Комнатность  \\\n",
       "Код объекта                                                              \n",
       "5757236               5.0          30.60             2.50          1.0   \n",
       "5535905               5.0          18.00             2.55          1.0   \n",
       "4644398               5.0          57.83             2.70          3.0   \n",
       "5667276              16.0          41.20             2.70          2.0   \n",
       "4644417               5.0          84.00             2.70          4.0   \n",
       "\n",
       "             подземный паркинг    цена  вид на дороги  вид на культуру  \n",
       "Код объекта                                                             \n",
       "5757236                    0.0  2390.0            0.0              0.0  \n",
       "5535905                    0.0   920.0            0.0              0.0  \n",
       "4644398                    0.0  3250.0            0.0              0.0  \n",
       "5667276                    0.0  3590.0            0.0              0.0  \n",
       "4644417                    0.0  4500.0            0.0              0.0  \n",
       "\n",
       "[5 rows x 56 columns]"
      ]
     },
     "execution_count": 2,
     "metadata": {},
     "output_type": "execute_result"
    }
   ],
   "source": [
    "data = pd.read_csv('../data/fullData.csv', index_col='Код объекта')\n",
    "data.head()"
   ]
  },
  {
   "cell_type": "code",
   "execution_count": 3,
   "id": "68f62639",
   "metadata": {},
   "outputs": [],
   "source": [
    "X = data.drop(columns='цена')\n",
    "Y = data['цена']"
   ]
  },
  {
   "cell_type": "code",
   "execution_count": 4,
   "id": "a144e5af-e0e7-4091-84d1-53ab9f63b5b2",
   "metadata": {},
   "outputs": [
    {
     "data": {
      "text/plain": [
       "Index(['(1933.999, 1948.5]', '(1948.5, 1963.0]', '(1963.0, 1977.5]',\n",
       "       '(1977.5, 1992.0]', '(1992.0, 2006.5]', '(2006.5, 2021.0]',\n",
       "       'Серия_1-335', 'Серия_1-335А', 'Серия_2-68-1-0', 'Серия_335-с',\n",
       "       'Серия_75 ', 'Серия_75.1, 3-75', 'Серия_А-1', 'Серия_Бреж', 'Серия_Инд',\n",
       "       'Серия_Общ', 'Серия_Хрущ', 'Стены_Блочные', 'Стены_Деревянные',\n",
       "       'Стены_Кирпичные', 'Стены_Монолитные', 'Стены_Панельные',\n",
       "       'Адрес_Голиковка', 'Адрес_Древлянка', 'Адрес_Зарека', 'Адрес_Ключевая',\n",
       "       'Адрес_Кукковка', 'Адрес_Октябрьский', 'Адрес_Первомайский',\n",
       "       'Адрес_Перевалка', 'Адрес_Сулажгора', 'Адрес_Центр',\n",
       "       'Балкон_Балкон и лоджия', 'Балкон_Два балкона и более',\n",
       "       'Балкон_Есть балкон', 'Балкон_Лоджия', 'Ремонт_Косметический ремонт',\n",
       "       'Ремонт_Ремонт по дизайн проекту', 'Ремонт_Современный ремонт',\n",
       "       'Ремонт_Требует ремонта', 'Ремонт_Улучшенная черновая отделка',\n",
       "       'Ремонт_Частичный ремонт', 'Ремонт_Черновая отделка',\n",
       "       'Счетчик воды_отсутствует', 'Двор_открытый двор',\n",
       "       'Материал окон_Пластиковые', 'Материал окон_Пластиковые/деревянные',\n",
       "       'гостевой паркинг', 'всего этажей', 'Общая площадь', 'Высота потолков',\n",
       "       'Комнатность', 'подземный паркинг', 'вид на дороги', 'вид на культуру'],\n",
       "      dtype='object')"
      ]
     },
     "execution_count": 4,
     "metadata": {},
     "output_type": "execute_result"
    }
   ],
   "source": [
    "X.columns"
   ]
  },
  {
   "cell_type": "markdown",
   "id": "3408f456-bde0-4018-b53d-80f785a65446",
   "metadata": {},
   "source": [
    "# Постройка baseline модели\n",
    "предсказание средней стоимости квартиры в зависимости от типа квартиры и района.  \n",
    "Потсроенная модель машинного обучения должна быть лучше, чем эта"
   ]
  },
  {
   "cell_type": "markdown",
   "id": "a747a4ed-3e65-441f-adc5-cbe7dd7c6d35",
   "metadata": {},
   "source": [
    "### Преобразование данных в подходящий вид\n",
    "получить dataframe, содержащий предсказанную стоимость в зависимости от типа квартиры и района"
   ]
  },
  {
   "cell_type": "code",
   "execution_count": 5,
   "id": "abd09af2-5cc2-455d-a4bc-f8f90646c596",
   "metadata": {},
   "outputs": [],
   "source": [
    "dummy_x_series = X.filter(regex='Серия')\n",
    "dummy_x_adress = X.filter(regex='Адрес')"
   ]
  },
  {
   "cell_type": "code",
   "execution_count": 6,
   "id": "20b49c70-a989-46ac-9f72-59283f2c2d0f",
   "metadata": {},
   "outputs": [],
   "source": [
    "l = []\n",
    "for col_series in dummy_x_series.columns:\n",
    "    for col_adress in dummy_x_adress:\n",
    "        dummy_data = X.join(Y).groupby([col_series, col_adress], as_index=False)['цена'].mean()\n",
    "        l.append(dummy_data)"
   ]
  },
  {
   "cell_type": "code",
   "execution_count": 7,
   "id": "8635631f-c964-45ba-baf6-8089cc321c54",
   "metadata": {},
   "outputs": [
    {
     "data": {
      "text/html": [
       "<div>\n",
       "<style scoped>\n",
       "    .dataframe tbody tr th:only-of-type {\n",
       "        vertical-align: middle;\n",
       "    }\n",
       "\n",
       "    .dataframe tbody tr th {\n",
       "        vertical-align: top;\n",
       "    }\n",
       "\n",
       "    .dataframe thead th {\n",
       "        text-align: right;\n",
       "    }\n",
       "</style>\n",
       "<table border=\"1\" class=\"dataframe\">\n",
       "  <thead>\n",
       "    <tr style=\"text-align: right;\">\n",
       "      <th></th>\n",
       "      <th>Серия_1-335</th>\n",
       "      <th>Адрес_Голиковка</th>\n",
       "      <th>цена</th>\n",
       "      <th>Адрес_Древлянка</th>\n",
       "      <th>Адрес_Зарека</th>\n",
       "      <th>Адрес_Ключевая</th>\n",
       "      <th>Адрес_Кукковка</th>\n",
       "      <th>Адрес_Октябрьский</th>\n",
       "      <th>Адрес_Первомайский</th>\n",
       "      <th>Адрес_Перевалка</th>\n",
       "      <th>...</th>\n",
       "      <th>Серия_1-335А</th>\n",
       "      <th>Серия_2-68-1-0</th>\n",
       "      <th>Серия_335-с</th>\n",
       "      <th>Серия_75</th>\n",
       "      <th>Серия_75.1, 3-75</th>\n",
       "      <th>Серия_А-1</th>\n",
       "      <th>Серия_Бреж</th>\n",
       "      <th>Серия_Инд</th>\n",
       "      <th>Серия_Общ</th>\n",
       "      <th>Серия_Хрущ</th>\n",
       "    </tr>\n",
       "  </thead>\n",
       "  <tbody>\n",
       "    <tr>\n",
       "      <th>0</th>\n",
       "      <td>0.0</td>\n",
       "      <td>0.0</td>\n",
       "      <td>3111.027613</td>\n",
       "      <td>0.0</td>\n",
       "      <td>0.0</td>\n",
       "      <td>0.0</td>\n",
       "      <td>0.0</td>\n",
       "      <td>0.0</td>\n",
       "      <td>0.0</td>\n",
       "      <td>0.0</td>\n",
       "      <td>...</td>\n",
       "      <td>0.0</td>\n",
       "      <td>0.0</td>\n",
       "      <td>0.0</td>\n",
       "      <td>0.0</td>\n",
       "      <td>0.0</td>\n",
       "      <td>0.0</td>\n",
       "      <td>0.0</td>\n",
       "      <td>0.0</td>\n",
       "      <td>0.0</td>\n",
       "      <td>0.0</td>\n",
       "    </tr>\n",
       "    <tr>\n",
       "      <th>1</th>\n",
       "      <td>0.0</td>\n",
       "      <td>1.0</td>\n",
       "      <td>2756.338462</td>\n",
       "      <td>0.0</td>\n",
       "      <td>0.0</td>\n",
       "      <td>0.0</td>\n",
       "      <td>0.0</td>\n",
       "      <td>0.0</td>\n",
       "      <td>0.0</td>\n",
       "      <td>0.0</td>\n",
       "      <td>...</td>\n",
       "      <td>0.0</td>\n",
       "      <td>0.0</td>\n",
       "      <td>0.0</td>\n",
       "      <td>0.0</td>\n",
       "      <td>0.0</td>\n",
       "      <td>0.0</td>\n",
       "      <td>0.0</td>\n",
       "      <td>0.0</td>\n",
       "      <td>0.0</td>\n",
       "      <td>0.0</td>\n",
       "    </tr>\n",
       "    <tr>\n",
       "      <th>2</th>\n",
       "      <td>1.0</td>\n",
       "      <td>0.0</td>\n",
       "      <td>2871.428571</td>\n",
       "      <td>0.0</td>\n",
       "      <td>0.0</td>\n",
       "      <td>0.0</td>\n",
       "      <td>0.0</td>\n",
       "      <td>0.0</td>\n",
       "      <td>0.0</td>\n",
       "      <td>0.0</td>\n",
       "      <td>...</td>\n",
       "      <td>0.0</td>\n",
       "      <td>0.0</td>\n",
       "      <td>0.0</td>\n",
       "      <td>0.0</td>\n",
       "      <td>0.0</td>\n",
       "      <td>0.0</td>\n",
       "      <td>0.0</td>\n",
       "      <td>0.0</td>\n",
       "      <td>0.0</td>\n",
       "      <td>0.0</td>\n",
       "    </tr>\n",
       "    <tr>\n",
       "      <th>3</th>\n",
       "      <td>0.0</td>\n",
       "      <td>0.0</td>\n",
       "      <td>2926.498947</td>\n",
       "      <td>0.0</td>\n",
       "      <td>0.0</td>\n",
       "      <td>0.0</td>\n",
       "      <td>0.0</td>\n",
       "      <td>0.0</td>\n",
       "      <td>0.0</td>\n",
       "      <td>0.0</td>\n",
       "      <td>...</td>\n",
       "      <td>0.0</td>\n",
       "      <td>0.0</td>\n",
       "      <td>0.0</td>\n",
       "      <td>0.0</td>\n",
       "      <td>0.0</td>\n",
       "      <td>0.0</td>\n",
       "      <td>0.0</td>\n",
       "      <td>0.0</td>\n",
       "      <td>0.0</td>\n",
       "      <td>0.0</td>\n",
       "    </tr>\n",
       "    <tr>\n",
       "      <th>4</th>\n",
       "      <td>0.0</td>\n",
       "      <td>0.0</td>\n",
       "      <td>3776.969072</td>\n",
       "      <td>1.0</td>\n",
       "      <td>0.0</td>\n",
       "      <td>0.0</td>\n",
       "      <td>0.0</td>\n",
       "      <td>0.0</td>\n",
       "      <td>0.0</td>\n",
       "      <td>0.0</td>\n",
       "      <td>...</td>\n",
       "      <td>0.0</td>\n",
       "      <td>0.0</td>\n",
       "      <td>0.0</td>\n",
       "      <td>0.0</td>\n",
       "      <td>0.0</td>\n",
       "      <td>0.0</td>\n",
       "      <td>0.0</td>\n",
       "      <td>0.0</td>\n",
       "      <td>0.0</td>\n",
       "      <td>0.0</td>\n",
       "    </tr>\n",
       "    <tr>\n",
       "      <th>...</th>\n",
       "      <td>...</td>\n",
       "      <td>...</td>\n",
       "      <td>...</td>\n",
       "      <td>...</td>\n",
       "      <td>...</td>\n",
       "      <td>...</td>\n",
       "      <td>...</td>\n",
       "      <td>...</td>\n",
       "      <td>...</td>\n",
       "      <td>...</td>\n",
       "      <td>...</td>\n",
       "      <td>...</td>\n",
       "      <td>...</td>\n",
       "      <td>...</td>\n",
       "      <td>...</td>\n",
       "      <td>...</td>\n",
       "      <td>...</td>\n",
       "      <td>...</td>\n",
       "      <td>...</td>\n",
       "      <td>...</td>\n",
       "      <td>...</td>\n",
       "    </tr>\n",
       "    <tr>\n",
       "      <th>362</th>\n",
       "      <td>0.0</td>\n",
       "      <td>0.0</td>\n",
       "      <td>2934.285714</td>\n",
       "      <td>0.0</td>\n",
       "      <td>0.0</td>\n",
       "      <td>0.0</td>\n",
       "      <td>0.0</td>\n",
       "      <td>0.0</td>\n",
       "      <td>0.0</td>\n",
       "      <td>0.0</td>\n",
       "      <td>...</td>\n",
       "      <td>0.0</td>\n",
       "      <td>0.0</td>\n",
       "      <td>0.0</td>\n",
       "      <td>0.0</td>\n",
       "      <td>0.0</td>\n",
       "      <td>0.0</td>\n",
       "      <td>0.0</td>\n",
       "      <td>0.0</td>\n",
       "      <td>0.0</td>\n",
       "      <td>1.0</td>\n",
       "    </tr>\n",
       "    <tr>\n",
       "      <th>363</th>\n",
       "      <td>0.0</td>\n",
       "      <td>0.0</td>\n",
       "      <td>3000.185687</td>\n",
       "      <td>0.0</td>\n",
       "      <td>0.0</td>\n",
       "      <td>0.0</td>\n",
       "      <td>0.0</td>\n",
       "      <td>0.0</td>\n",
       "      <td>0.0</td>\n",
       "      <td>0.0</td>\n",
       "      <td>...</td>\n",
       "      <td>0.0</td>\n",
       "      <td>0.0</td>\n",
       "      <td>0.0</td>\n",
       "      <td>0.0</td>\n",
       "      <td>0.0</td>\n",
       "      <td>0.0</td>\n",
       "      <td>0.0</td>\n",
       "      <td>0.0</td>\n",
       "      <td>0.0</td>\n",
       "      <td>0.0</td>\n",
       "    </tr>\n",
       "    <tr>\n",
       "      <th>364</th>\n",
       "      <td>0.0</td>\n",
       "      <td>0.0</td>\n",
       "      <td>3725.763636</td>\n",
       "      <td>0.0</td>\n",
       "      <td>0.0</td>\n",
       "      <td>0.0</td>\n",
       "      <td>0.0</td>\n",
       "      <td>0.0</td>\n",
       "      <td>0.0</td>\n",
       "      <td>0.0</td>\n",
       "      <td>...</td>\n",
       "      <td>0.0</td>\n",
       "      <td>0.0</td>\n",
       "      <td>0.0</td>\n",
       "      <td>0.0</td>\n",
       "      <td>0.0</td>\n",
       "      <td>0.0</td>\n",
       "      <td>0.0</td>\n",
       "      <td>0.0</td>\n",
       "      <td>0.0</td>\n",
       "      <td>0.0</td>\n",
       "    </tr>\n",
       "    <tr>\n",
       "      <th>365</th>\n",
       "      <td>0.0</td>\n",
       "      <td>0.0</td>\n",
       "      <td>2718.000000</td>\n",
       "      <td>0.0</td>\n",
       "      <td>0.0</td>\n",
       "      <td>0.0</td>\n",
       "      <td>0.0</td>\n",
       "      <td>0.0</td>\n",
       "      <td>0.0</td>\n",
       "      <td>0.0</td>\n",
       "      <td>...</td>\n",
       "      <td>0.0</td>\n",
       "      <td>0.0</td>\n",
       "      <td>0.0</td>\n",
       "      <td>0.0</td>\n",
       "      <td>0.0</td>\n",
       "      <td>0.0</td>\n",
       "      <td>0.0</td>\n",
       "      <td>0.0</td>\n",
       "      <td>0.0</td>\n",
       "      <td>1.0</td>\n",
       "    </tr>\n",
       "    <tr>\n",
       "      <th>366</th>\n",
       "      <td>0.0</td>\n",
       "      <td>0.0</td>\n",
       "      <td>3475.000000</td>\n",
       "      <td>0.0</td>\n",
       "      <td>0.0</td>\n",
       "      <td>0.0</td>\n",
       "      <td>0.0</td>\n",
       "      <td>0.0</td>\n",
       "      <td>0.0</td>\n",
       "      <td>0.0</td>\n",
       "      <td>...</td>\n",
       "      <td>0.0</td>\n",
       "      <td>0.0</td>\n",
       "      <td>0.0</td>\n",
       "      <td>0.0</td>\n",
       "      <td>0.0</td>\n",
       "      <td>0.0</td>\n",
       "      <td>0.0</td>\n",
       "      <td>0.0</td>\n",
       "      <td>0.0</td>\n",
       "      <td>1.0</td>\n",
       "    </tr>\n",
       "  </tbody>\n",
       "</table>\n",
       "<p>367 rows × 22 columns</p>\n",
       "</div>"
      ],
      "text/plain": [
       "     Серия_1-335  Адрес_Голиковка         цена  Адрес_Древлянка  Адрес_Зарека  \\\n",
       "0            0.0              0.0  3111.027613              0.0           0.0   \n",
       "1            0.0              1.0  2756.338462              0.0           0.0   \n",
       "2            1.0              0.0  2871.428571              0.0           0.0   \n",
       "3            0.0              0.0  2926.498947              0.0           0.0   \n",
       "4            0.0              0.0  3776.969072              1.0           0.0   \n",
       "..           ...              ...          ...              ...           ...   \n",
       "362          0.0              0.0  2934.285714              0.0           0.0   \n",
       "363          0.0              0.0  3000.185687              0.0           0.0   \n",
       "364          0.0              0.0  3725.763636              0.0           0.0   \n",
       "365          0.0              0.0  2718.000000              0.0           0.0   \n",
       "366          0.0              0.0  3475.000000              0.0           0.0   \n",
       "\n",
       "     Адрес_Ключевая  Адрес_Кукковка  Адрес_Октябрьский  Адрес_Первомайский  \\\n",
       "0               0.0             0.0                0.0                 0.0   \n",
       "1               0.0             0.0                0.0                 0.0   \n",
       "2               0.0             0.0                0.0                 0.0   \n",
       "3               0.0             0.0                0.0                 0.0   \n",
       "4               0.0             0.0                0.0                 0.0   \n",
       "..              ...             ...                ...                 ...   \n",
       "362             0.0             0.0                0.0                 0.0   \n",
       "363             0.0             0.0                0.0                 0.0   \n",
       "364             0.0             0.0                0.0                 0.0   \n",
       "365             0.0             0.0                0.0                 0.0   \n",
       "366             0.0             0.0                0.0                 0.0   \n",
       "\n",
       "     Адрес_Перевалка  ...  Серия_1-335А  Серия_2-68-1-0  Серия_335-с  \\\n",
       "0                0.0  ...           0.0             0.0          0.0   \n",
       "1                0.0  ...           0.0             0.0          0.0   \n",
       "2                0.0  ...           0.0             0.0          0.0   \n",
       "3                0.0  ...           0.0             0.0          0.0   \n",
       "4                0.0  ...           0.0             0.0          0.0   \n",
       "..               ...  ...           ...             ...          ...   \n",
       "362              0.0  ...           0.0             0.0          0.0   \n",
       "363              0.0  ...           0.0             0.0          0.0   \n",
       "364              0.0  ...           0.0             0.0          0.0   \n",
       "365              0.0  ...           0.0             0.0          0.0   \n",
       "366              0.0  ...           0.0             0.0          0.0   \n",
       "\n",
       "     Серия_75   Серия_75.1, 3-75  Серия_А-1  Серия_Бреж  Серия_Инд  Серия_Общ  \\\n",
       "0          0.0               0.0        0.0         0.0        0.0        0.0   \n",
       "1          0.0               0.0        0.0         0.0        0.0        0.0   \n",
       "2          0.0               0.0        0.0         0.0        0.0        0.0   \n",
       "3          0.0               0.0        0.0         0.0        0.0        0.0   \n",
       "4          0.0               0.0        0.0         0.0        0.0        0.0   \n",
       "..         ...               ...        ...         ...        ...        ...   \n",
       "362        0.0               0.0        0.0         0.0        0.0        0.0   \n",
       "363        0.0               0.0        0.0         0.0        0.0        0.0   \n",
       "364        0.0               0.0        0.0         0.0        0.0        0.0   \n",
       "365        0.0               0.0        0.0         0.0        0.0        0.0   \n",
       "366        0.0               0.0        0.0         0.0        0.0        0.0   \n",
       "\n",
       "     Серия_Хрущ  \n",
       "0           0.0  \n",
       "1           0.0  \n",
       "2           0.0  \n",
       "3           0.0  \n",
       "4           0.0  \n",
       "..          ...  \n",
       "362         1.0  \n",
       "363         0.0  \n",
       "364         0.0  \n",
       "365         1.0  \n",
       "366         1.0  \n",
       "\n",
       "[367 rows x 22 columns]"
      ]
     },
     "execution_count": 7,
     "metadata": {},
     "output_type": "execute_result"
    }
   ],
   "source": [
    "dummy_df = pd.concat(l).fillna(0)\n",
    "dummy_df.reset_index(drop=True, inplace=True)\n",
    "dummy_df"
   ]
  },
  {
   "cell_type": "markdown",
   "id": "d8cbb100-1f2b-4f09-8800-fed70aafac20",
   "metadata": {},
   "source": [
    "### Получение массива предсказаний цен на квартиры"
   ]
  },
  {
   "cell_type": "code",
   "execution_count": 8,
   "id": "8d5417d3-202e-45bd-8c8f-88ca658977c3",
   "metadata": {},
   "outputs": [],
   "source": [
    "dummy_x = X.filter(regex='Серия|Адрес')\n",
    "dummy_x_y = dummy_x.join(Y)"
   ]
  },
  {
   "cell_type": "code",
   "execution_count": 9,
   "id": "7724a685-da1b-405c-b443-9785ad836e4f",
   "metadata": {},
   "outputs": [],
   "source": [
    "y_dummy = []\n",
    "for idx in dummy_x.index:\n",
    "    flat = dummy_x.loc[idx]\n",
    "    is_dummy_contains_exact_given_flat = (dummy_df[dummy_x.columns] == flat).all(axis=1)\n",
    "    pred_idx = is_dummy_contains_exact_given_flat[is_dummy_contains_exact_given_flat == True].index\n",
    "    dummy_prediction = dummy_df.loc[pred_idx, 'цена'].values[0]\n",
    "    y_dummy.append(dummy_prediction)"
   ]
  },
  {
   "cell_type": "markdown",
   "id": "966f2f33-5f12-4934-839c-a011a1d9d780",
   "metadata": {},
   "source": [
    "### вычисление ошибки"
   ]
  },
  {
   "cell_type": "code",
   "execution_count": 10,
   "id": "f42e6bb4-0b50-4521-b0b8-1fbd9ba17ec2",
   "metadata": {},
   "outputs": [
    {
     "data": {
      "text/plain": [
       "809.4366423673126"
      ]
     },
     "execution_count": 10,
     "metadata": {},
     "output_type": "execute_result"
    }
   ],
   "source": [
    "dummy_mae = mean_absolute_error(y_dummy, Y)\n",
    "dummy_mae"
   ]
  },
  {
   "cell_type": "markdown",
   "id": "c9a1776a-ff5e-46d2-92e8-294fd6bc56b7",
   "metadata": {},
   "source": [
    "### граф частичных остатков"
   ]
  },
  {
   "cell_type": "code",
   "execution_count": 11,
   "id": "ea5f1fa6",
   "metadata": {},
   "outputs": [
    {
     "data": {
      "image/png": "[encoded data removed]",
      "text/plain": [
       "<Figure size 432x288 with 1 Axes>"
      ]
     },
     "metadata": {
      "needs_background": "light"
     },
     "output_type": "display_data"
    }
   ],
   "source": [
    "graph = sns.residplot(x=y_dummy, y=Y)\n"
   ]
  },
  {
   "cell_type": "markdown",
   "id": "e498eef8-c259-4349-8132-7a7b6a956f0d",
   "metadata": {},
   "source": [
    "### Распределение ошибки"
   ]
  },
  {
   "cell_type": "code",
   "execution_count": 12,
   "id": "e6c3e348",
   "metadata": {},
   "outputs": [
    {
     "data": {
      "text/plain": [
       "Text(0.5, 6.79999999999999, 'residuals')"
      ]
     },
     "execution_count": 12,
     "metadata": {},
     "output_type": "execute_result"
    },
    {
     "data": {
      "image/png": "[encoded data removed]",
      "text/plain": [
       "<Figure size 360x360 with 1 Axes>"
      ]
     },
     "metadata": {
      "needs_background": "light"
     },
     "output_type": "display_data"
    }
   ],
   "source": [
    "residuals_dummy = y_dummy - Y\n",
    "sns.displot(residuals_dummy, bins=30, kde=True)\n",
    "plt.xlabel('residuals')"
   ]
  },
  {
   "cell_type": "markdown",
   "id": "503fa534",
   "metadata": {},
   "source": [
    "# Сравнение моделей между собой"
   ]
  },
  {
   "cell_type": "code",
   "execution_count": 13,
   "id": "89bee2d5",
   "metadata": {},
   "outputs": [],
   "source": [
    "metrics = [mean_absolute_error]"
   ]
  },
  {
   "cell_type": "code",
   "execution_count": 14,
   "id": "1a3f7c9d",
   "metadata": {},
   "outputs": [],
   "source": [
    "models = [DecisionTreeRegressor(random_state=STATE),\n",
    "          LinearRegression(), \n",
    "          Lasso(alpha=0.25, random_state=STATE),\n",
    "          Ridge(alpha=0.05, random_state=STATE),\n",
    "          RandomForestRegressor(random_state=STATE),\n",
    "          SGDRegressor(penalty='l2', random_state=STATE),\n",
    "          KNeighborsRegressor(50),\n",
    "          LinearSVR(random_state=STATE)\n",
    "         ]"
   ]
  },
  {
   "cell_type": "code",
   "execution_count": 15,
   "id": "9ee9b68d-3aa4-4546-8feb-0c4dfd7c356a",
   "metadata": {},
   "outputs": [],
   "source": [
    "def compare_model(models, X, Y, metrics):\n",
    "    report = {}\n",
    "    for model in models:\n",
    "        score = cross_val_score(model, X, Y, cv=5)\n",
    "        preds = cross_val_predict(model, X, Y, cv=5)\n",
    "        errors = {}\n",
    "        errors['score'] = score.mean()\n",
    "        for metric in metrics:\n",
    "            error = metric(preds, Y)\n",
    "            errors[metric.__name__] = error\n",
    "        m_name = str(model.__class__)\n",
    "        report[m_name[m_name.rfind('.'):]] = errors\n",
    "    report = pd.DataFrame.from_dict(report)\n",
    "    return report.T.sort_values(by='mean_absolute_error')\n"
   ]
  },
  {
   "cell_type": "code",
   "execution_count": 16,
   "id": "4bf410e7-320f-4b95-9915-4e67a5a93f25",
   "metadata": {},
   "outputs": [
    {
     "data": {
      "text/html": [
       "<div>\n",
       "<style scoped>\n",
       "    .dataframe tbody tr th:only-of-type {\n",
       "        vertical-align: middle;\n",
       "    }\n",
       "\n",
       "    .dataframe tbody tr th {\n",
       "        vertical-align: top;\n",
       "    }\n",
       "\n",
       "    .dataframe thead th {\n",
       "        text-align: right;\n",
       "    }\n",
       "</style>\n",
       "<table border=\"1\" class=\"dataframe\">\n",
       "  <thead>\n",
       "    <tr style=\"text-align: right;\">\n",
       "      <th></th>\n",
       "      <th>score</th>\n",
       "      <th>mean_absolute_error</th>\n",
       "    </tr>\n",
       "  </thead>\n",
       "  <tbody>\n",
       "    <tr>\n",
       "      <th>.RandomForestRegressor'&gt;</th>\n",
       "      <td>8.239187e-01</td>\n",
       "      <td>4.229873e+02</td>\n",
       "    </tr>\n",
       "    <tr>\n",
       "      <th>.Lasso'&gt;</th>\n",
       "      <td>7.557205e-01</td>\n",
       "      <td>4.543098e+02</td>\n",
       "    </tr>\n",
       "    <tr>\n",
       "      <th>.Ridge'&gt;</th>\n",
       "      <td>7.547076e-01</td>\n",
       "      <td>4.574396e+02</td>\n",
       "    </tr>\n",
       "    <tr>\n",
       "      <th>.LinearRegression'&gt;</th>\n",
       "      <td>7.540719e-01</td>\n",
       "      <td>4.581549e+02</td>\n",
       "    </tr>\n",
       "    <tr>\n",
       "      <th>.KNeighborsRegressor'&gt;</th>\n",
       "      <td>7.497773e-01</td>\n",
       "      <td>5.226210e+02</td>\n",
       "    </tr>\n",
       "    <tr>\n",
       "      <th>.DecisionTreeRegressor'&gt;</th>\n",
       "      <td>7.005428e-01</td>\n",
       "      <td>5.380426e+02</td>\n",
       "    </tr>\n",
       "    <tr>\n",
       "      <th>.LinearSVR'&gt;</th>\n",
       "      <td>6.015783e-01</td>\n",
       "      <td>5.561825e+02</td>\n",
       "    </tr>\n",
       "    <tr>\n",
       "      <th>.SGDRegressor'&gt;</th>\n",
       "      <td>-8.720517e+16</td>\n",
       "      <td>3.049762e+11</td>\n",
       "    </tr>\n",
       "  </tbody>\n",
       "</table>\n",
       "</div>"
      ],
      "text/plain": [
       "                                 score  mean_absolute_error\n",
       ".RandomForestRegressor'>  8.239187e-01         4.229873e+02\n",
       ".Lasso'>                  7.557205e-01         4.543098e+02\n",
       ".Ridge'>                  7.547076e-01         4.574396e+02\n",
       ".LinearRegression'>       7.540719e-01         4.581549e+02\n",
       ".KNeighborsRegressor'>    7.497773e-01         5.226210e+02\n",
       ".DecisionTreeRegressor'>  7.005428e-01         5.380426e+02\n",
       ".LinearSVR'>              6.015783e-01         5.561825e+02\n",
       ".SGDRegressor'>          -8.720517e+16         3.049762e+11"
      ]
     },
     "execution_count": 16,
     "metadata": {},
     "output_type": "execute_result"
    }
   ],
   "source": [
    "compare_model(models, X, Y, metrics)"
   ]
  },
  {
   "cell_type": "markdown",
   "id": "ece83240-7d6d-4f31-8180-094d8edda0f5",
   "metadata": {},
   "source": [
    "# Выбираем признаки и сравниваем ещё раз"
   ]
  },
  {
   "cell_type": "code",
   "execution_count": 17,
   "id": "f3bb0089-22b6-4b9a-ae87-e5591d65951c",
   "metadata": {},
   "outputs": [],
   "source": [
    "from sklearn.feature_selection import SelectFromModel, mutual_info_regression\n",
    "from sklearn.linear_model import Lasso\n",
    "selector = SelectFromModel(estimator=Lasso(random_state=STATE, alpha=7)).fit(X, Y)"
   ]
  },
  {
   "cell_type": "code",
   "execution_count": 18,
   "id": "5aa01e22-0d63-4969-8549-10f4fdb4dc09",
   "metadata": {},
   "outputs": [
    {
     "name": "stdout",
     "output_type": "stream",
     "text": [
      "Index(['(1948.5, 1963.0]', '(1963.0, 1977.5]', '(1992.0, 2006.5]',\n",
      "       '(2006.5, 2021.0]', 'Серия_Общ', 'Стены_Деревянные', 'Стены_Кирпичные',\n",
      "       'Стены_Монолитные', 'Адрес_Древлянка', 'Адрес_Зарека', 'Адрес_Ключевая',\n",
      "       'Адрес_Кукковка', 'Адрес_Октябрьский', 'Адрес_Перевалка',\n",
      "       'Адрес_Сулажгора', 'Адрес_Центр', 'Балкон_Есть балкон',\n",
      "       'Ремонт_Косметический ремонт', 'Ремонт_Ремонт по дизайн проекту',\n",
      "       'Ремонт_Современный ремонт', 'Ремонт_Улучшенная черновая отделка',\n",
      "       'Ремонт_Частичный ремонт', 'Счетчик воды_отсутствует',\n",
      "       'Двор_открытый двор', 'Материал окон_Пластиковые', 'гостевой паркинг',\n",
      "       'всего этажей', 'Общая площадь', 'Высота потолков', 'Комнатность'],\n",
      "      dtype='object')\n"
     ]
    }
   ],
   "source": [
    "selected_features = selector.get_support()\n",
    "selected_columns = X.columns[selected_features]\n",
    "print(selected_columns)"
   ]
  },
  {
   "cell_type": "code",
   "execution_count": 19,
   "id": "6c361b71-c928-4373-b6c0-304fca91323f",
   "metadata": {},
   "outputs": [
    {
     "data": {
      "text/html": [
       "<div>\n",
       "<style scoped>\n",
       "    .dataframe tbody tr th:only-of-type {\n",
       "        vertical-align: middle;\n",
       "    }\n",
       "\n",
       "    .dataframe tbody tr th {\n",
       "        vertical-align: top;\n",
       "    }\n",
       "\n",
       "    .dataframe thead th {\n",
       "        text-align: right;\n",
       "    }\n",
       "</style>\n",
       "<table border=\"1\" class=\"dataframe\">\n",
       "  <thead>\n",
       "    <tr style=\"text-align: right;\">\n",
       "      <th></th>\n",
       "      <th>score</th>\n",
       "      <th>mean_absolute_error</th>\n",
       "    </tr>\n",
       "  </thead>\n",
       "  <tbody>\n",
       "    <tr>\n",
       "      <th>.RandomForestRegressor'&gt;</th>\n",
       "      <td>8.160965e-01</td>\n",
       "      <td>4.283339e+02</td>\n",
       "    </tr>\n",
       "    <tr>\n",
       "      <th>.Lasso'&gt;</th>\n",
       "      <td>7.722047e-01</td>\n",
       "      <td>4.398936e+02</td>\n",
       "    </tr>\n",
       "    <tr>\n",
       "      <th>.Ridge'&gt;</th>\n",
       "      <td>7.725196e-01</td>\n",
       "      <td>4.403281e+02</td>\n",
       "    </tr>\n",
       "    <tr>\n",
       "      <th>.LinearRegression'&gt;</th>\n",
       "      <td>7.723807e-01</td>\n",
       "      <td>4.404249e+02</td>\n",
       "    </tr>\n",
       "    <tr>\n",
       "      <th>.DecisionTreeRegressor'&gt;</th>\n",
       "      <td>7.278284e-01</td>\n",
       "      <td>5.139338e+02</td>\n",
       "    </tr>\n",
       "    <tr>\n",
       "      <th>.KNeighborsRegressor'&gt;</th>\n",
       "      <td>7.501816e-01</td>\n",
       "      <td>5.231258e+02</td>\n",
       "    </tr>\n",
       "    <tr>\n",
       "      <th>.LinearSVR'&gt;</th>\n",
       "      <td>5.931036e-01</td>\n",
       "      <td>5.628309e+02</td>\n",
       "    </tr>\n",
       "    <tr>\n",
       "      <th>.SGDRegressor'&gt;</th>\n",
       "      <td>-1.245964e+17</td>\n",
       "      <td>3.210373e+11</td>\n",
       "    </tr>\n",
       "  </tbody>\n",
       "</table>\n",
       "</div>"
      ],
      "text/plain": [
       "                                 score  mean_absolute_error\n",
       ".RandomForestRegressor'>  8.160965e-01         4.283339e+02\n",
       ".Lasso'>                  7.722047e-01         4.398936e+02\n",
       ".Ridge'>                  7.725196e-01         4.403281e+02\n",
       ".LinearRegression'>       7.723807e-01         4.404249e+02\n",
       ".DecisionTreeRegressor'>  7.278284e-01         5.139338e+02\n",
       ".KNeighborsRegressor'>    7.501816e-01         5.231258e+02\n",
       ".LinearSVR'>              5.931036e-01         5.628309e+02\n",
       ".SGDRegressor'>          -1.245964e+17         3.210373e+11"
      ]
     },
     "execution_count": 19,
     "metadata": {},
     "output_type": "execute_result"
    }
   ],
   "source": [
    "compare_model(models, X[selected_columns], Y, metrics)"
   ]
  },
  {
   "cell_type": "markdown",
   "id": "267904e1-9861-44fd-96e2-4ea6f54b0a34",
   "metadata": {},
   "source": [
    "Less columns, and some algorithms show big or smaller error. RFR show best result even some other algorithms got slighly better."
   ]
  },
  {
   "cell_type": "markdown",
   "id": "30f5b789-73fd-4500-8d7f-7858231341ed",
   "metadata": {},
   "source": [
    "## mutual info regression"
   ]
  },
  {
   "cell_type": "code",
   "execution_count": 20,
   "id": "561f6f24-0d05-4479-a8cb-3c2d058fb66f",
   "metadata": {},
   "outputs": [],
   "source": [
    "mir = mutual_info_regression(X,Y,random_state=STATE)"
   ]
  },
  {
   "cell_type": "code",
   "execution_count": 21,
   "id": "0c222286-8b9e-48a3-96a1-9e43f7364c37",
   "metadata": {},
   "outputs": [
    {
     "data": {
      "text/plain": [
       "array([0.00907552, 0.01262269, 0.00708717, 0.05132962, 0.00853851,\n",
       "       0.07118212, 0.00922904, 0.        , 0.        , 0.01945463,\n",
       "       0.02290894, 0.        , 0.        , 0.01646442, 0.12824753,\n",
       "       0.2921939 , 0.0086128 , 0.        , 0.10912704, 0.03568581,\n",
       "       0.02570725, 0.03704354, 0.01112434, 0.05075795, 0.03900096,\n",
       "       0.        , 0.01858412, 0.02553815, 0.00268742, 0.        ,\n",
       "       0.04254443, 0.01883399, 0.        , 0.00302127, 0.04327331,\n",
       "       0.        , 0.02330039, 0.00618287, 0.03627011, 0.0192994 ,\n",
       "       0.03440939, 0.02024971, 0.        , 0.01164495, 0.04209384,\n",
       "       0.        , 0.        , 0.        , 0.16835377, 0.8827404 ,\n",
       "       0.0277573 , 0.38801173, 0.01187933, 0.0095831 , 0.0287954 ])"
      ]
     },
     "execution_count": 21,
     "metadata": {},
     "output_type": "execute_result"
    }
   ],
   "source": [
    "mir"
   ]
  },
  {
   "cell_type": "markdown",
   "id": "a9f611da-0767-4058-91d9-53c48e3aece9",
   "metadata": {},
   "source": [
    "zero values do not say anything about Y"
   ]
  },
  {
   "cell_type": "code",
   "execution_count": 22,
   "id": "dbc2c74f-8e84-48ba-9921-f5f5da1d3034",
   "metadata": {},
   "outputs": [
    {
     "data": {
      "text/html": [
       "<div>\n",
       "<style scoped>\n",
       "    .dataframe tbody tr th:only-of-type {\n",
       "        vertical-align: middle;\n",
       "    }\n",
       "\n",
       "    .dataframe tbody tr th {\n",
       "        vertical-align: top;\n",
       "    }\n",
       "\n",
       "    .dataframe thead th {\n",
       "        text-align: right;\n",
       "    }\n",
       "</style>\n",
       "<table border=\"1\" class=\"dataframe\">\n",
       "  <thead>\n",
       "    <tr style=\"text-align: right;\">\n",
       "      <th></th>\n",
       "      <th>score</th>\n",
       "      <th>mean_absolute_error</th>\n",
       "    </tr>\n",
       "  </thead>\n",
       "  <tbody>\n",
       "    <tr>\n",
       "      <th>.RandomForestRegressor'&gt;</th>\n",
       "      <td>8.228814e-01</td>\n",
       "      <td>4.236895e+02</td>\n",
       "    </tr>\n",
       "    <tr>\n",
       "      <th>.Lasso'&gt;</th>\n",
       "      <td>7.489660e-01</td>\n",
       "      <td>4.513490e+02</td>\n",
       "    </tr>\n",
       "    <tr>\n",
       "      <th>.Ridge'&gt;</th>\n",
       "      <td>7.464708e-01</td>\n",
       "      <td>4.548107e+02</td>\n",
       "    </tr>\n",
       "    <tr>\n",
       "      <th>.LinearRegression'&gt;</th>\n",
       "      <td>7.452173e-01</td>\n",
       "      <td>4.556170e+02</td>\n",
       "    </tr>\n",
       "    <tr>\n",
       "      <th>.KNeighborsRegressor'&gt;</th>\n",
       "      <td>7.500681e-01</td>\n",
       "      <td>5.222954e+02</td>\n",
       "    </tr>\n",
       "    <tr>\n",
       "      <th>.DecisionTreeRegressor'&gt;</th>\n",
       "      <td>6.919181e-01</td>\n",
       "      <td>5.435308e+02</td>\n",
       "    </tr>\n",
       "    <tr>\n",
       "      <th>.LinearSVR'&gt;</th>\n",
       "      <td>6.001231e-01</td>\n",
       "      <td>5.561909e+02</td>\n",
       "    </tr>\n",
       "    <tr>\n",
       "      <th>.SGDRegressor'&gt;</th>\n",
       "      <td>-4.613790e+17</td>\n",
       "      <td>5.264658e+11</td>\n",
       "    </tr>\n",
       "  </tbody>\n",
       "</table>\n",
       "</div>"
      ],
      "text/plain": [
       "                                 score  mean_absolute_error\n",
       ".RandomForestRegressor'>  8.228814e-01         4.236895e+02\n",
       ".Lasso'>                  7.489660e-01         4.513490e+02\n",
       ".Ridge'>                  7.464708e-01         4.548107e+02\n",
       ".LinearRegression'>       7.452173e-01         4.556170e+02\n",
       ".KNeighborsRegressor'>    7.500681e-01         5.222954e+02\n",
       ".DecisionTreeRegressor'>  6.919181e-01         5.435308e+02\n",
       ".LinearSVR'>              6.001231e-01         5.561909e+02\n",
       ".SGDRegressor'>          -4.613790e+17         5.264658e+11"
      ]
     },
     "execution_count": 22,
     "metadata": {},
     "output_type": "execute_result"
    }
   ],
   "source": [
    "bad_idx = np.where(mir <= 0.005)\n",
    "cols_zero_variance = X.columns[bad_idx]\n",
    "compare_model(models, X.drop(columns=cols_zero_variance), Y, metrics)"
   ]
  },
  {
   "cell_type": "markdown",
   "id": "bea9c5db-1fa3-4b4d-b426-367c4e6129c7",
   "metadata": {},
   "source": [
    "# Вывод:\n",
    "Не убираю столбы, использую модель randomForestRegressor"
   ]
  },
  {
   "cell_type": "markdown",
   "id": "b5059d37-2a11-411d-abfc-0cc1f1d930c7",
   "metadata": {},
   "source": [
    "## Model tuning"
   ]
  },
  {
   "cell_type": "code",
   "execution_count": 23,
   "id": "3c5c6c7c-bbfa-4548-8a5e-0fae1997348c",
   "metadata": {},
   "outputs": [
    {
     "name": "stdout",
     "output_type": "stream",
     "text": [
      "Number of physical cores: 4\n"
     ]
    }
   ],
   "source": [
    "import joblib\n",
    "\n",
    "N_CORES = joblib.cpu_count(only_physical_cores=True)\n",
    "print(f\"Number of physical cores: {N_CORES}\")"
   ]
  },
  {
   "cell_type": "code",
   "execution_count": 24,
   "id": "51546e29-a8e2-464c-80a3-e41dea3ccbb7",
   "metadata": {},
   "outputs": [],
   "source": [
    "rfr = RandomForestRegressor(random_state=STATE, n_jobs=N_CORES, criterion='absolute_error')"
   ]
  },
  {
   "cell_type": "code",
   "execution_count": 25,
   "id": "06242c2d-f591-43af-95d5-d7b2c8f2dfa6",
   "metadata": {},
   "outputs": [],
   "source": [
    "params = {\n",
    "    'n_estimators': [177, 150, 200, 300, 500],\n",
    "    'max_depth': [None, 29, 35, 50, 10],\n",
    "    'min_samples_split': [3, 5, 10, 2],\n",
    "    'min_samples_leaf': [1, 5, 10,20],\n",
    "    'max_leaf_nodes': [None, 85, 100, 25],\n",
    "    'random_state' : [STATE],\n",
    "    'max_features' : ['sqrt', 1.0, 0.8,0.9]\n",
    "}"
   ]
  },
  {
   "cell_type": "code",
   "execution_count": 26,
   "id": "a468e004-16e2-4328-92f6-f04395c34dd9",
   "metadata": {},
   "outputs": [],
   "source": [
    "clf = RandomizedSearchCV(rfr, params, random_state=STATE, n_iter=400)"
   ]
  },
  {
   "cell_type": "code",
   "execution_count": 27,
   "id": "9202602a-1aa5-4321-89e0-1bea847e4824",
   "metadata": {},
   "outputs": [
    {
     "name": "stdout",
     "output_type": "stream",
     "text": [
      "time for tuning:  1017.7392246723175\n"
     ]
    }
   ],
   "source": [
    "t1 = time.time()\n",
    "clf.fit(X,Y)\n",
    "t2 = time.time()\n",
    "print('time for tuning: ', t2-t1)"
   ]
  },
  {
   "cell_type": "markdown",
   "id": "87a6aeda-4a3a-4fe4-b400-0aa565752401",
   "metadata": {},
   "source": [
    "# Before tuning"
   ]
  },
  {
   "cell_type": "code",
   "execution_count": 28,
   "id": "bc11d637-e763-4a49-832b-59e1103aa486",
   "metadata": {},
   "outputs": [],
   "source": [
    "model = rfr"
   ]
  },
  {
   "cell_type": "code",
   "execution_count": 29,
   "id": "4413628a",
   "metadata": {},
   "outputs": [
    {
     "data": {
      "text/plain": [
       "0.8217197393567564"
      ]
     },
     "execution_count": 29,
     "metadata": {},
     "output_type": "execute_result"
    }
   ],
   "source": [
    "score = cross_val_score(model, X, Y, cv=5)\n",
    "score.mean()"
   ]
  },
  {
   "cell_type": "code",
   "execution_count": 30,
   "id": "da0bf1e3-e3c7-440e-9175-ea691c47f4f2",
   "metadata": {},
   "outputs": [],
   "source": [
    "preds = cross_val_predict(model, X, Y, cv=5)"
   ]
  },
  {
   "cell_type": "code",
   "execution_count": 31,
   "id": "9bd76e9a",
   "metadata": {},
   "outputs": [
    {
     "name": "stdout",
     "output_type": "stream",
     "text": [
      "mae=  421.1991191709845\n"
     ]
    }
   ],
   "source": [
    "mae = mean_absolute_error(preds, Y)\n",
    "print('mae= ', mae)"
   ]
  },
  {
   "cell_type": "markdown",
   "id": "61a4852d-157b-474c-8280-25b2f3aec5e2",
   "metadata": {},
   "source": [
    "# After tuning"
   ]
  },
  {
   "cell_type": "code",
   "execution_count": 32,
   "id": "e67ad656-41b6-4288-af79-f34fe380779a",
   "metadata": {},
   "outputs": [
    {
     "data": {
      "text/plain": [
       "{'random_state': 42,\n",
       " 'n_estimators': 200,\n",
       " 'min_samples_split': 2,\n",
       " 'min_samples_leaf': 1,\n",
       " 'max_leaf_nodes': None,\n",
       " 'max_features': 'sqrt',\n",
       " 'max_depth': None}"
      ]
     },
     "execution_count": 32,
     "metadata": {},
     "output_type": "execute_result"
    }
   ],
   "source": [
    "clf.best_params_"
   ]
  },
  {
   "cell_type": "markdown",
   "id": "da19720c-a9d7-4fd3-bca1-56ee28ebb500",
   "metadata": {},
   "source": [
    "базовые параметры самые лучшие..."
   ]
  },
  {
   "cell_type": "code",
   "execution_count": 33,
   "id": "29712e9d-a611-49da-b472-ae9958e6fd24",
   "metadata": {},
   "outputs": [],
   "source": [
    "model = RandomForestRegressor(**clf.best_params_)"
   ]
  },
  {
   "cell_type": "code",
   "execution_count": 34,
   "id": "1b8adae3-5fd5-4af6-bf8e-13ab5f476d1e",
   "metadata": {},
   "outputs": [
    {
     "data": {
      "text/plain": [
       "0.8424285969941321"
      ]
     },
     "execution_count": 34,
     "metadata": {},
     "output_type": "execute_result"
    }
   ],
   "source": [
    "score = cross_val_score(model, X, Y, cv=5)\n",
    "score.mean()"
   ]
  },
  {
   "cell_type": "code",
   "execution_count": 35,
   "id": "df8a8535-0be2-4047-b581-6ef6e29d15ac",
   "metadata": {},
   "outputs": [],
   "source": [
    "preds = cross_val_predict(model, X, Y, cv=5)"
   ]
  },
  {
   "cell_type": "code",
   "execution_count": 36,
   "id": "855a3b1c-886d-411d-910f-2401867d94af",
   "metadata": {},
   "outputs": [
    {
     "name": "stdout",
     "output_type": "stream",
     "text": [
      "mae=  425.5311892082682\n"
     ]
    }
   ],
   "source": [
    "mae = mean_absolute_error(preds, Y)\n",
    "print('mae= ', mae)"
   ]
  },
  {
   "cell_type": "markdown",
   "id": "a5aade86-ab73-4cb2-8e9e-23b53b92bb8d",
   "metadata": {},
   "source": [
    "ошибка увеличилась, оставляем базовые параметры  \n",
    "##### Но проверю влияние числа деревьев на ошибку..."
   ]
  },
  {
   "cell_type": "code",
   "execution_count": 37,
   "id": "cb6a96ba-1820-4a10-b321-74883b9db26a",
   "metadata": {},
   "outputs": [],
   "source": [
    "rfr_more_trees = RandomForestRegressor(random_state=STATE, n_jobs=N_CORES, criterion='absolute_error', n_estimators=500)\n"
   ]
  },
  {
   "cell_type": "code",
   "execution_count": 38,
   "id": "40f78802-7cdd-4695-a2c4-f19554aef816",
   "metadata": {},
   "outputs": [
    {
     "data": {
      "text/plain": [
       "0.8225466093790372"
      ]
     },
     "execution_count": 38,
     "metadata": {},
     "output_type": "execute_result"
    }
   ],
   "source": [
    "score = cross_val_score(rfr_more_trees, X, Y, cv=5)\n",
    "score.mean()"
   ]
  },
  {
   "cell_type": "code",
   "execution_count": 39,
   "id": "2a48b58a-698e-4445-8af1-274827170c6a",
   "metadata": {},
   "outputs": [
    {
     "name": "stdout",
     "output_type": "stream",
     "text": [
      "mae=  421.36511744386877\n"
     ]
    }
   ],
   "source": [
    "preds = cross_val_predict(rfr_more_trees, X, Y, cv=5)\n",
    "mae = mean_absolute_error(preds, Y)\n",
    "print('mae= ', mae)"
   ]
  },
  {
   "cell_type": "markdown",
   "id": "35cb1569-a9be-407d-a5ec-2abf377b33dc",
   "metadata": {},
   "source": [
    "##### ...и уменьшение"
   ]
  },
  {
   "cell_type": "code",
   "execution_count": 40,
   "id": "7ba0dbcd-334d-4438-b947-db0de9260ce0",
   "metadata": {},
   "outputs": [
    {
     "name": "stdout",
     "output_type": "stream",
     "text": [
      "mean_score=  0.8225466093790372\n",
      "mae=  421.36511744386877\n"
     ]
    }
   ],
   "source": [
    "rfr_less_trees = RandomForestRegressor(random_state=STATE, n_jobs=N_CORES, criterion='absolute_error', n_estimators=100)\n",
    "score = cross_val_score(rfr_more_trees, X, Y, cv=5)\n",
    "print('mean_score= ', score.mean())\n",
    "preds = cross_val_predict(rfr_more_trees, X, Y, cv=5)\n",
    "mae = mean_absolute_error(preds, Y)\n",
    "print('mae= ', mae)"
   ]
  },
  {
   "cell_type": "markdown",
   "id": "7184ede3-b741-4546-8787-354d2b9807b4",
   "metadata": {},
   "source": [
    "# Вывод:\n",
    "оставляю базовые параметры модели"
   ]
  },
  {
   "cell_type": "markdown",
   "id": "3a59948f-0d98-4396-bdff-44c1677fa3d0",
   "metadata": {},
   "source": [
    "# Финальная оценка работы модели"
   ]
  },
  {
   "cell_type": "code",
   "execution_count": 41,
   "id": "294065a4-b639-412e-89e9-d068bc7710fc",
   "metadata": {},
   "outputs": [],
   "source": [
    "final_model = RandomForestRegressor(random_state=STATE, n_jobs=N_CORES, criterion='absolute_error')"
   ]
  },
  {
   "cell_type": "code",
   "execution_count": 42,
   "id": "f6add2e5-6a9b-4f29-b9b0-8e028bf7277b",
   "metadata": {},
   "outputs": [],
   "source": [
    "preds = cross_val_predict(final_model, X, Y, cv=5)"
   ]
  },
  {
   "cell_type": "markdown",
   "id": "ee6b19ce-6189-47cc-8035-4304a89f3803",
   "metadata": {},
   "source": [
    "# График частичных остатков"
   ]
  },
  {
   "cell_type": "code",
   "execution_count": 43,
   "id": "2e841ac3-1611-429f-8ebe-318d960e2830",
   "metadata": {},
   "outputs": [],
   "source": [
    "residuals = preds - Y"
   ]
  },
  {
   "cell_type": "code",
   "execution_count": 44,
   "id": "3a850b79-cc7f-4262-9eab-97086766946a",
   "metadata": {},
   "outputs": [
    {
     "data": {
      "image/png": "[encoded data removed]",
      "text/plain": [
       "<Figure size 432x288 with 1 Axes>"
      ]
     },
     "metadata": {
      "needs_background": "light"
     },
     "output_type": "display_data"
    }
   ],
   "source": [
    "graph = sns.residplot(x=Y, y=preds)"
   ]
  },
  {
   "cell_type": "markdown",
   "id": "ef6ee2aa-5c14-4ad6-a8af-236181d9c308",
   "metadata": {},
   "source": [
    "по сравнению с предыдущим графиком, здесь наблюдается меньшая дисперсия в данных"
   ]
  },
  {
   "cell_type": "markdown",
   "id": "5fb76f44-b181-4f91-92fc-d9aaa7cde698",
   "metadata": {},
   "source": [
    "### распределение ошибки"
   ]
  },
  {
   "cell_type": "code",
   "execution_count": 45,
   "id": "a0a677b7",
   "metadata": {},
   "outputs": [
    {
     "data": {
      "text/plain": [
       "Text(0.5, 6.79999999999999, 'residuals')"
      ]
     },
     "execution_count": 45,
     "metadata": {},
     "output_type": "execute_result"
    },
    {
     "data": {
      "image/png": "[encoded data removed]",
      "text/plain": [
       "<Figure size 360x360 with 1 Axes>"
      ]
     },
     "metadata": {
      "needs_background": "light"
     },
     "output_type": "display_data"
    }
   ],
   "source": [
    "sns.displot(residuals, bins=30, kde=True)\n",
    "plt.xlabel('residuals')"
   ]
  },
  {
   "cell_type": "markdown",
   "id": "92930ea4-23cf-45c1-bea5-0d03bbbd04bb",
   "metadata": {},
   "source": [
    "среднее в нуле, график имеет нормальную форму, закономерности в ошибке не обнаружено"
   ]
  },
  {
   "cell_type": "markdown",
   "id": "0c552065-f97a-4179-8f09-27d8cac7441d",
   "metadata": {},
   "source": [
    "# Сравнение стоимости жилья, истинных цен и предсказанных"
   ]
  },
  {
   "cell_type": "code",
   "execution_count": 46,
   "id": "e72aab5a-a499-4d65-bfda-9457fa78be3b",
   "metadata": {},
   "outputs": [
    {
     "data": {
      "text/plain": [
       "array([2390.,  920., 3250., 3590., 4500., 2550., 3000.,  800., 4700.,\n",
       "       2970., 4000., 2450.,  570., 4200., 1190., 2700., 1999., 3200.,\n",
       "       5500.,  649., 4000., 2350.,  590.,  700.,  990.])"
      ]
     },
     "execution_count": 46,
     "metadata": {},
     "output_type": "execute_result"
    }
   ],
   "source": [
    "Y.iloc[:25].values"
   ]
  },
  {
   "cell_type": "code",
   "execution_count": 47,
   "id": "2a67e4c1-bfd7-4acf-9e0b-1bf13c616820",
   "metadata": {},
   "outputs": [
    {
     "data": {
      "text/plain": [
       "array([2498.28,  645.98, 3802.76, 3299.12, 5116.53, 3604.12, 3348.  ,\n",
       "        857.42, 5121.14, 3366.69, 4005.67, 2507.71,  628.67, 4238.32,\n",
       "       2416.63, 2304.98, 1525.6 , 3959.54, 5851.44,  615.6 , 3502.29,\n",
       "       2473.23,  661.66,  777.49, 1093.  ])"
      ]
     },
     "execution_count": 47,
     "metadata": {},
     "output_type": "execute_result"
    }
   ],
   "source": [
    "preds[:25]"
   ]
  },
  {
   "cell_type": "code",
   "execution_count": 48,
   "id": "f82aa2f3-bc5b-4650-adc1-545ff1c8f007",
   "metadata": {},
   "outputs": [
    {
     "data": {
      "text/plain": [
       "Text(0.5, 1.0, 'mae comparation(lower is better)')"
      ]
     },
     "execution_count": 48,
     "metadata": {},
     "output_type": "execute_result"
    },
    {
     "data": {
      "image/png": "[encoded data removed]",
      "text/plain": [
       "<Figure size 432x288 with 1 Axes>"
      ]
     },
     "metadata": {
      "needs_background": "light"
     },
     "output_type": "display_data"
    }
   ],
   "source": [
    "sns.barplot(x=['model', 'naive'], y=[mae, dummy_mae])\n",
    "plt.title('mae comparation(lower is better)')"
   ]
  },
  {
   "cell_type": "markdown",
   "id": "09f926de-ad26-419f-b6bd-f79e82df9325",
   "metadata": {},
   "source": [
    "### результаты модели лучше, чем у наивного подхода"
   ]
  },
  {
   "cell_type": "markdown",
   "id": "013ac3f4-1b97-46bc-9076-701102a47dfd",
   "metadata": {},
   "source": [
    "## Save model"
   ]
  },
  {
   "cell_type": "code",
   "execution_count": 49,
   "id": "bd65528c",
   "metadata": {},
   "outputs": [],
   "source": [
    "import pickle"
   ]
  },
  {
   "cell_type": "code",
   "execution_count": 53,
   "id": "d166ff07",
   "metadata": {},
   "outputs": [
    {
     "data": {
      "text/plain": [
       "RandomForestRegressor(criterion='absolute_error', n_jobs=4, random_state=42)"
      ]
     },
     "execution_count": 53,
     "metadata": {},
     "output_type": "execute_result"
    }
   ],
   "source": [
    "final_model.fit(X, Y)"
   ]
  },
  {
   "cell_type": "code",
   "execution_count": 54,
   "id": "fad12059",
   "metadata": {},
   "outputs": [],
   "source": [
    "with open(\"model.pkl\", \"wb\") as f:\n",
    "    pickle.dump(final_model, f)"
   ]
  },
  {
   "cell_type": "markdown",
   "id": "62e6d734-8c9e-438f-bad9-02dca7cd966e",
   "metadata": {},
   "source": [
    "# Выводы для улучшения результата\n",
    "Для дальнейшего улучшения результата необходимо больше данных. Всё-таки, менее 600 квартир - это довольно мало"
   ]
  }
 ],
 "metadata": {
  "kernelspec": {
   "display_name": "Python 3 (ipykernel)",
   "language": "python",
   "name": "python3"
  },
  "language_info": {
   "codemirror_mode": {
    "name": "ipython",
    "version": 3
   },
   "file_extension": ".py",
   "mimetype": "text/x-python",
   "name": "python",
   "nbconvert_exporter": "python",
   "pygments_lexer": "ipython3",
   "version": "3.8.10"
  }
 },
 "nbformat": 4,
 "nbformat_minor": 5
}
